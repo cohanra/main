{
  "nbformat": 4,
  "nbformat_minor": 0,
  "metadata": {
    "colab": {
      "name": "Bio.PDB.ipynb",
      "private_outputs": true,
      "provenance": [],
      "collapsed_sections": [],
      "authorship_tag": "ABX9TyMk/Nn6ZmnQAzaJJpqHKv8I",
      "include_colab_link": true
    },
    "kernelspec": {
      "name": "python3",
      "display_name": "Python 3"
    },
    "language_info": {
      "name": "python"
    }
  },
  "cells": [
    {
      "cell_type": "markdown",
      "metadata": {
        "id": "view-in-github",
        "colab_type": "text"
      },
      "source": [
        "<a href=\"https://colab.research.google.com/github/cohanra/main/blob/main/Bio_PDB.ipynb\" target=\"_parent\"><img src=\"https://colab.research.google.com/assets/colab-badge.svg\" alt=\"Open In Colab\"/></a>"
      ]
    },
    {
      "cell_type": "markdown",
      "metadata": {
        "id": "MydqoT86xRh9"
      },
      "source": [
        "<div dir=rtl> <p> <h1> <b> کار با ساختارهای سه بعدی پروتئین در پایتون </b> </h1> </p>"
      ]
    },
    {
      "cell_type": "markdown",
      "metadata": {
        "id": "oN7b0NfwvKuu"
      },
      "source": [
        "<div dir=rtl> <p> Bio.PDB یک ماژول Biopython است که با استفاده از آن می توان با ساختارهای بلوری ماکرومولکول های بیولوژیکی کار کرد. Bio.PDB دارای یک کلاس PDBParser است که یک شی ساختار را تولید می کند و با استفاده از آن می توان به داده های اتمی موجود در فایل شیء براحتی دسترسی پیدا کرد. </p>"
      ]
    },
    {
      "cell_type": "markdown",
      "metadata": {
        "id": "vVg0Xw3f4uqC"
      },
      "source": [
        "<div dir=rtl> <p> <h1> نمایش ساختار سه بعدی پروتئین ها"
      ]
    },
    {
      "cell_type": "markdown",
      "metadata": {
        "id": "qLHEN9aL47fH"
      },
      "source": [
        " <div dir=rtl> - طرح کلی یک شی ساختار از معماری به اصطلاح SMCRA (ساختار=> مدل => زنجیره => مانده => اتم) پیروی می کند:\n",
        "\n",
        "\n",
        "* یک ساختار از مدل ها تشکیل شده است.\n",
        "* یک مدل متشکل از زنجیره ها است.\n",
        "* یک زنجیره از باقی مانده ها تشکیل شده است.\n",
        "* یک باقی مانده از اتم ها تشکیل شده است.\n",
        "\n"
      ]
    },
    {
      "cell_type": "markdown",
      "metadata": {
        "id": "ePsVlq6Y9iWX"
      },
      "source": [
        "![SMCRA.png](data:image/png;base64,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)"
      ]
    },
    {
      "cell_type": "markdown",
      "metadata": {
        "id": "lOJumyu4tGMJ"
      },
      "source": [
        "<div dir=rtl> <p> شی ساختار در بالای سلسله مراتب قرار دارد. این روشی است که بسیاری از زیست شناسان ساختاری / بیوانفورماتیسین ها درباره ساختار می اندیشند و روشی ساده اما کارآمد را برای کار با ساختار ارائه می دهد. ساختار، مدل، زنجیره و باقی مانده همه زیر کلاس های کلاس پایه Entity هستند. </p>"
      ]
    },
    {
      "cell_type": "markdown",
      "metadata": {
        "id": "TxkiPRck0_PH"
      },
      "source": [
        "<div dir=rtl> <h1> نصب بسته Biopython"
      ]
    },
    {
      "cell_type": "markdown",
      "metadata": {
        "id": "A5nVAHpnxiDg"
      },
      "source": [
        "<div dir =rtl><p> ابتدا Biopython را بر روی سیستم خود نصب می کنیم. </p></div>"
      ]
    },
    {
      "cell_type": "code",
      "metadata": {
        "id": "_QV57WXOcG_F"
      },
      "source": [
        "pip install Bio"
      ],
      "execution_count": null,
      "outputs": []
    },
    {
      "cell_type": "markdown",
      "metadata": {
        "id": "wpDUjWtsyOkW"
      },
      "source": [
        "<div dir =rtl>برای آنکه مطمئن شویم که بسته درست نصب شده است نسخه آن را با کد زیر بررسی می کنیم:"
      ]
    },
    {
      "cell_type": "code",
      "metadata": {
        "id": "8jQI8M2ycLGu"
      },
      "source": [
        "import Bio\n",
        "print(Bio.__version__)"
      ],
      "execution_count": null,
      "outputs": []
    },
    {
      "cell_type": "markdown",
      "metadata": {
        "id": "KlWsEUsY0lOP"
      },
      "source": [
        "<div dir=rtl> <h1> خواندن فایل های PDB"
      ]
    },
    {
      "cell_type": "markdown",
      "metadata": {
        "id": "jUEGiEzmjXTE"
      },
      "source": [
        "<div dir=rtl>برای تجزیه تحلیل فایل های PDB پروتئین ابتدا یک شی PDBParser ایجاد می کنیم:"
      ]
    },
    {
      "cell_type": "code",
      "metadata": {
        "id": "uCazOJMXegz2"
      },
      "source": [
        "from Bio.PDB.PDBParser import PDBParser\n",
        "parser = PDBParser(PERMISSIVE=1)"
      ],
      "execution_count": null,
      "outputs": []
    },
    {
      "cell_type": "markdown",
      "metadata": {
        "id": "gsW7dY06lgZV"
      },
      "source": [
        "<div dir=rtl> آرگومان PERMISSIVE مشکلات رایج مرتبط با فایل های PDB را نادیده می گیرد. اما توجه داشته باشید در این حالت برخی از اتم ها و یا باقی مانده ها از دست خواهند رفت."
      ]
    },
    {
      "cell_type": "markdown",
      "metadata": {
        "id": "KdM1SAEZmKnb"
      },
      "source": [
        "<div dir=rtl> سپس با معرفی فایل سه بعدی پروتئین به شی PD PDBParser ، یک فایل تجزیه کننده PDB  ایجاد می شود. فایل در مثال حاضر fat.pdb نام دارد."
      ]
    },
    {
      "cell_type": "markdown",
      "metadata": {
        "id": "r8GKMAsWUjlP"
      },
      "source": [
        "<div dir=rtl> ابتدا فایل سه بعدی پروتئین را دانلود می کنیم:"
      ]
    },
    {
      "cell_type": "code",
      "metadata": {
        "id": "h6ZauCI6WmzP"
      },
      "source": [
        "!wget \"https://raw.githubusercontent.com/cohanra/main/main/1fat.pdb\""
      ],
      "execution_count": null,
      "outputs": []
    },
    {
      "cell_type": "markdown",
      "metadata": {
        "id": "Qdn_z88mVCKR"
      },
      "source": [
        "<div dir=rtl> سپس فایل شی ساختار را با استفاده از PDBparser ایجاد می نماییم:"
      ]
    },
    {
      "cell_type": "code",
      "metadata": {
        "id": "PUKt1XT_ejn8"
      },
      "source": [
        "structure_id = \"1fat\"\n",
        "filename = \"1fat.pdb\"\n",
        "structure = parser.get_structure(structure_id, filename)"
      ],
      "execution_count": null,
      "outputs": []
    },
    {
      "cell_type": "markdown",
      "metadata": {
        "id": "-7L5NZHhplD6"
      },
      "source": [
        "<DIV DIR=RTL> فایل شی ساختار دارای صفتی به نام header است که در واقع یک دیکشنری پایتون است که حاوی رکوردهای سرصفحه و مقادیر آنها می باشد."
      ]
    },
    {
      "cell_type": "code",
      "metadata": {
        "id": "hK7fgiFcoaLC"
      },
      "source": [
        "header_dict=structure.header\n",
        "header_dict"
      ],
      "execution_count": null,
      "outputs": []
    },
    {
      "cell_type": "markdown",
      "metadata": {
        "id": "CBwyI466sluT"
      },
      "source": [
        "<div dir=rtl> <p> کلیدهای موجود عبارتند از: </p>\n",
        "<div dir=ltr> <p> \n",
        "\n",
        "* head </n> </p>\n",
        "* deposition_date </n> </p>\n",
        "* release_date </n> </p>\n",
        "* structure_method </n> </p>\n",
        "* resolution </n> </p>\n",
        "* structure_reference </n> </p>\n",
        "* journal_reference </n> </p>\n",
        "* author </n> </p>\n",
        "* compound </n> </p>\n",
        "* has_missing_residues </n> </p>\n",
        "* missing_residues </n> </p>"
      ]
    },
    {
      "cell_type": "markdown",
      "metadata": {
        "id": "Zwh6IKEAuoZR"
      },
      "source": [
        "<div dir=rtl> می توانیم هر یک از اطلاعات ذخیره شده در سر صفحه فایل PDB را با استفاده از ایندکس کردن بدست آوریم:"
      ]
    },
    {
      "cell_type": "code",
      "metadata": {
        "id": "9vr0hUhuesac"
      },
      "source": [
        "resolution = structure.header[\"resolution\"]\n",
        "resolution"
      ],
      "execution_count": null,
      "outputs": []
    },
    {
      "cell_type": "code",
      "metadata": {
        "id": "vnn5U2RzexA1"
      },
      "source": [
        "keywords = structure.header[\"keywords\"]\n",
        "keywords"
      ],
      "execution_count": null,
      "outputs": []
    },
    {
      "cell_type": "code",
      "metadata": {
        "id": "z6pdpUvMv-sY"
      },
      "source": [
        "head = structure.header[\"head\"]\n",
        "head"
      ],
      "execution_count": null,
      "outputs": []
    },
    {
      "cell_type": "markdown",
      "metadata": {
        "id": "qsrnESWYvPTh"
      },
      "source": [
        "<div dir=rtl> این دیکشنری همچنین می تواند بدون ایجاد یک شیء ساختار، مستقیماً از فایل PDB با استفاده از کد زیر بدست آید:"
      ]
    },
    {
      "cell_type": "code",
      "metadata": {
        "id": "oWx7K95ve96E"
      },
      "source": [
        "from Bio.PDB import parse_pdb_header\n",
        "with open(filename, \"r\") as handle:\n",
        " header_dict = parse_pdb_header(handle)"
      ],
      "execution_count": null,
      "outputs": []
    },
    {
      "cell_type": "code",
      "metadata": {
        "id": "Pa3OTugzftqc"
      },
      "source": [
        "header_dict"
      ],
      "execution_count": null,
      "outputs": []
    },
    {
      "cell_type": "markdown",
      "metadata": {
        "id": "R2JvbsOsxOkw"
      },
      "source": [
        "<div dir=rtl> <h1> نوشتن فایل های PDB"
      ]
    },
    {
      "cell_type": "markdown",
      "metadata": {
        "id": "hOR8-8j_1yKf"
      },
      "source": [
        "<div dir=rtl> برای این کار از کلاس PDBIO استفاده می کنیم."
      ]
    },
    {
      "cell_type": "code",
      "metadata": {
        "id": "US_p0znlfvrU"
      },
      "source": [
        "from Bio.PDB import PDBParser\n",
        "from Bio.PDB.PDBIO import PDBIO\n",
        "parser = PDBParser()\n",
        "structure = parser.get_structure(\"1fat\", \"1fat.pdb\")\n",
        "io=PDBIO()\n",
        "io.set_structure(structure)\n",
        "io.save(\"out.pdb\")"
      ],
      "execution_count": null,
      "outputs": []
    },
    {
      "cell_type": "markdown",
      "metadata": {
        "id": "zch0I0fD5BAX"
      },
      "source": [
        "<div dir=rtl> البته نوشتن قسمت های خاصی از یک ساختار نیز با استفاده از ()PDBIO امکان پذیر است. مثلا استخراج اطلاعات مربوط به باقیمانده گلایسین به روش زیر انجام می گیرد:"
      ]
    },
    {
      "cell_type": "code",
      "metadata": {
        "id": "YU2wpJHBAXgc"
      },
      "source": [
        "Select = Bio.PDB.Select\n",
        "class GlySelect(Select):\n",
        "    def accept_residue(self, residue):\n",
        "        if residue.get_resname() == \"GLY\":\n",
        "            return 1\n",
        "        else:\n",
        "            return 0\n",
        "\n",
        "io = PDBIO()\n",
        "io.set_structure(structure)\n",
        "io.save(\"gly_only.pdb\", GlySelect())"
      ],
      "execution_count": null,
      "outputs": []
    },
    {
      "cell_type": "markdown",
      "metadata": {
        "id": "EpLjkQp6LTPy"
      },
      "source": [
        "<div dir=rtl> برای دستیابی به قسمت های مختلف PDB می توانید از کدهای زیر استفاده نمایید:\n",
        "<div dir=ltr>\n",
        "\n",
        "* accept_model(model) </P>\n",
        "* accept_chain(chain) </p>\n",
        "* accept_residue(residue)</p>\n",
        "* accept_atom(atom)"
      ]
    },
    {
      "cell_type": "markdown",
      "metadata": {
        "id": "X-KvzXTpNez4"
      },
      "source": [
        "<div dir=rtl> مثلا برای دستیابی به زنجیره خاصی از PDB ابتدا کلاس ChainSelect را ایجاد می نماییم و سپس با استفاده از ()PDBIO آن را به صورت فایل PDB می نویسیم:"
      ]
    },
    {
      "cell_type": "code",
      "metadata": {
        "id": "GGfblaTtGNhB"
      },
      "source": [
        "Select = Bio.PDB.Select\n",
        "class ChainSelect(Select):\n",
        "    def accept_chain(self, chain):\n",
        "        if chain.get_id() == \"A\":\n",
        "            return 1\n",
        "        else:\n",
        "            return 0\n",
        "\n",
        "io = PDBIO()\n",
        "io.set_structure(structure)\n",
        "io.save(\"ChainA_only.pdb\", ChainSelect())"
      ],
      "execution_count": null,
      "outputs": []
    },
    {
      "cell_type": "markdown",
      "metadata": {
        "id": "Wf1bVxrOOWND"
      },
      "source": [
        "<div dir=rtl> مثلا برای دستیابی به اتم خاصی از PDB ابتدا کلاس AtomSelect را ایجاد می نماییم و سپس با استفاده از ()PDBIO آن را به صورت فایل PDB می نویسیم:"
      ]
    },
    {
      "cell_type": "code",
      "metadata": {
        "id": "7iw9OPhRMvYZ"
      },
      "source": [
        "Select = Bio.PDB.Select\n",
        "class AtomSelect(Select):\n",
        "    def accept_atom(self, atom):\n",
        "        if atom.get_name() == \"CA\":\n",
        "            return 1\n",
        "        else:\n",
        "            return 0\n",
        "\n",
        "io = PDBIO()\n",
        "io.set_structure(structure)\n",
        "io.save(\"CA_only.pdb\", AtomSelect())"
      ],
      "execution_count": null,
      "outputs": []
    },
    {
      "cell_type": "markdown",
      "metadata": {
        "id": "HT086lZ-Tyyh"
      },
      "source": [
        "<div dir=rtl> <h1>پیمایش از طریق یک شی ساختار:"
      ]
    },
    {
      "cell_type": "markdown",
      "metadata": {
        "id": "g2E4vJuXT_tO"
      },
      "source": [
        "<div dir=rtl> با استفاده از کد زیر یک فایل PDB را می توان تجزیه نمود و اطلاعات برخی از مدل ها، زنجیره ها، باقیمانده ها و یا اتم ها را استخراج کرد:"
      ]
    },
    {
      "cell_type": "code",
      "metadata": {
        "id": "FmGL66OXOoMA"
      },
      "source": [
        "from Bio.PDB.PDBParser import PDBParser\n",
        "parser = PDBParser()\n",
        "structure = parser.get_structure(\"1fat\", \"1fat.pdb\")\n",
        "model = structure[0]\n",
        "chain = model[\"A\"]\n",
        "residue = chain[1]\n",
        "atom = residue[\"CA\"]\n",
        "print(model,chain,residue,atom)"
      ],
      "execution_count": null,
      "outputs": []
    },
    {
      "cell_type": "markdown",
      "metadata": {
        "id": "wj2jfxyHAmf5"
      },
      "source": [
        "<div dir=rtl> <h2> مدل"
      ]
    },
    {
      "cell_type": "markdown",
      "metadata": {
        "id": "jW9tBhUu-C6m"
      },
      "source": [
        "<div dir=rtl> برای بدست آوردن اولین مدل از یک شی Structure، از کد زیر استفاده کنید:"
      ]
    },
    {
      "cell_type": "code",
      "metadata": {
        "id": "Ah4lBhD7o8-_"
      },
      "source": [
        "first_model = structure[0]\n",
        "first_model"
      ],
      "execution_count": null,
      "outputs": []
    },
    {
      "cell_type": "markdown",
      "metadata": {
        "id": "KhW_E_Pl-7uO"
      },
      "source": [
        "<div dir=rtl> <p> نکته: ساختار شامل تعدادی مدل است. بیشتر ساختارهای بلوری حاصل از پراکنش اشعه X (اما نه همه) حاوی یک مدل واحد هستند، در حالی که ساختارهای NMR معمولاً از چندین مدل تشکیل شده اند. اختلال در ساختارهای بلوری نیز می تواند منجر به چندین مدل شود."
      ]
    },
    {
      "cell_type": "markdown",
      "metadata": {
        "id": "m63_ugG7AvSl"
      },
      "source": [
        "<div dir=rtl> <h2> زنجیره"
      ]
    },
    {
      "cell_type": "markdown",
      "metadata": {
        "id": "a8w1ZHow_TDI"
      },
      "source": [
        "<div dir=rtl> شناسه یک شی زنجیره (chain)، از شناسه زنجیره موجود در فایل PDB مشتق شده است و یک کاراکتر واحد است (به طور معمول یک حرف). هر زنجیره در یک شی مدل یک شناسه منحصر به فرد دارد. به عنوان مثال ، برای دریافت شی Chain با شناسه \"A\" از یک شی مدل، از کد زیر استفاده کنید:"
      ]
    },
    {
      "cell_type": "code",
      "metadata": {
        "id": "vv9nqHWRAG0e"
      },
      "source": [
        "chain.get_id()"
      ],
      "execution_count": null,
      "outputs": []
    },
    {
      "cell_type": "markdown",
      "metadata": {
        "id": "B0HBAFV9A7zx"
      },
      "source": [
        "<div dir=rtl> <h2> باقیمانده"
      ]
    },
    {
      "cell_type": "markdown",
      "metadata": {
        "id": "LV12JdEbBDC5"
      },
      "source": [
        "<div dir=rtl> شناسه باقیمانده یک تاپل با سه عنصر است:\n",
        "\n",
        "\n",
        "1.  hetfield: علامت \"W\" در مورد یک مولکول آب، علامت \"H_\" و به دنبال آن نام باقی مانده برای سایر باقیمانده های هترو (به عنوان مثال \"H_GLC\" در مورد یک مولکول گلوکز) و علامت خالی برای اسیدهای آمینه و اسیدهای نوکلئیک استاندارد.\n",
        "2. شناسه توالی (resseq): یک عدد صحیح است که موقعیت باقیمانده را در زنجیره توصیف می کند (به عنوان مثال: 100).\n",
        "3. کد درج (icode): گاهی اوقات از کد درج برای حفظ یک طرح شماره گذاری باقیمانده مطلوب استفاده می شود. یک جهش درج کننده Ser 80 (وارد شده به عنوان مثال بین Thr 80 و باقی مانده Asn 81) می تواند به عنوان مثال دارای شناسه های توالی و کدهای درج به شرح زیر است: Thr 80 A، Ser 80 B، Asn 81. به این ترتیب ، طرح شماره گذاری بقایا با ساختار نوع اولیه هماهنگ می ماند.\n",
        "\n"
      ]
    },
    {
      "cell_type": "code",
      "metadata": {
        "id": "cHPu0s-UT2I3"
      },
      "source": [
        "residue=chain[(\" \", 100, \" \")]\n",
        "residue"
      ],
      "execution_count": null,
      "outputs": []
    },
    {
      "cell_type": "markdown",
      "metadata": {
        "id": "qePIzbSriMjp"
      },
      "source": [
        "<div dir=rtl> در تمام سطوح سلسله مراتب SMCRA، می توانید یک شناسه کامل نیز استخراج کنید. شناسه کامل یک تاپل است که تمام شناسه ها را از شی بالا (ساختار) تا شی فعلی شروع می کند. شناسه کامل برای یک شی Residue به عنوان مثال چیزی شبیه به این است:"
      ]
    },
    {
      "cell_type": "code",
      "metadata": {
        "id": "i_5lLywzolEI"
      },
      "source": [
        "full_id = residue.get_full_id()\n",
        "full_id"
      ],
      "execution_count": null,
      "outputs": []
    },
    {
      "cell_type": "markdown",
      "metadata": {
        "id": "NKyvIYygilqB"
      },
      "source": [
        "<div dir=rtl> که در این مورد تاپل حاصله مربوط به موارد زیر است:\n",
        "\n",
        "<p> ساختار با شناسه \"1fat\"\n",
        "\n",
        "مدل با شناسه 0\n",
        "\n",
        "زنجیره ای با شناسه \"A\"\n",
        "\n",
        "باقمانده با شناسه (\"\" ، 100 ، \"\")"
      ]
    },
    {
      "cell_type": "markdown",
      "metadata": {
        "id": "STrY0M3IjnGy"
      },
      "source": [
        "<div dir=rtl> شما همچنین می توانید با استفاده از کد زیر باقیمانده 10 را در متغیر res10 بازیابی و ذخیره نمایید:"
      ]
    },
    {
      "cell_type": "code",
      "metadata": {
        "id": "zE6P0yEDjiOq"
      },
      "source": [
        "res10 = chain[10]\n",
        "res10"
      ],
      "execution_count": null,
      "outputs": []
    },
    {
      "cell_type": "markdown",
      "metadata": {
        "id": "L9ZxXOaEmqdJ"
      },
      "source": [
        "<div dir=rtl> کد زیر نام باقیمانده را بر می گرداند:"
      ]
    },
    {
      "cell_type": "code",
      "metadata": {
        "id": "30FGYFwHmXCi"
      },
      "source": [
        "res10.get_resname()"
      ],
      "execution_count": null,
      "outputs": []
    },
    {
      "cell_type": "markdown",
      "metadata": {
        "id": "6DPW4mosnEAi"
      },
      "source": [
        "<div dir=rtl> ساختارهای disordered، ساختارهای فقدان نظم را نشان می دهند. به عنوان مثال، در یک باقیمانده ممکن است یک اتم به طور تصادفی بین دو مختصات فضایی توزیع شود. این بدان معناست که بلورساز دو مجموعه مختصات را برای آن اتم گزارش می کند. در برخی موارد، دو مختصات به طور مساوی اشغال می شوند. در موارد دیگر، یک مختصات بیشتر و یک مختصات کمتر اشغال می شوند. اختلال می تواند بیش از دو مکان را درگیر کند و همچنین می تواند یک مولکول کامل را درگیر کند.\n",
        "<div dir=rtl>کد زیر اگر باقیمانده دارای اتمهای نامنظم (یا به اصطلاح disordered) باشد، عدد یک و در غیر اینصورت عدد صفر را برمی گرداند:"
      ]
    },
    {
      "cell_type": "code",
      "metadata": {
        "id": "-jLQ2GQanFzZ"
      },
      "source": [
        "res10.is_disordered()"
      ],
      "execution_count": null,
      "outputs": []
    },
    {
      "cell_type": "markdown",
      "metadata": {
        "id": "z_aksNVCjTqe"
      },
      "source": [
        "<div dir=rtl>شما می توانید با استفاده از کد زیر لیست تمام باقیمانده های یک ساختار را بدست آورید:"
      ]
    },
    {
      "cell_type": "code",
      "metadata": {
        "id": "Hgsp4g-KVl6e"
      },
      "source": [
        "residues = model.get_residues()\n",
        "for residue in residues:\n",
        "   print(residue)"
      ],
      "execution_count": null,
      "outputs": []
    },
    {
      "cell_type": "markdown",
      "metadata": {
        "id": "stDBT9ljq3ub"
      },
      "source": [
        "<div dir=rtl> <h1> اتم"
      ]
    },
    {
      "cell_type": "markdown",
      "metadata": {
        "id": "8Ih-smibrbWK"
      },
      "source": [
        "<div dir=rtl> شیء Atom داده های مرتبط با یک اتم را ذخیره می کند و زیر مجموعه ای ندارد. شناسه یک اتم، نام آن اتم است (به عنوان مثال \"OG\" برای اکسیژن زنجیره جانبی باقیمانده سرین). شناسه Atom باید در یک Residue منحصر به فرد باشد."
      ]
    },
    {
      "cell_type": "markdown",
      "metadata": {
        "id": "ycD6H6vtsciy"
      },
      "source": [
        "<div dir=rtl> با استفاده از ایندکس نمودن، اتم مورد نظر را انتخاب می کنیم:"
      ]
    },
    {
      "cell_type": "code",
      "metadata": {
        "id": "u_zk6Z0er9EC"
      },
      "source": [
        "atom = structure[0][\"A\"][100][\"CA\"]\n",
        "atom"
      ],
      "execution_count": null,
      "outputs": []
    },
    {
      "cell_type": "markdown",
      "metadata": {
        "id": "Mj-N5HFzsuma"
      },
      "source": [
        "<div dir=rtl> سپس با استفاده از متدهای زیر می توانیم به مشخصات آن دسترسی پیدا کنیم:"
      ]
    },
    {
      "cell_type": "code",
      "metadata": {
        "id": "45khsntyn0Ed"
      },
      "source": [
        "atom.get_name()       # نام اتم\n",
        "atom.get_id()         # id (همان نام اتم را بر می گرداند)\n",
        "atom.get_coord()      # مختصات فضایی اتم به صورت یک آرایه تک بعدی\n",
        "atom.get_vector()     # مختصات فضایی اتم به صورت یک شی وکتور\n",
        "atom.get_bfactor()    # B فاکتور \n",
        "atom.get_occupancy()  # occupancy"
      ],
      "execution_count": null,
      "outputs": []
    },
    {
      "cell_type": "code",
      "metadata": {
        "id": "KuZKrM8MnhTx"
      },
      "source": [
        "atom.get_name()"
      ],
      "execution_count": null,
      "outputs": []
    },
    {
      "cell_type": "code",
      "metadata": {
        "id": "9X4oKlkws7z6"
      },
      "source": [
        "atom.get_id()"
      ],
      "execution_count": null,
      "outputs": []
    },
    {
      "cell_type": "code",
      "metadata": {
        "id": "FSR0j779s-Qq"
      },
      "source": [
        "atom.get_coord()"
      ],
      "execution_count": null,
      "outputs": []
    },
    {
      "cell_type": "code",
      "metadata": {
        "id": "mBs6vaUQtUZr"
      },
      "source": [
        "atom.get_vector()"
      ],
      "execution_count": null,
      "outputs": []
    },
    {
      "cell_type": "code",
      "metadata": {
        "id": "-SnGWqnatXvC"
      },
      "source": [
        "atom.get_bfactor()"
      ],
      "execution_count": null,
      "outputs": []
    },
    {
      "cell_type": "markdown",
      "metadata": {
        "id": "ZgqVT5Vwtpv6"
      },
      "source": [
        "<div dir=rtl>Factor B: در فایل های PDB کنفورماسیون های مختلف با \"ALT\" علامت گذاری شده اند. اعداد موجود در ستون آخر فایل PDB را فاکتورهای دما یا فاکتور B برای هر اتم در ساختار می نامند. عامل B جابجایی موقعیت های اتمی را از یک مقدار میانگین (mean-square displacement) توصیف می کند."
      ]
    },
    {
      "cell_type": "code",
      "metadata": {
        "id": "muBr4DHGv20L"
      },
      "source": [
        "atom.get_occupancy()"
      ],
      "execution_count": null,
      "outputs": []
    },
    {
      "cell_type": "markdown",
      "metadata": {
        "id": "gnagBkl2upTc"
      },
      "source": [
        "<div dir=rtl> Occupancy: مختصات x، y، z با یک عدد دنبال می شوند که در بیشتر موارد 1 است. به آن Occupancy گفته می شود. گاهی اوقات زنجیره جانبی یک اسید آمینه به دلیل انعطاف پذیری موضعی ممکن است دو یا چند شکل متفاوت داشته باشد. در این حالت کریستالوگراف کلیه کنفورماسیون ها را ایجاد می کند و برای هر اتم پارامتری به نام اشغال تصفیه می کند (عدد یک برای Occupancy کامل و کمتر از یک برای Occupancy های کمتر ولی مجموع آن ها همیشه برابر 1 می شود). در پرونده های PDB این ترکیبات جایگزین با \"ALT\" علامت گذاری شده اند."
      ]
    },
    {
      "cell_type": "markdown",
      "metadata": {
        "id": "x5aMdvnAVT_H"
      },
      "source": [
        "<div dir=rtl>شما می توانید با استفاده از کد زیر لیست تمام اتم های یک ساختار را بدست آورید:"
      ]
    },
    {
      "cell_type": "code",
      "metadata": {
        "id": "9PJXDvWNTaam"
      },
      "source": [
        "atoms = structure.get_atoms()\n",
        "for atom in atoms:\n",
        "  print(atom)"
      ],
      "execution_count": null,
      "outputs": []
    },
    {
      "cell_type": "markdown",
      "metadata": {
        "id": "JsGOGr1DxF-q"
      },
      "source": [
        "<div dir=rtl> تمام باقیمانده های هترو را با استفاده از کد زیر می توانیم به صورت پشت سرهم به صورت زنجیره ای چاپ کنیم:"
      ]
    },
    {
      "cell_type": "code",
      "metadata": {
        "id": "-Hlxc7q0w1uc"
      },
      "source": [
        "for residue in chain.get_list():\n",
        "    residue_id = residue.get_id()\n",
        "    hetfield = residue_id[0]\n",
        "    if hetfield[0]==\"H\":\n",
        "      print(residue_id)"
      ],
      "execution_count": null,
      "outputs": []
    },
    {
      "cell_type": "markdown",
      "metadata": {
        "id": "vivEpe-zyNus"
      },
      "source": [
        "<div dir=rtl> با استفاده از کد زیر می توان مختصات همه اتم های CA در ساختار را با فاکتور B بزرگتر از 50 چاپ کنیم:"
      ]
    },
    {
      "cell_type": "code",
      "metadata": {
        "id": "F8SxJomjw32k"
      },
      "source": [
        "for model in structure.get_list():\n",
        " for chain in model.get_list():\n",
        "  for residue in chain.get_list():\n",
        "   if residue.has_id(\"CA\"):\n",
        "    ca = residue[\"CA\"]\n",
        "   if ca.get_bfactor() > 50.0:\n",
        "    print(ca.get_coord())"
      ],
      "execution_count": null,
      "outputs": []
    },
    {
      "cell_type": "markdown",
      "metadata": {
        "id": "P46q33niyo-a"
      },
      "source": [
        "<div dir=rtl> با استفاده از کد زیر می توان تمام باقیمانده هایی را که حاوی اتم های بی نظم هستند چاپ کنیم:"
      ]
    },
    {
      "cell_type": "code",
      "metadata": {
        "id": "MSWunKjLxd-r"
      },
      "source": [
        "for model in structure.get_list():\n",
        "  for chain in model.get_list():\n",
        "    for residue in chain.get_list():\n",
        "     if residue.is_disordered():\n",
        "      resseq = residue.get_id()\n",
        "      resname = residue.get_resname()\n",
        "      model_id = model.get_id()\n",
        "      chain_id = chain.get_id()\n",
        "      print(model_id, chain_id, resname, resseq)"
      ],
      "execution_count": null,
      "outputs": []
    },
    {
      "cell_type": "markdown",
      "metadata": {
        "id": "OqhSrbIJWV2X"
      },
      "source": [
        "<div dir=rtl> که در این مورد چیزی چاپ نمی شود که بدین معنی می باشد که در ساختار مورد نظر باقیمانده دارای اتم های بی نظم وجود ندارد."
      ]
    },
    {
      "cell_type": "markdown",
      "metadata": {
        "id": "nZw3z7U_yHMw"
      },
      "source": [
        "<div dir=rtl> <h3> استخراج توالی آمینواسیدی از یک شی ساختار"
      ]
    },
    {
      "cell_type": "markdown",
      "metadata": {
        "id": "Pq4O7rYjijLI"
      },
      "source": [
        "<div dir=rtl> استفاده از حلقه و متد PPBuilder برای بدست آوردن توالی آمینواسیدی موجود در یک ساختار PDB:"
      ]
    },
    {
      "cell_type": "code",
      "metadata": {
        "id": "RgOufVcfhjgu"
      },
      "source": [
        "from Bio.PDB.PDBParser import PDBParser as parser\n",
        "from Bio.PDB.Polypeptide import PPBuilder\n",
        "parser = PDBParser()\n",
        "structure = parser.get_structure(\"1fat\", \"1fat.pdb\")\n",
        "ppb=PPBuilder()\n",
        "for pp in ppb.build_peptides(structure):\n",
        "     pp.get_sequence()"
      ],
      "execution_count": null,
      "outputs": []
    },
    {
      "cell_type": "markdown",
      "metadata": {
        "id": "iw7gW1hexgYz"
      },
      "source": [
        "<div dir=rtl> دخیره سازی توالی آمینواسیدی در یک متغیر:"
      ]
    },
    {
      "cell_type": "code",
      "metadata": {
        "id": "AJiTNMWWkY6q"
      },
      "source": [
        "seq = pp.get_sequence().__str__()\n",
        "seq"
      ],
      "execution_count": null,
      "outputs": []
    },
    {
      "cell_type": "markdown",
      "metadata": {
        "id": "diijw7zbwy2A"
      },
      "source": [
        "<div dir=rtl> ذخیره کردن توالی آمینواسیدی درون فایل متنی به صورت string با استفاده از متد open و with:"
      ]
    },
    {
      "cell_type": "code",
      "metadata": {
        "id": "PqUVfzBxsyBS"
      },
      "source": [
        "with open(\"Sequence.txt\", \"w\") as text:\n",
        "    text.write(seq)"
      ],
      "execution_count": null,
      "outputs": []
    },
    {
      "cell_type": "markdown",
      "metadata": {
        "id": "pTsn9j2wy-5z"
      },
      "source": [
        "<div dir=rtl> اطمینان از نوشته شدن فایل:"
      ]
    },
    {
      "cell_type": "code",
      "metadata": {
        "id": "MEDNSs2Sy3yp"
      },
      "source": [
        "!cat Sequence.txt"
      ],
      "execution_count": null,
      "outputs": []
    },
    {
      "cell_type": "markdown",
      "metadata": {
        "id": "nGNHe0AT0pCU"
      },
      "source": [
        "<div dir=rtl> <h1> تحلیل ساختارها"
      ]
    },
    {
      "cell_type": "markdown",
      "metadata": {
        "id": "Gq-ZY_Ep0iJE"
      },
      "source": [
        "<div dir=rtl> اندازه گیری فواصل بین اتمی:"
      ]
    },
    {
      "cell_type": "code",
      "metadata": {
        "id": "p-4QuPOuy4Hr"
      },
      "source": [
        "# تعریف باقیمانده ها\n",
        "residue1 = chain[96]\n",
        "residue2 = chain[98]\n",
        "\n",
        "# تعریف اتم ها\n",
        "ca1 = residue1[\"CA\"]\n",
        "ca2 = residue2[\"CA\"]\n",
        "\n",
        "# بدست آوردن فاصله اتم ها با استفاده از متد تفریق\n",
        "distance = ca1-ca2\n",
        "distance"
      ],
      "execution_count": null,
      "outputs": []
    },
    {
      "cell_type": "markdown",
      "metadata": {
        "id": "DnuAkmf909_m"
      },
      "source": [
        "<div dir=rtl> اندازه گیری زوایای بین اتمی:"
      ]
    },
    {
      "cell_type": "code",
      "metadata": {
        "id": "ExPyPubEz2bk"
      },
      "source": [
        "# تعریف اتم اول\n",
        "atom1 = structure[0][\"A\"][100][\"N\"]\n",
        "\n",
        "# بدست آوردن مختصات اتم اول به صورت وکتور\n",
        "vector1 = atom1.get_vector()\n",
        "vector1"
      ],
      "execution_count": null,
      "outputs": []
    },
    {
      "cell_type": "code",
      "metadata": {
        "id": "bYVYDFphUlmd"
      },
      "source": [
        "# تعریف اتم دوم\n",
        "atom2 = structure[0][\"A\"][100][\"CA\"]\n",
        "\n",
        "# بدست آوردن مختصات اتم دوم به صورت وکتور\n",
        "vector2 = atom2.get_vector()\n",
        "vector2"
      ],
      "execution_count": null,
      "outputs": []
    },
    {
      "cell_type": "code",
      "metadata": {
        "id": "OxaTuh7nUnSg"
      },
      "source": [
        "# تعریف اتم سوم\n",
        "atom3 = structure[0][\"A\"][100][\"O\"]\n",
        "\n",
        "# بدست آوردن مختصات اتم سوم به صورت وکتور\n",
        "vector3 = atom3.get_vector()\n",
        "vector3"
      ],
      "execution_count": null,
      "outputs": []
    },
    {
      "cell_type": "code",
      "metadata": {
        "id": "iqTv0MQ208s8"
      },
      "source": [
        "# محاسبه زاویه بین اتم های تعریف شده\n",
        "angle = Bio.PDB.vectors.calc_angle(vector1, vector2, vector3)\n",
        "angle"
      ],
      "execution_count": null,
      "outputs": []
    },
    {
      "cell_type": "markdown",
      "metadata": {
        "id": "qgLv7GeCZHC8"
      },
      "source": [
        "<div dir=rtl> اندازه گیری زاوایای تورشنال یا دهیدرال:"
      ]
    },
    {
      "cell_type": "markdown",
      "metadata": {
        "id": "VNxrtvo_dbJj"
      },
      "source": [
        "![Dihydral Angels.jpg](data:image/jpeg;base64,/9j/4AAQSkZJRgABAQEAYABgAAD/2wBDAAIBAQEBAQIBAQECAgICAgQDAgICAgUEBAMEBgUGBgYFBgYGBwkIBgcJBwYGCAsICQoKCgoKBggLDAsKDAkKCgr/2wBDAQICAgICAgUDAwUKBwYHCgoKCgoKCgoKCgoKCgoKCgoKCgoKCgoKCgoKCgoKCgoKCgoKCgoKCgoKCgoKCgoKCgr/wAARCAJaAUoDASIAAhEBAxEB/8QAHwAAAQUBAQEBAQEAAAAAAAAAAAECAwQFBgcICQoL/8QAtRAAAgEDAwIEAwUFBAQAAAF9AQIDAAQRBRIhMUEGE1FhByJxFDKBkaEII0KxwRVS0fAkM2JyggkKFhcYGRolJicoKSo0NTY3ODk6Q0RFRkdISUpTVFVWV1hZWmNkZWZnaGlqc3R1dnd4eXqDhIWGh4iJipKTlJWWl5iZmqKjpKWmp6ipqrKztLW2t7i5usLDxMXGx8jJytLT1NXW19jZ2uHi4+Tl5ufo6erx8vP09fb3+Pn6/8QAHwEAAwEBAQEBAQEBAQAAAAAAAAECAwQFBgcICQoL/8QAtREAAgECBAQDBAcFBAQAAQJ3AAECAxEEBSExBhJBUQdhcRMiMoEIFEKRobHBCSMzUvAVYnLRChYkNOEl8RcYGRomJygpKjU2Nzg5OkNERUZHSElKU1RVVldYWVpjZGVmZ2hpanN0dXZ3eHl6goOEhYaHiImKkpOUlZaXmJmaoqOkpaanqKmqsrO0tba3uLm6wsPExcbHyMnK0tPU1dbX2Nna4uPk5ebn6Onq8vP09fb3+Pn6/9oADAMBAAIRAxEAPwD9/KKKKACiiigAooooAKKKKACiiigAooooAKKKKACiiigAooooAKKKKACiivMf2xf2ufgp+wt+zj4n/ah/aB8SLpvhvwvYmabZgz3kx+WG0gQkeZNLIVjRcgZbJIUFgAfOf/BdL/gr14I/4JMfsm3Hi3TJ7PUPih4ujmsPhr4dnwwa4CjzL+dOv2a3DKzD+N2jjyN5ZfxN/wCDbX/glt43/wCCpv7aes/8FAf2wFvPEXgbwb4mbVdYvtczL/wl3id3FwsEhbiWOMstxODwd0MZBWVtvzP468cftl/8HHf/AAVXsrSKFl1rxpqQstE08M0th4N8PQsznJ4/cwRF5JGwpmlZiBvlC1/Wp+xn+yP8H/2Ff2Z/CX7LHwL0X7H4e8J6YttFI6jzr6c/NPdzEAbpppS8jnpucgAAAAA9QooooAKKKKACiiigAooooAKKKKACiiigAooooAKKKKACiiigAooooAKKKKACiiigAooooAKKKKACiiigAooooAKKKKACiiigArkfjt8evg3+zH8KNY+OPx++Iul+FPCfh+1M+ra3q1x5cUK5wFHVndmIVI0DO7EKqsxAPXV+e3j74Z6R/wAFQv8AgsD4g+FXxnshq3wZ/ZL0zR7v/hDbobrDxF441W3N1Fc3UZ+W4jsrIptjYECWc5JVnQgE/h3/AIK7ftwftWW0nir/AIJx/wDBIvxl4w8ESKW0z4ifFfxlaeDbPVE/gms7W4jluLqF+SsgCDHXaeB+N/8Awcw/G/8A4LN/HfUPCift2fsa6h8Jfhn4bcnSNP8AD2qrrGiXWqSbl+1z39uWiM5jPlxxSFWRfM2rl5Cf6kVVUUIihVUYVQOlcV+0p4Z0nxj+z3438Na58J9N8eW114Vv1bwXq6K1trjCB2Szk3KwCyMFTdtO3dkAkUAfnZ/wa3f8EnfDX7Dn7Gtj+1b47t7G++JXxm0S11OS+t5EmXStBlVZrOyikUkZkUpPMVOC5jQ58gMfs34kft3aJZ/tI3X7HH7PPwz1D4k/ErR9Ig1Txdp9jqEVjpfhSzn/AOPd9Tvpd3kyTgExW8Mc87KpcxrH89fAH/Bqd+3n4P8AjJ4M+Jn7Ffgu/vj4W8Bz2fiT4Y6fq18bq70bRtT3vc6K8pAaUWF6HiWVlUypMrhVUqo9L/4N79Qv9T+O/wC3RefEhm/4WB/w1VqyeII7j/XJp6hl09fXyQBcCL+HYPl4oA+uPDH7Yvjy1/aW8L/srfGj9mHXvC2t+KtF1TU9N8TWOsW2peH7hbIQGSCG6Xy5zPicHy5reE7VZlLgHHvFYHxEufDeg6G/j7XNBhvrjw3b3WoaYrRqZllW2lDiEkZDtEZE46qzds1+R2pftR/tfad/wQNv/wDgr3p/7Rniqb4uePrHUfO0b/hILg6PBFq2pzaPp1npmnktBaTWTTWdxFNHGJpZLaRZpGWVtoB+yFFcH8Mr6f4RfDL4e/Cj4p+ObrWvFj6DZaZNe3DNcXerXlvaxrc3b7QSRuBeSVsKDIuSC6g9pDqul3Ooz6Rb6lbyXdrHG91apMpkhV92xmXOVDbWwSOdpx0NAFiiuJ8O/tE/CHxh4h8b+EvCPieTVNU+HNxFb+MtO0/S7mWawmkgFwkYVY8zu0RDBYt7HIAGSAeo8MeJvDvjTw5YeMPCOt2upaVqlnHd6bqNjMskNzBIoZJEdchlZSCCOCDQBeooooAKKKKACiiigAooooAKKKKACiiigAooooAKKKKACiiigAooooAKKKKACiiigAooooAKKKKACiiigAr8Iv2wvirefsE/8FxvE3xm+IN9d2eh+GfjR4Z+IuoMsjKLrwfrnh//AIRnUtSKj/WR6feiKMqMnFy2Bjdj93a+Of8Agrv/AMEo9K/4KOeBNE8Y/DfxfY+EPi94DW6/4QnxRqFiLmxvLW5j8u70fU4MEXNhcx5R1Ktt3MQrq0kcgB9gaZqena1ptvrGj6hDd2d3Ck1rdW0okjmjYBldGUkMpBBBBwQciuB/ax/ae+FP7Gf7Oni79pv41a/Dp/h3wfo019ePJIFa4dR+6tos/emlkKRIo5Z3UDrX4g+B/iB/wWl/4Jy6RD8BLPQP2iPhjoekqYtP0PQfg3afFvwfCozgadqQnjv9PtSMeVZzNctGvys+VNfnD/wVg/an/wCC0H7QKaD4h/4KPD4r6b4P/tic+A7fxf8ADt/Cun3UsQH79LRIY4nnEbg7i0roHZRIRnIB+nn/AAaPfAS70z9qT4ufGa00UWv9ifDfS9D8XXUORDPr+pahPq0tuo7SWdutvaSpwUkjII+YV+pfxf8A+Ca+g65+1Fdftt/sx/HHxF8H/ihrGmQ6b4y1Lw/Y2t9pfi21hAEK6np90jJPLEo2x3EbRTKvy7yMAZ3/AARZ/Za/Zy/ZQ/4Jy/Dvwr+zL4vj8U6N4m0eLxNqnjYR7ZPEmoXsSSTX0gJLIThYxGxLRpCkbEshJ+qqAPN/hp8BvEWi65H44+Nfxe1Dx94ggtZLexkvNMt7HT9NSQYlNtZwLgO64VpZnmkC7kR0R3Rvmu5/4IhfCPVPgRov7GmsfHPxY3wO8J+Kr3xD4R+H1nHFbz2N1NLcTwQS6gv72e0tLi5knt4tqOrrEJZJljVa+3KKAPjH9n74e/Fz4b/8FJNQ+FXxT+NmveNLzTP2ZbOXw/431+ytY5r3ULzxJqUmrzrDDGkMe3Zo6+TGoRY4rdTnqfV/ht8G/j5ov7SXirxVr3x01S60ubTtC+ebwvZRx6ksT3hkgDqg27QwBK4I8we1es+I/hv4X8TeLdD8fXlq8Ot+HjMul6pavsmSCfZ9otmOCHgl8qIvGwILQxOMPFG671AHy/8Asia/oWof8FBf2rbCw1e1mnXxB4ULRRTKzfJoFvE5wD/C6lG9GBU4IxU//BLKTxMPg/8AEiw1Iy/2HZftE/EK28G+YpCrpieI7wbI/wDpklz9qRMcBEUDAAA+kdWsZNU0y406LUbizaeFoxdWjKJYsjG5SwIDDsSDVPwX4M8LfDrwnp/gfwTosOn6TpdqtvY2cOdscY9ySWJ6lmJZiSSSSTQBqUUUUAFFFFABRRRQAUUUUAFFFFABRRRQAUUUUAFFFFABRRRQAUUUUAFFFFABRRRQAUUUUAFFFFABRRRQAUUUUAFfKH/Baj/gnbpP/BTf/gn34y/Z4t7KE+LLSH+2/h7eTYH2fW7ZHMK7jwqzK0ls7H7qXDNjKivq+igD8CP+DP8A/wCCnOr+Hda1/wD4JI/tA6lPZ3tlcXmqfDGHVMxyW8yMz6lpG1uVYEPdImMgi6z/AAiv33r+Y/8A4Ocf2NPiH/wTL/4Kc+Ff+Cl37L0k2g6d4/11PEVjqNjHhNK8WWrrJdKR023HyXO1uJGkulxtUiv32/4Jm/t5/Dz/AIKTfsX+Df2sfh/5NvJrdj5HiPR45NzaRq0OEu7Ns84WTlCcF4njfGHFAHvVFFFABRRRQAUUUUAFFFFABRRRQAUUUUAFFFFABRRRQAUUUUAFFFFABRRRQAUUUUAFFFFABRRRQAUUUUAFFFFABRRRQAUUUUAFFFFABRRRQB8z/wDBXj/gn74e/wCCmH7BPjb9l++it49dubP+0/A+o3GALHXLYM9rJuP3VcloJD18qeTHNfz/AP8Awa9/8FKvEf8AwTt/b01L9iH9oa6uNG8G/E7XBomp2WqExjw/4ohcwW8rhv8AVeY4NpLwOTCzELDX9TFfzE/8Hen/AATYl/Zp/a/039vH4X6G1v4T+L8pXxC1rHtjsPE0KZkYkcL9qhUTju0sV0x7UAf07UV+f/8Awbnf8FTo/wDgpj+wfp8fxB8QLc/FH4arBoXj9JZAZr3CH7JqZHcXEaHceP30M+ABtz+gFABRQx2jce3oK8v+Ev7Z/wCzF8cPi54k+APw1+LVneeOfCNtHceJvB95a3FlqenwuQFkktrmOOQISyfMFIG9Mkb1yAeoUVwHxQ/ae+C3wa8deHfhp8RPEd/Z654uuHt/DFhb+HL+6OqTJG8rxQNBA6ySJFG8jIDuVEZyAoJrv6ACiiigAooooAKKKKACiiigAooooAKKKKACiiigAooooAKKKKACiiigAooooAKKKKACiiigAooooAKKKKACiiigAooooAK+ff8AgqN+wj4P/wCCkX7Dvjr9k/xQLeG81vTTceF9UuFz/ZmsQfvLO5yBkKJQFfHLRPIv8Rr6CooA/jT/AOCRv7eXxQ/4Iw/8FLLXxP8AErS9R03SbPV5/CXxi8LyKTItmLjyrnMY6z2s0YmQDktCUyFkbP8AY94Y8TeHvGnhvT/GPhLWrbUtJ1axhvdL1GzmEkN1byoHjljYcMjIwYMOCCDX84P/AAdB/wDBLXVvid/wVk8FxfsQeFT4q+I3xu8NvqHiX4eaCoN1Z3Fo6W/9rT52x21tPHtBlkZV8y1ndm+Ykfc3/BN//gnR/wAHGH7KX7OHhf4M6n/wUH+D+iaH4bsPI0LwfrHgl/EL6fblmdbWS8VbaQhNxUBZJFRQqo21VAAP1mr8vP8Agod+xH8dvjR/wUI8fftnfsOeK30f9oD4H/D/AMG6j4HtprgrY+J7GebX/t2h3aEhWS5jhRVYkbXUDcgYyJ6N4q/4KC/8FJf2B9U/tf8A4KSfs0+BfGnwytUSTxD8WP2erq9lm8MWzMVW81LQ7zfci3+V2kngkkSNY2OCfkr279mq1+LXjT9q/wAcftVadpXgvUfhX8SvBPhmDwX4k8O+M3vbi5gsf7SmF08X2VY/LmGoJs2TPtCEnOcAA8Y+CH7f/wAKf+Cj2ofsp/HLwFp0+i61Y/GDXdJ8deC9U+XUPC2tQ+DfEC3NhcKQGBVuVYqu9CrEKcqv3mbiBbhbVp0ErozrHuG5lBAJA9AWXJ7ZHrXxp4u/4JL+G9E/4K0eBf8Agpn8Cdcj0COZ9Q/4W/4RjleO1126Oj31nY6vHGo2/bIzdPFJkDekzOCHEnm9V+xN8U/it8Y/BvxS+PuieF9J1rxLefHHxR4atbHXNck09LHR9E1O40q1t1kS2uGTi0a4MWzaZbyd8gscgH1JUYu7UyLELmPdJu8td4y23rj1x39K8V/ZB1740/Ef4RLZ/HHwLoDaXeHVIZLxPF9xqs92ft88fkSxT2MI8sJuXPmNwqjbg/L8y/BkX3hP/g3V0r4keDb9dO8Q/Dv4J6h4r8G6qx50/VNLgubu2kz12FovLkXOJIZJY2ysjAgH6EUVg/C3xlL8Rvhj4c+IU2ltYvr2g2eotZSH5rczwpIYz7rux+Fb1ABRRRQAUUUUAFFFFABRRRQAUUUUAFFFFABRRRQAUUUUAFFFFABRRRQAUUUUAFFFFABRRRQAUUUUAFFFFABVHxN4j0jwf4b1Dxb4guxb2Gl2M15fTt0jhjQu7fgqk1erl/jf4Eufil8FvF/wxs7hYZvEfhfUNLimY4CNcW0kQb8C+aAPkf8A4Ie+AH+JfwJ1f/gp18VdN8/4nftKatceI9Svrpd0mlaAs7xaPo8DHlbaGzjhfA+88rFi2FI+4K/Bv/gm7/wXy+Df7F3iH4H/AAN/af8AixLpfw0l/Zv0nwhrGnR27XUvgvxromr31jc/bLeIGWBJ7ZonaTa2VS3O3aCw/dXwr4q8NeOfDOn+NPBfiCz1bR9WsYrzS9U025Wa3vLeRA8c0ciEq6MpDBgSCCCKAPJvj3+wn8Cfj58cPBP7TWvNrWgeO/AcypY+J/C+p/ZJtS0svvm0bUAVaO90+bLb4JFJXe5jaNmZj8W/8EQf2q/g/Y/tL+PP2MfgBqF3/wAKf8a+CrX4zfs+aZqEQil0XRr+8ktNX0kJuIjig1VJDFEpIQSSjJABr0D/AIK9f8F//wBj7/glnq+n/BjxdDqHjLx5rlu7XnhrwvNE0uhWjxN5dzdl2AQu23ZDkOy5f5V2lvxu+DUH7dX7Mn7ZP7P3gT9krQfH0Pi/4L/sx6dpHxYvvBfwll8ZXPh19cv9T137Hdacrx7iF1O1jZd6ujRyFQxjK0Af1F1wPwi+Bth8FPGXjK98GXca6D408Qy+IrjSWjIax1adUW7eJhwYp2QTspAZZ3mbc6yhYvy3sv8Agsf/AMFC/hvEth49+PvwX8yP/WL8Wv2Y/iV4Ouf+BzRW9zbJ74Bx9K67wP8A8HCvxYuJBY6poX7Ini+bdtb/AIRn9r620OYn0W21zToGJ/2SymgD9Tm0bTf7Kk0S3tvs1tNHIjJZSNAV353FWjKsjZJO5SGBOQQea8p8T/safCu5/Zjb9jPwJoseg/DjULVtM1vRY7mebfo8hP2nT4jK7FEnQvCx3fJHLJsAYgj5w8B/8FqPHniDZ/bn/BNv4hakr/dl+FvxL8F+LVb3UWuso5H/AADPt2rvI/8AgsH8GNG+f4sfsoftM+BoV/1l14g/Z31+4gj+sunW90h/BjQB9Ywww20K29vCsccahY40XCqoHAAHQU6vlGD/AILif8Eq1nW18Rftf6P4akZtoj8a6JqWgsD6EajbQ4/HFejeCP8AgpB/wTz+JQX/AIV9+3Z8HdaZ/ux6b8S9LmcexVZywPsRmgD2iisrwz478EeNYPtXg3xjpWrRYz5mmahFcLj1yjGvnb/gpl/wUH8a/wDBPHw14D8Z6Z+z5a+OtN8efELS/BdqqeMjptxa6nfmX7OzobOZWt/3WGkD7wWAEZGTQB9PUV82/wDBSf8Abv8AHX/BOT9i7V/2y9f+A+neLLHwqtmfFmh6f4ye2lt/tN5b2kZtZHsWFyBLcKW3iEhASAx+WvcvhV4k8ZeMPh5pHirx94TsdD1TUbGO5udJ07WHv4rbeoYJ57QQlyARn92BnOMjkgHQUUUUAFFFFABRRRQAUUUUAFFFFABRRRQAUUUUAFFFFABRRRQAUUUUAFFFFABRRRQAUUUUAFfIP/BX7/gsV+zt/wAEj/gWfGnxCnj17x3rlvIvgX4f2t0FudUmHHnSnkwWiNjfMQf7qBnIWuZ/4LUf8FwPgJ/wSO+En2Wc2nij4teILFn8F+AY7joOVF9fFTuhtFYH0eZlKR4xJJH/ADn/ALI37Kf7e/8Awcc/8FBtU8T+O/G99qE15cx3nxF+IWoW5ax8NabuIjghjGEU7Q0dvaIRuIJO1FkkUA8f8I/AH9tb/gqx+0H8Rfj38Jv2avEXjC+1LxBdeJvHi/Drww0kGnNeXLzSLDFuC72LSeXBvMj7TjdhmH1B8T/APxzbwN4N/Z5+G/8AwWt8J+FfD3w00e40rSfB3xGuvEvw+17TIprua7eK/sHtpIXlV53QNHPNhFRAxVFx/T5+xT+xT+z3/wAE/v2etF/Zp/Zp8FR6P4f0ePdNM4VrrU7ogCW8upQAZp5CAWYgAAKqhUVVXufGfwq+F/xHkt5viH8NtA157Pm1bWtHgujD/uGVW2/higD+ZP8A4Jv/APBLaw1H4mQfGH4G2cn7XXxahvvO0PVLPR9Rsvhf4X1INkalrGt6pDBJrDwtiVbK2iPmNGQzP92v6Bf+Cbf7BmmfsG/BC88O+IfGb+MviR401yfxJ8WfiJdQBLjxJrtwxaabH8ECZ8uKIYCIucBmcn6BsrKz02zj0/TrSK3t4YwkMEMYVI1AwFAHAA9BUtABXP8AjT4UfC34kRG3+Inw18P69GVwU1rR4LoEemJVaugooA+e/Hf/AASW/wCCXvxL3v4z/wCCevwauppP9ZdR/DnToJ2/7axQq/8A49XCt/wQj/4Jh6e3n+BPgXr3g2df9TceBPih4i0XyT6qlnfxp+BUj2r6+ooA+Q5P+CQui6ZC1r4A/wCCiv7V/h2ArtW1Hxnk1eFF/u+XrFveKV/2SCK4Lxn/AMEU/iL4iEkZ/bpt/EEbfdX4nfs4+Bdeb/gUi6ZbSP75b8q++aKAPif9hv8A4JIXv7JPx7g+M/i28/Z119rKyuE02+8F/sm6V4R12ynlXYZI9Rsr1woMbSI6+Tl1kIyoJzwv/ByTFrE/7N/wCg8PX1ta6g/7XXgZbG6vLRriGGYvd7HkiWSNpEDYJQOhYAgMucj9Eq+ff2+P+CdvgD/goZonhHwz8UvjX4/8M6d4K8YWPinR7PwVcaZCDq1n5n2a5ka7sbh22ea37sMIzwSpIzQB8f8A/Bxn4U/bM07/AIIxfGq9+KXx6+GOs6DHa6J/aGm+H/hHqOm3kw/t7Tgnl3M2v3SRYfaxzC+VBUbSQy/olp3j/wANeDfCvg3RtXu2N/r0NtZ6Pp8Cb5rqQW/mOVXsqRo8jscKqryckA+bft0fsB+Cv+Cg37Ld5+yL8bvjV48sfC+sLbDxHceGpNLt7zV/IuIbmLzpJLCRY8TQRt+4SIHkHKnFcBoHgbxn8Of+Covw28C+KPHuv+INF0/9mTxFZ+F9e19bUTzX663oovC32aCGAz+QLE/LGpKq5wQGoA+rodd0a41y48MwapA+oWdrDdXVksgMsUMzSpFIy9QrtBMFPQmJsdDXI+HP2iPhp4w+Knjb4JeFrnUrzxR8PdN06+8SaU2j3EG2K+F0bTyZJ0SO48z7HOA0bMoK4LA8Dz7wl+zr8YtK/aX8ReM7/wDae+Ic2lzeEfD0EN3cad4dC38kF7q7y2r7NKUhUWaI5TY3+kH5zhdnPfAm/tJP+CqX7QRWT5bj4Z/D+C2kKkJPLbz+IjcIjdHaIXNt5gUkp58W7G9cgH0F4D8eeEvib4Ts/G/gfWUvtNvQ/kzqjIyujtHJE6OA8UsciPG8bhXjdGRgrKQNivPv2Zv+EX/4VxqX/CIeX9k/4WD4t87ysY+1f8JFqP2np38/zc985zzmvQaACiiigAooooAKKKKACiiigAooooAKKKKACiiigAooooAKKKKACiiigAr85P8Agut/wcBfB7/glV4JuPhF8LH0/wAXfHLV7HdpPhppN9toEci/JfajtPAxho7cEPLwTsQ7682/4L//APBx94J/4J86Zqn7J/7IGrWHiH43XNuYdU1MKtxY+CldfvzDlZr3BylucqnDy8bYpP57v2M/2OP2vv8Agr9+2Ovwx+Ht1qHiXxd4nvpNU8Y+MvEFzLNHp8DSA3Go305y20FvdpHZUUFmAoA6/wDY+/ZH/bk/4Ly/t4Xunv4s1HxB4k8QXo1T4i/EbXlaS30WzLBTPLtwoAUCOC2TaDtWNAiKSn9bn7AP7A37PP8AwTd/Zu0f9mj9nLwyLTTNPXztV1W4VTe63fMoEt7dSADfK+B6KihUQKiqox/+Can/AATb/Z5/4Jd/s06b+zt8A9I8yT5bnxR4ouoVW98Qahtw91OR0H8KRglY0wozyzfQVABRRRQAUUUUAFFFFABRRRQAUUUUAFFFFABWN4s8A+FvGl5pOp69p2680HUhf6PfRSGOa0n2NGWR1wcNG7xupyro7KwIJFbNFABUd5bm7tJbUXEkPmRsnnQth0yMblPOCO3vUlFAGb4P8H+GvAPhu18I+ENJjsdPs1YQwRszcsxZ3ZmJZ3d2Z3kYlndmZiWYk6VFFABRRRQAUVV1vW9G8NaNd+IvEerWun6fYW0lxfX19cLFDbQopZ5JHYhURVBJYkAAEmvh3Xv+Cz3ib4+a9feEf+CTn7E3iz9o7+zbxrXUvHy6tD4b8GwTKcPHFq18uL2RD1WCNlI2lXIYUAfdlFfC9x+3n/wWK+Ftj/wkfxt/4Itx65osI8zUJ/hP8bdP1XUrePv5en3EED3Lf7MchJPbuPcP2H/+CkH7LH/BQLQdVufgR4rvrbxD4bn+z+MfAPivS30zxB4cuM48q8spfnj5BXepeMsGAclWAAK/x5/bptvBP7TGgfsQ/AP4fR+PPi5rmgSeIbzRbjWP7P03w3occgiOo6ndrDO8KPKRFFFFDLJI5+6ifvBh+L/29PHP7MXxp8C/Cf8Abk+Fmg+F9H+J+uLoHgf4i+EfE02oaS2uOpaHS75Li1t5LKacK/kOvnRyFGDNEQAfmz9iO31Twh/wcq/tjaJ8Sdy6r4q+GvhDWPA73HH2nRILaC2naHP/ACzW52xtjjzEbPNWf+DqTSdS8Xf8EzNJ+G3guGSbxr4p+M3hfS/h7a2x/wBIm1h7hzEsOOfM8tZcY5AzQB+k1FMtlnS3jS6lEkioBI6rgM2OTjtzT6ACiiigAooooA5z4wfFTwd8C/hL4o+NnxEv2tfD/g/w7e63rlyq7jFZ2sDzzOBxkhI2OO9fIX/BOr/heX/BSr9nbTP26v2ofi34y8N6f8QpLi/+H/wx8BeKbnRLLw3oomeO0ae4smiuL+7lSMTSPNK0P7xVSGMBgfpP9tP4B3P7VP7IHxR/ZosdXTT7jx98P9X0C1v5M7Laa7s5YY5GxyVV3ViB1AIr5F/4If8A7ZXwo8AfsU+FP2Gf2mvF2k/DX4zfBLTT4X8aeAfGWpw6feKlrIyW99biZlF1azQeU4ni3RksQGI2lgD6b/Zf+FX7Svwl+LHxK0f4yfHPWvH/AIRvZtKuvhxqWvQ2cd1p1v5EsdzYS/ZYolleOWMSeeyB3SeMMzujtXtlfJfx2/4LOfse/BfxVa/Dvw2PE/xM8Wa4FHg3wf8ACrRTrWpeJcb/ADprSONgn2WIqFa8kdLcuJUSRmgmVOfu/wBur/grnqli2u+B/wDghzdPZNGJLW18TftGaDp2oSqfWCOG4jjbH8Lygg8HFAH2pX4d/wDBwL/wc86T8GI9a/Yq/wCCbfje3v8Axl+8svGfxR02VZLfQTyslpp7jKy3fUPcDKQdE3S5aHwX/g4C/wCC/H/BTaXSG/Yyl/ZF8V/sy2Ouaey+JLzVtS+1anr8J+WSGzvoUSEWmTtd7dnaT7pdFLxt+Q/7Jv7J/wAdv22/j34f/Zs/Zx8ET694p8RXXlWtvH8sVvGOZLmeTGIoI1yzyHgAdyQCAbn7Gn7G/wC0p/wUg/ab0v8AZ9+AmgXGv+KvEd09zqWpX0zmGxg3gz6hezkMUiTduZzlmZlVQ7uqt/X5/wAEpf8Aglf+z9/wSh/Zstfgn8ILNNQ17UFjufHHja5tgl5r98FxvbqY4EyyxQAlY1J5Z3kd8P8A4I9f8EhfgT/wSR/Z1j+HPgaODWvHGuRxT/EDx3JbbZ9WulHEUeeYrSIlhFFnuXbLuxP11QAUUUUAFFFFABRRRQAUUUUAFFFFABRRRQAUUUUAFFFFABRRRQAUUUUAFFFFAH50/wDBUWz8Rf8ABRn9u74c/wDBGrQfEd9pvw9Tw6fiP+0VdaVdNFLf6HDdCCw0TzEIKfabkbpBkOIxG6/dIP378PPh54E+EvgbSfhn8MfCGn6B4e0Oxjs9H0XSbVYLazt0GFjjRQAqgelfgZ+31+2Z8ff2KP8Ag690oaN4+utD8H/ETxB8P9O8SxrtEd9obwRWkkbswz5KzTXUpUHBeNW6oMf0GUAFfhb+1/8AsH/t+/8ABNT9qPxV+2x8Bpdb8caH8I/D9x498G/EjVNU8y+l8Nx3Sf2x4F1yaRjLfwLbPJc2k7+ZJCtsVUjOYP3Sr89v+Djr/gqL4H/4J0fsTS+B9W8CJ4o1740WmreFdO0dtSFt9nspLCSO7vz8jeYITPAvl4G5p1+ZQDQB23i740f8EpP26bH4b/tXaZ+2f4O8G+OdJ0WPUvBPjbQfiNpWn+IdEt7yFWlsp4rhpI5I2DbZbO7hljDg5jDjI6Hwb4X/AGENS+NGh/tBfF39vLSfi54u8JxzR+Cr7xp470E2/h1pU2zS2dnpsNrbLcOnym5eJ5wmUWRUJU/mb/wRMk/Z3+GX/BOv4feEf2kv+DfL4jfELXJrO61OP4nab8CdG8RQeI7O7uprm2uRcXUiXGBBLFGq7WXZGpU4IFfX8vi3/gmFLb7dS/4N3viEoYZML/sZ2Ev/AKBGw/WgD73sP2gfgNquBpfxt8I3O7G37P4ktXznp0kra0/xv4L1bH9leL9Lud33fs+oRvnjPZvSvzVv5v8AgjtfMn9o/wDBu98QIvMHJh/YZYbfr5Np/wDr96w7zw1/wQzvQp1b/ggp8U7Pc2F3fsV65Dn3/d2Xv/nigD9WlZXUMpyDyCO9FflHY/Cf/g3ZmVZL/wD4Jd/ELQSzfxfss+Orcg9P+XbTj29PT6VZn+F3/BuRax7/APhmX4maerHH+j/CP4oWmDjGPks1wcfjQB+qdFfk5ceAv+DbtI2eTwb8ZLBeYyItP+Ldnj/ZwqpjpWVqOk/8G4tiHEHxO+P+kjOG+z698W1x6D589PegD9eK+Zv+Cs3x9+C/7H/7GPi39q/4lfBrw3401zwxZJbeB9H1zR4rp77WrqVYLK2j3KXw08iF/L+YRq7DpX5+apJ/wbl2TvIn7aX7SOkt91mh8VfEtSvOcfvID+tfOv7UHiL/AII0an+0h+yz4Y/ZE/bR+KnxA8Qf8NW+DW8U+GfiN4m8S3dnb6N9pkEtwYtXhjiUiY26FgS4SRwBgsQAfr1/wSs/4J/3f7IvwsufjB8fNQHij9oD4oLHrHxg8dXyrJcSXkiqw0u3cf6qxtBthihjxH+73BVBCr9WVzfwq+L3w1+OHhH/AITz4TeMbPXNH/tK909r6yY7VurO6ltbmE5AIaOeGWMgjqhxkYJ6SgD8+/8Ag4k/ZR+K37SP7I1j4h8F/Db/AIWR4a8I301z49+FdrpMEmp6rpsqKrajo9yY2nttVstplhWNvLmR5o5Y51Iifw3/AINXv2Wvhb+yJ/w0H8APEPgGGP4veD/GlgNU8V3dk8N5qvhTULGK70aQRyEtbJIFnkeEch8CQsyDb+tus6xpnh7R7vX9bvY7azsbaS4u7iQ4WKJFLM59gAT+Ffkl/wAEdf2yvE/7cP8AwVch/aavdFtNNl+JH7G0eq+LtP02MrDFe2njfUrLT94LMfMOnqh5JyDkcHAAP12ooooAKKK+fv8Agoh/wUO+G3/BNP4YaL8evjr4C8Q6h4DvPEEGkeIvEXh1IZn0BpyFguJrd5EklgLbgxh3uuBhH3YoA+gaK+ev21f+Cgujfsafs73P7WS/ALxh8Rfh7p+gw6zqfiLwDeaVILaxkI2z+VdXkEkse1kctErgK27oGIyv+Cb/APwUr0r/AIKYfCOy/aE+Fv7MPxA8K+AdUku49J8UeMp9Jijvnt5mhl8uG2vZptolSSPcyKu6NueM0AfTVFfN/wCwP/wUz+DX/BSPV/H+rfszeFdavPA/gHxNJ4dbx9qBgis9a1KNI5JFsolkaZoVjljfzpFj3b12qc5H0hQAUUUUAFFFFABRRRQAUUUUAFFFFABRRRQAUUUUAFFFFAH48/8AB1//AMEiPiN+2F8LPD/7df7Mfhm61Tx/8L9Nks/EWi6XGzXmqaEJGnWSAL8zzWsrSyCNRudJ5SMsiK3xz8Kv+Dw/9r3RP2XvDvhjVfD3w5m+JHg+2lh8S6l460XU7iPxrbqsawPbPp80Ysb8Yk81ZkME2d6yQkeS/wDSZXwX+3b/AMG2/wDwSy/b38X3vxO8Z/CfUvA/i7U5mm1TxN8NdQTTZb6ViS0k0EkUtrJIzEs0hh8xycs5oA/HX9pH/g8n/wCCgPxk+DF/8M/hR8H/AAX8Nda1SEwXPjPRZrm6vLWMj5japOSkMh6CRhIVBJXa211+ef2LP2Uv2yf+C5/7Zvw//Z88Ta9rV94J8D6Xbt4i8R3WttqUegaLcTtfXc810Wk36jeTTzNtc+YZ5PLKxxW5SH9lPhX/AMGZf/BLTwR4ki13x98R/i140toZA39i6p4js7S1mXushtLSKbn/AGJUNfpj+zZ+yx+zr+x78MbX4N/sxfBzQ/BXhu0O5dN0OzEfmyYAMsznMk8pAGZZGZ2xyxoA63wd4R8NfD/wjpXgLwZo8On6PoemwWGk6fbriO2toY1jiiUdlVFVR7CtKiigAooooAKKKKACiiigArwH/gpx+w5oP/BQ79jHxh+zXd6hb6Xrl9ape+C/EkkZ36JrVs6z2d0rqN6ASoquUwxjeRR1r36igD8HP+Ca/wDwVA+Jn/BOH9o74qeFf2wPAOs6f4H1zxJNrPxw8P6fpcl1f/CrxjIFF7qy2kCtJP4f1NwtzHcQK8ULTRxjnD3Hbxf8Ht/7FBsbqSf9jz4pLdLu+xwpeaa0cvpvfzgY898K+Pev0U/b2/4JU/s2/t8ajpHxH8Tah4i8CfE7wvCyeEfi58O9WOm6/pSnd+585QRPASzZikDAB32FC7E/nH8df+DTD4v/AByF1aeMP22vhdqjyZ+z+Ih+zjaaNq3XIeabSb23W6lHeSZXL9WFAHyB+2P/AMHfn7Tn7Wfww8W/s7+BvgH4b+F/hnxxaNo194mh1C41bV9L0u4/dXTRH9xE8zQs4DBF25O3DbXX9Mf+DY39k6Lwj8AvFH7d2p+DbrQY/i5/Z2mfDXQ9SYNc6Z4J0eE2mmGUjjz7nElxMygLKxSUffwPw8/4LS/8EFPjH/wRysfBXi/Xvi7Z/EDwr4yuLmzTxBp+gyWA0++iVXFtKjSy8yRl3QhvmEMvA28/tL/wb8/8Fyf2X/iN/wAExdJ8O/td/tAeD/Afif4L2lr4Y1mbxTrlvp66jp8cW3TrqFZGXzWaCPyWVNzmW3dsDzFBAP1gor4VuP8Ag4g/4J++JrqWz/Zx8O/GL40tDIY2f4S/BvWNTjMgPKrJJDEjn3ViPemv/wAF5fh5pY+1+Nv+CZ37aXhvTxzJquufs6XqW8a55ZjHK7Af8BzjtQB92V8L/wDByP8As9eO/wBpT/gjj8W/Bnwy8P3Gra5pNvp+vWmm2cBklnisb+C4uQiryzC2WdgACSVwBk13X7Pn/Bb/AP4JcftJ+KF+H3gr9rXQ9G8UNIIW8K+PLa48O6gJj0iWLUo4fNf0WMvntnmvq1XV1DowZWGVYd6APyc8E/tAeCP2iP8Ag0Z1jW/CXiu11Sfw3+zLc+GdcihuFeWxvtOsPsjwzLnKPiJHAbBZHRxkMCW/8EoP2gPBH7Lv/Bp/ofxr8deK7XRrXR/h342NlcXNwIzNfPrWsJbW8eSN0sszRoijkswr0z/gtN/wTK/YN8P/APBP79oj9pTwd+zXoXhvxsvw31XUJ9b8JyT6Qby6SF2ElzFZyRRXRLElvORw5J3A5NeW/wDBuf8A8E0v2Ffjh/wSX+Bv7QXxs/Zx0Xxp4oL65cR3Hi6a41O0gli17UIUeKyuZHtYSEjTlIlywLHLEsQDrv8Ag0b/AGevHnwH/wCCRtrrnj7w9c6bJ8RPiBqXirS7e8gMcj2MlvZ2cMu1udsgsjIhxhkdGGQwJ/T6mwQw20KW1tCsccahY441wqqBgAAdBTqACiiigAooooAKKKKACiiigAooooAKKKKACiiigAooooAKKKKACiiigAooooAKKKKACiiigAooooAKKKKACsjx94/8DfCrwXqnxH+Jni/TfD/h/RbN7vV9a1i8S3tbOBBlpJJHIVFA7kik+IfxC8D/AAl8Cax8T/iX4pstD8PeH9Nm1DWtY1KcRwWdtEheSV2PRVUEmvzp+FHwl+Iv/Bej4g6f+1R+1XoOp6B+yboepLd/B34N6grQSfEKSJj5fiDXI+rWhI3W9m3ysuGYFCTOAeb/ALfGr/tPf8HGn7PWv/s9/sO/s96TonwNt7pdR0/45fFi3uLSbxNqVoXaBfD9mMSLE7jyWvZwEMc0yhQykN+Bv/BOD46+EP8Agn5/wUd8H+Pf2qfgfpevaF4T8VS6T8QfCnizw7DfNZRlmtrmRYJ0bbdWr5lTADb4NuQGNf2w6Zpmm6Lptvo2jafBaWdpAkNra2sIjjhjUBVRFUAKoAAAAwAMCv5kP+DwD/gnAP2df2wtL/bm+HWg+T4T+MStH4i+zxYjtPEdvGPMJxwv2mALMO7SRXLGgD+mTwfq3hXXvCWl674FvbK50S+0+G40e501lNvNaugaJ4ivylChUqRwQRitKvxl/wCDQf8A4Kkf8NA/s4ah/wAE8Pi14i83xd8K7P7X4Lkupsyah4caQL5IycsbSVxH2AhngVRiNjX7NUAec/tF/sg/stftdeFm8GftOfs/eEvHOntGUjj8SaHDcyW+f4oZWXzIG5OGjZWGeDXxvq//AATz/bj/AOCZit8QP+CSHxm1Hxx4CsV8zUP2Xfi34gku7J7cHJi0HVZiZtNkC5CRTM8LMxZ2OAtfodRQB+f/AIi+J2if8F7/ANkzxt+zb8Hf2hrr4NTtZ/8ACP8Axp+G/iT4f+d4v8O3Rf8Ae2somu444oZFUoJFhfeA+2RWDInqH/BKf/gn98QP+CavwOs/2TtG/azsfiF4D8K3V4NP03UPBKWmpaXNdS/bWh+0w3jLsL3DzbJIWfE4w4XaK+YP+DhHwR8df2W9d8M/8FWf2LfgDcjx98PYceJ/iF4T1DdLNpK/63T9d0ryx/aOlugXNykwmtCocJtXevn3/BtN/wAFePEP/BQr9sz9qLR/iDa/2TdeM9U0/wAeeGfDYuDMthbw21vpFzGJCBv2xw6Uowq5wxwM4AB+yFFFFABRRRQAUUUUAFFFFABRRRQAUUUUAFFFFABRRRQAUUUUAFFFFABRRRQAUUUUAFFFFABRRRQAUUUUAFFFeT/t1/tU+Gv2Iv2O/iN+1f4rijmt/A3hW61G3tJn2reXYXZa22exluGiiB9ZKAPkP9sBL/8A4K2/8FAI/wDgmlod3M3wJ+C0lh4j/aQu7ZysfiTV3In0vwtvH3ohtF1cgZGFVCY5EXP6Hadp2n6Rp8Gk6TYw2trawrDa2tvEEjhjUYVFUYCqAAABwAK+Xf8Agjh+yZ4k/ZP/AGG/D8XxXkkuvid8RLqfx18WtWul/wBIvfEOqEXFwJT/AHoVaO39MQZ7mvqigAr5v/4Kz/sE+Hv+Ck/7BXjz9ljUordNY1LTvt3g3ULgDFjrVvmS0l3fwqzjynI58qaQd6+kKKAP4b/2Of2nfjb/AMEzf23PDPx/8Labc6f4q+HPih4ta0G8JhNxGjNBfadOMfKJIzLC3GVJyPmUEf2ufs5fH74aftUfAjwn+0Z8HNbGoeGfGeh2+q6Pc8BvKlQHy3AJ2SI2UdOqujKeQa/mt/4O8P8AgnF/wzJ+2xY/tn/DzQfJ8IfGhZJdY+zx4jtPEcCj7SDj7v2iPZcDPLyfaT/DXuv/AAZw/wDBUUaNrutf8Etvi74hxbak1xr/AMKZbqbhLgKZL/TUyf41BukUYAKXROS4FAH9CNFFFADZoYbiFre4iWSORSskbrlWU9QR3FfmEP8Aghwv7C3/AAVr8A/8FI/+Cd+kR6f4J1rVrjSPjB8KbOQQxWtrqEbQNf2A+79mineG5ktcjy/s+YspiJP0/ooAKKKKACiiigAryeT9uL9liH4/D9laT4s24+JDQ+evgn+zbv8AtFrfcV+0iHytxt8g/v8AHlYG7djmvWK/M/4zePb/AOGv/B0HpXiHSfhR4k8XTSfsM+U2m+FYbV7lM+Lpj5x+0zwpsG3aSGLZdcAjJAB9s/Er9uD9lj4PfF/SfgB8Svi1b6T428Qbv+Ed8L3Gm3TXmsYXLG0jWIm6AHUxbwCCDgggerg7hkfyr8w/2qfinq3xT/4L6fsDza18DPGHg1rKx+J4j/4S63ska73eHAf3X2W6nzs287tuN64zzj9PKACiiigAooooAKKKKACiiigAooooAKKKKACiiigAooooAKKKKACiiigAooooAK+Df+C30Q+NGv8A7MH7Bx/eWnxe/aG0ufxRYkZF5oGiRyarfQkehaK35OQMdDX3lXxL+114M8XeMv8Agt1+x7rkPhbUrjQvBvg34i6hcapDYyNa2l1dWFnaoJZQNiMybwoYgn5sZ5oA+2qKKKACiiigD5j/AOCwn7AGi/8ABSz9gDx1+zHLbW//AAkE1l/angW9uMD7HrlsGe1bcfuLId1u7doriTvX8Z/w4+IPxc/ZV+O+kfEnwXe3nhvxt4B8TR3dlJJGUmsNQtJs7HQ/3XQqyNwRuUjBIr+8yv5a/wDg7g/4Jv8A/DKn7ctv+158PNB8nwZ8bPNvb77PHiOz8RRBftqHH3fPVkuQScvI9xgYSgD+iH/gm5+3L8Pv+CjX7GXgn9rT4e+VCviLTQuuaTHJubSdUi/d3dm3f5JQ20kAvGY3xhxXudfy8/8ABpH/AMFRP+GU/wBru4/Yh+KviLyfAvxkvI00NriXEWm+JlUJbsM9BdIBbNjlpFtegUmv6hqACiiigAooooAK4P8AaO/aV+D37KPwwuPi18a/FH9n6bHcR2lja29u9xe6rfSnbBY2dtGDJdXUrfLHDGrOx7YBI5v9rP8AbJ8CfssaZpOhDw7qXjH4geLp3tPh/wDDPwyqyat4hulGW2BiFt7aIENPdylYYE5dslVb5Z1DVr/4OftAaL8Uf2nNNT47/tea9psr/Df4M+CLgf2P8OdNl+R5InnGzT7c8Jc61dATXBBjgj24tiAfQn7PHhf9p/45+MbX9pb9qVb7wLpsIZ/AvwV0/Ugf7MjYFRe63PC229v2Q5FqrNa2uRjzplE6eS3/AOyv+11N/wAFyLX/AIKFQfDPw7/wrm3+BB+Gbxt4sH9qMf7ZfUf7REHk+X5eWCeX5u/Hzdflr3D9nH9nX4uaP4kf49ftbfFSLxd8RLyBo7XTdFWSDw54SgcfNaaXbOdzsR8sl9PuuJuQPJiIgX2ygD4k/bM/ZX/a5+LH/BVL9mr9sX4XfDTw7eeC/gVB4pi1pdR8WC2vtV/trTVsybeLyWUeTgN+8dd5yPlGGP22CSMkY9qKKACiiigAooooAKKKKACiiigAooooAKKKKACiiigAooooAKKKKACiiigAooooAKKKKACiiigAooooAK+W/wDgsl/wT60j/gph/wAE/PHH7NQtIP8AhJPsv9r+ArybA+y65aqz23zHhFlBe3du0dxIeuK+pKKAP4FJ4PFXw+8WvbTpfaPrmh6iVdTugubG6hkwR2aORHX2KsvYiv7H/wDghL/wU30r/gqL+wR4f+K+t6lCfH/hkLoPxKsUwrLqUUYxdhR0juY9sy4G0M0kYJMZr8L/APg7Y/4Jv/8ADJv7d0f7WPw90HyPBXxu87ULryI8R2fiGLb9ujOOnnho7oEnLPLcYGI681/4Nz/2gP8Agor+yV+1bL8Xv2Rv2RfiB8WvA+tW40r4keHvDGjTva3Nurbo5Bc7TBDdQs26MyMMq8keVEpYAH9c1FfD+pf8F2/gL8KJLeb9sr9kn9ob4EaXNIsTeKfiR8LZG0WORiAqte6bLdxpkkcvtx1OBzX2F8Mvij8NvjT4D034o/CHx5pHifw3rNuLjSdd0HUI7q0u4zxujljJVhkEHB4IIPINAG9Xzx+1D+21rHg74hL+yj+yZ4NtPH3xq1CzW4k0m4uGj0fwdZyA7dV165jybW3wC0duv+kXRXbEuN0ieG/tmf8ABV3S9bsfFngb9lT4v6H4S8H+Dbo6f8Vv2l9ahW60bwvcng6Vo0GD/buuMOFgjDRQMy+Z5jkQHkP2Uf2BfiB+1H8Pf+EY8Y+DvFnwd/Z11S+fUtW8F63qkn/CwPjFdy8y6p4s1BW860hm4zYxuJXU7JWijVIAAN+AafE34o+P/E2j/sB/EFPHvxC1uYad8bP22vGGkpPpen+W53aP4ZtMmG68hi3l20J+w27APcS3M5YN9rfsq/sdfBj9kHwtqGkfDSy1DUNa8QXgvvGXjfxJfNfa54nvtuDdX92/zTP1CoNsUSnbGiLha9A8E+CfBvw18I6b4A+HnhXTtD0PR7OO00nR9Js0t7WzgQYSKKNAFRAOAoAArUoAKKKKACiiigAooooAKKKKACiiigAooooAKKKKACiiigAooooAKKKKACiiigAooooAKKKKACiiigAooooAKKKKACiivC/+Cnnxm1z9nn/gnT8cPjV4Wu5LfVvDvwt1u70e4jYhobwWUqwSAjkbZSjfhQB8gaL8FvCf/BwH+0nrHxk+P6S6l+yx8FfG11ovwv8ABEMzR23xA8QWgaG9168dCGlsonZ7e3jU4kAlLEBpI5P0g8G+C/B3w68L2Pgf4feE9N0LRdMt1g03R9HsY7W1tIh0SOKMBEUeigCvlz/giDafCDwJ/wAE1/hT+z/8MvE1jeap4F8A6CPGmn2qlWsNV1TSrXW5FcEDPmLqSzBhkESddwYD62oA80/ax/Z/8R/tKfCKb4ceEPjt4m+HWp/bI7qz8ReGY7aZtyqymC5trqOSC8tZFdlkt5VKuMcgqCP52v24v2pf2X/2eP2qPi78OP2J/iR8RPC3wh0i3l0v4tfC74S689lb/EXX7VxHqFxb28SvH4Z0sPtguLxCPPXMdtC6b3T+nCvhD9v3wN+zp+xT4R8M/Bz4Afsp/D/Tj+1x8aI/h98Tri30RLea8s9XsNSe7u2ePaZJFZMqrlo181/lBNAEf/BNX/gll4W8PeGfAH7T37UOp+FvF3iHR9FgufhT4I8HWvl+CPhvZTIJUXRrVs/aLpgwaTVJ99xK3IZeWb7T+IPxZ+Ffwk0+HV/it8S/D/hm1uJPLt7rxBrMFlHK/wDdVpnUE8jgHPNfHP8AwQz+Nt5pv/BBv4O/Gf4iXE91H4X+GV81wd2ZDZaZPdwxoM+lvbIo7YArmf8Aggb4aX9rn9ldf+Cpn7TelWPij4p/GrX9Yu11LVbdbn/hG9FttRuLK10XT/MB+y2iC3aTYmDI0paQuwBAB9/aJ4p8M+JY0m8OeIrHUFks4ruNrG8SUNbylxHKNpOUcxvtbo2xsE4NXq+atd+DX7Kn/BNvxR8af+CicFjZeD/DOqeAbK6+IWl6JpqxwyS6TJqE63kUKEL9omW+kjZVA8yRUY5d3Y+bfEH/AILC+Jvgn8Jfh98Rvjf+yDqGi6h8Y77QoPhL4bsfGEV3Pqx1O8tYBbXb/Z41sr6GO7hne3Xz0ZN4SZzFKEAPt6iiigAooooAKKKKACiiigAooooAKKKKACiiigAooooAKKKKACiiigAooooAKKKKACiiigAryv8Aaa/bg/ZA/Yy0aLXP2qP2kfB/gWO4jL2dv4h1yKG5u1BwTBb582fB6+WjYrwn/gop+3D8d9O+MPh3/gm9/wAE8rLTr748+OtLbU9S8RapEs2m/Dnw8sgjk1u9QgiSQsSlvbkESSYLAjakux+yB/wRr/Y9/Zg1Bvip488Mt8Xvi7qTLceJvjF8Uo11bWL+76tJD9o3rYxg/KkcAXagVWZyNxAOS0j/AIOQP+CKGt6sujWn7d2ixSPJsWe+8Maza25P/XeazWLHvux719WfBH9oz4AftLeFf+E5/Z4+NnhXxxo/yhtS8J6/b6hDGxGQrtC7bG6/K2CMHI4rpdY8M+G/EWjP4c8QeHrG+0+RNklheWiSwsv90owKke2K+Qvj3/wQx/Yj+Ivio/GT9nLRtU/Z9+KFuC2nfET4IXn9hzq+d2Li0hxa3cbMB5iyRbnGRvGSaAPsuivz48If8FEP2tv+CcPjzTfgV/wWU07S9S8F6tfLYeDf2qvCGmm20W8mY4it9etFyNIuW/56r/o7E4GFR5R+gNhf2OqWMOp6ZeQ3FtcQrLb3FvIHjljYZVlYcMpBBBHBFAE1eVft0fs/SftW/sYfFX9mu2uY4bnxz8P9W0WxuJjhILme0kjhkb2WUox+lbn7Rn7S3wH/AGR/hJqnx1/aR+KOk+EPCmjx7r3VtWuNqliDtijUZeaVsYWKNWdzwqk8V/NN/wAFqv8Ag6L+N37ddvrH7N37Gcep/Dv4R3Ie11TVGk8vXPFEJ4ZZWQn7HbOODBGxd1yJHKuYlAOJ/Yz/AODjH47f8E6Lv4iWvgP4IafrviDxR4B8F+Gl/wCEo1JxaaNqnhzSU0f7Y0MPzXQmghj3L5sR3RqdxAw37Wf8G4X/AAV3/aM/4KzfAHx14i/aV+GGm6ZrXgXxBa2MPibw9p8ttp2sx3ETyeUqSO+LiDyx5gVsbLiA7VJOf57/ANh7/ggn/wAFJf2+PgNqX7TvwL+Bq3XhPT5lGmxavrUWl3XifaxEyaabhfLk2YIMshSLd8ql2V0H6Rfs1f8ABRP43/8ABM34O/8ADB1z8U/hr4N8JWum3VrZ+DPj/wCCPEvw58aaUs4bzGj1PRbK5sLxgzsVv43E0jbZTtJwAD9wv2qv2uP2dv2Jvg3qfx5/ac+KWmeFfDelwsz3V/MPMupAMiC3iHz3EzYwsUYZj6Yya/G79tf/AILK+Ff227/wn+0z4W+Gms+EvCv7NvhrXvHOsafr0yPcT+KdSt7jSfB+lsIwVS8mMx1B4VMhigLZYmJ8fFXiDSPhT+0T8b1uPh9490jxt4okk8z/AIs5b+Nvit472ls7bW51+C20yzJIGLsZuIWHmKcqAfor4E/Cb44fsOftHfCj47/8FFv+Cb/jT4a/sjeA9Sutc8Pafp95B4ln07xRKFSLxV4ua2dri5uQNx82SKNYD5SQxKFdHAP0f/4IEePvhV4g/wCCavg79gP4i6Fq3h34ieBPBcmn/ET4Y+ONEn0nVobe6mmY3ItrhUeW0mE2FuI8oS20lXBUUP8Agm74O/aa/wCCPPgXUP8Agn98V/2dPHHxE+Fmg+JNQvPg/wDFT4d6dFqn/ErvLl7ltP1SySRbm2uYpppG81I3hkEhAZdnzfTXxo+BH7Pf/BRT4SeGfi/8Lviqtvq1lEdV+FPxn+HuoxSXujTOuPOtp13JPbvjZNayboZlBSRCQCvD/s6/t0/Fj4c/E7Tf2Ov+ClfhPTvB/wARdQuTaeBfiFpKsnhX4khR8rWUrk/YtQK8yabMwkzloTKh+UAP27vgf8eP+CjX7Anxm+A2meBW8Fr4x8Dy2XgjS/E80S6hd6gjCeOa78iSSO0heSOKNU3NIqs7SqhxEPnT9ovS/wBrX49w/sq+KrL9h7xzcaB+zjd6b42+KXhm8s4LfUL3Xba3i0+DTdISSVU1Ca38+9vPNRxbOtvGizF5AB+ntFAGb4P1LX9Y8I6Xq/ivw9/ZOqXWmwTalpP2hZvsVw0atJB5i/K+xiV3Dg4yODWlRRQAUUUUAFFFFABRRRQAUUUUAFFFFABRRRQAUUUUAFFFFABRRRQAUUUUAFFFFABXKfHX4y+B/wBnb4LeLPj38TNR+yeH/Bvh281rWbjjK29tC0rhQerELhV6liAOTXV18Jf8F+7zUPiP+zb8Nf2GNFvJIpv2i/jl4b8E6q9u5WWDRvtBv9QnXHO1YbMI2Oqy47mgDR/4If8AwI8aQ/ATW/8AgoL+0Npw/wCFu/tOaovjTxRJKnzaXpMi40fSIifmEFvZGIhWwwaVlOdor7cqHTtPsdI0+DStLs47e1tYVit7eFAqRRqMKqgcAAAADsKmoAKKKbNNFbwtcXEqxxxqWkkdsKqjqSewoAx/iR8N/APxg8B6t8Lvin4O07xB4d16xks9Z0XVrRZ7a8t3GGjkRgQwP6Hkcivxt/aL/wCCjkv/AAbEfFPUf2SLLxGvxm+EviPw7cav8IfAN14qX/hIfh1dBlC6XdySb3bSJCxaCRg0qCN1CvtLPV/4LZ/8HXfgb4Ff2t+zH/wTL1nTfFPjNPMtda+KWxLnSdFflWSwU5S+uB/z1ObdCBgTEkJ/PPqGo/G/9qb4ztfaldeIvHnj7xprShpJGm1DU9YvpmAA/iklkZiAByegFAHrP/BRT/gqD+1//wAFQvi63xS/ae+IL3VvayOPDvhHS98OkaHE3/LO2tyxwxAG6Vy0r4G5yAoH6ff8EF/+DWzXPjN/Yv7Yf/BS/wAJXek+EW8u88KfCq8VobzWhwyXGpDhoLY8FbfiSXq+xMLL0P8Awb+/8EevhX+yN/wURPws/wCCpXwdEXxq/wCELsvGXwV0fUryG80S4gG77ay7QUm1OzkCAxlnWMB5UDbEmH9C1AFTQdA0Lwrodn4Y8L6LaabpunWsdtp+n2FusMFtCihUijjQBURVAUKAAAABUPifwh4T8b6W2h+M/C+navZM2Ws9UsY7iIn1KOCP0rRqjdeJvDljrlp4YvvEFjDqV/HJJY6fLdIs9ykeN7Rxk7nC5GSAQMjOKAI/Cvgzwf4F0z+xfBHhPTdHs9277JpVjHbxZ9dsYA/Sr1zbW97bSWd5bxzQzRlJYpFDK6kYKkHggjtUlFAHxh41/wCCaXxE/ZZ8caj+0D/wSS8caX8PdS1G6a98WfBLXlkbwP4tkP3mSCPLaLeMAALq0XYSqiSFwWNb3gn9o79ln/gpD4f8QfsLftj/AAJl8I/EH+zhJ4u+CHxECfa/LU8X+mXUREeoW6uu6O+s33RsqsfJfAH1jXl/7Uv7HXwB/bF8IWnhb42+D2uLrSLr7Z4X8TaTeSWOs+Hb0Y23mn30JWa0mBAO5GAYDa4ZSVIB87w/GD9oH/glHdR+Gv2q/E2u/E79nfzBFovxmuImute8Bxk7Y7XxCsalr2yHCrqqLvTpdLgievszw/4h0DxboNn4p8K63Z6npmpWsdzp+o6fcrNBdQuoZJY5EJV0ZSCGBIIIIr47ufj7+1L/AME7LNvCf7eVvefF34L7Tb2/x30LQxJqmhWpGNnibTIEIeILlW1K0QxkDdPBDkucrSPhF8Rf2I7GP9pv/glq9v8AE/4DeIVOra98BdD1aKeGCGU+ZJqfhC43GKJjlpG0wsLaYlvJMMhAYA+5aK8//Zo/ah+CP7XfwstfjB8BfGsWsaTNNJbXkTRNBd6ZeRnE1leW8gEtrcxN8rwyqrqeowQT6BQAUUUUAFR3d5aWFtJe311HDDEu6SaZwqovqSeAKkr83/2Wte07/gqv/wAFP/2jNV/aF0+HxB8Lv2bvFFr4H+HPw51SMT6TJraGb+0tZvLZsxXV0ssIjgaQMIY2JVVk+cgH6K6br+hazZW+paRrVpdW90xW1uLa4WRJiASQrKSG4Unj0PpWRq/xg+Evh/xxZ/DLXvij4dsfEmooH0/w9ea3BHfXSk4BjgZxI4JB5CmvJdX/AOCevwJ0z9pz4c/tP/B7wbpXgvVvBupai2uWfh2zFnaa5a3WmXVpie3gCxSXEcskDpO6l1jWVAcPgfmTe+JdD8c/8Eav2nvE3jz4S6p4i8WfE74xePJb74hPopuLTw7c2mtJZ2OoX14oaW0gsIliljZVYQw2b7QAuCAftlRXLfA1ZI/gp4PSX4hQ+LmXwtp4bxXbTiWPWj9mj/01HUkOs3+sDAkEPkE11NABRRRQAUUUUAFFFFABRRRQAUUUUAFFFfFn7W3/AAV2/wCGCf24Ph3+zl+1p8H9J0P4b/FCO6Tw98XNM8XS3EemXUU0USR6naSWUa2cbvPCvnCeRFMgJ+VXZQD7Torx79sb9oL4rfs6+DPDfjD4X/C3QfFa63470Dw1dw6z4qm0v7KdV1S206K4Vo7O58xUkuVdlwpKg4JPFet6e2oPYQPqsMMd0YVNzHbyF41kx8wViqllBzgkAkdh0oAmrg/ib+zN8E/jF8Vvh/8AG34j+C/7S8S/C3Ub2/8AA1+2oXEa6dcXdqbWeQwpIsUxMTFR5qPsPzJtbmu8ooAKKK+Hf+Cvf/BeH9kn/gk54Sm8PeI7+Pxl8VLyz8zQfhro94onUMPkuL6UBhZW54wWBkk/5ZowDMoB9PftS/tYfs8/sWfBvU/j5+058UtN8J+F9LX99f6hId08pBKwQRKDJPM2DtijVnbBwODj+Yv/AILT/wDBzD+0P/wUam1T4B/s3nUvhv8ABeRmguLGO4Cat4nizjN/LGT5ULD/AJdY2KHJ8x5flC/HP/BQr/gpd+1t/wAFN/jJJ8Yf2pPiHJfeQ0i+H/DOn7odK0KBj/qbW33EJkBd0jFpZNoLuxAwz/gnd/wTd/ai/wCCnPx5tvgT+zN4Ma6kTZL4h8RXwaPTdBtC2DcXUwB2jg7UAMkhBCKxBwAcB+zT+zL8df2wfjPov7P37OPw51DxT4s1648uw0vT4+ij78sjnCwxIPmeVyqIoyxAr+q3/gh//wAG+/wJ/wCCU/hG3+KnxCGn+NfjdqVnt1bxc1vuttEV1w9npiuAUTBKvcECWUZ4RG8sex/8En/+CP37Lv8AwSX+DP8Awg3wd0sax4v1a3j/AOE0+IWpWqrf6zKOdgxn7PbK33LdSQvVi7lnb6woA+Rf+Cx37JPxC+Pf7PGm/H/9mmM2/wAcfgRq/wDwmvwlvoY90lzcwLm60lgMGSG9t1aBoshXfyt3AIPtP7FP7V3w8/bi/ZU8DftW/C58aR400GK+W1aQM9jccx3NpIR/y0hnSWFscbozjivUa+Af+CdkP/DEv/BTf9oH/gmrMfs/hLxgI/jL8HbVuEgtdQm+z61ZRfwokN+qtHEv3UlZsDOaAPv6vg/9rfWNJt/+C937ItpcapbxzD4a/ENTE8yhgXgsNgxnq2Dj1wcdKzf+Dkj/AIKJ/Ff/AIJ3/wDBPX+3v2ftXGmePPiJ4qtvCfh3WuN2kLNDNNPeJu4EixQGNGP3HmVxnZXzn+0x/wAEeP2IV/4KMfstfsY+NPhjHrun+KvhJ4+bxz4uvpmbXvEOrQ22nldYub9iZ5LxZS0sbsxEZbaoCfJQB+x1Ffk7/wAG0v7Wf7ST/ED9oP8A4JaftTfEXUPGOrfs7+L20/wv4o1a4aa7uNOW7ubR4HkYlnjR7eOSLcWYJclMhY0UfrFQAUUUUAIyq6lHUMrDDKR1r5G8e/sDfFP9mPxfqXx8/wCCWPifSvCd9qF0994s+B/iBnTwZ4rmY5klhSMFtEv3H/L1bKYnYL50EmS4+uqKAPzm8P8AiLwl+1F8d9a+LX7G2qTfs5/tjeHbGM/Ej4OfES18q08ZWsXCJqdvCdmqWh5W31qxLSxK65JU+RXp+hf8FvP2QPAXhPxRp37ces/8KF+I/gKw+0eMPhp45ul+2SryFn0h4/l1u2lYERSWoZm4DRxsdteu/tr/ALAvwG/bo8HWOmfEq11DRfFPh2Y3fgX4keE7w2PiDwre9rixvE+ePnG6M5jkAAZTgEfkF49+Onib9rPwt46/Z3/4K0/AHxl4o039n34paj4X8E/t1fCPwK8tz4c1jTplP2vUbKBXZI1IhafyleBm2qUEiLOAD7u0f9qr/gtZ+27Yp4z/AGN/2Tvh78C/h/eKJNH8S/tFXN5c+INVtjytxHo+nkCy3DGEuZCSvzDgiob7UP8Ag5G/Z5X/AITC/wBJ/Zv/AGgtHtx5l/4V0P8AtDwvrtwo5KWk85ezBI/5657YHWvTP+CNv7eni79vn9mLVvFfju703XNV8E+MLvwrc/ELw3YTW+i+NhbJGyavYpMiNGkqyASRYxHMkir8u0D62oA+eP2C/wDgpP8ABL9vGw1zwzoWha54H+JHguZbf4hfCXxxZ/Y9d8PTkDBkhP8Arbdsgx3CZRwRnaxKj5v8BfB341/8EoP+Cj/xq+OmgfAnxd8QvgP+0dqtr4j1S++HuiSatq/gvxKnm/afP06AG5ubS5M0knm26SshCIUGCzfM/wDwVn8H/tm/si/t2eLf20fh22oalrHgPw/J8SfhP40aE7NQ8N281vH4o8CapKi/vrZI5TqVr5gJhjWZY23YMf7E/BT4r+F/jx8G/CXxx8DyM+i+MvDNhrujvJjc1rd26XEROO+yRaAOW+G37QGtfHDxFYTfDH4XeKNN8LxB5da17x74P1DQZpPkYJbWtlqEcF2ZN5RmlkhWJUUhS7thPzo/4J0fGX7J/wAEtvjv8DdH+AXj7xh4k8RfEv4m6Z4c0XRvA97eWGuTXmpXkMcT38UbWdpH5jlJGu5YdiqzkFCjP+s1ePfsM/sdeE/2GPgP/wAKN8I+LtS16OXxPrGu32satHGk1zdajfzXkuVjAUBTNsGOyAnkmgCn/wAE2/2bfGH7H37BXwl/Zj+IWvR6lr3gvwPY6brF1byF4vtSxgyRxseWjRiY0OBlEU4HQe20UUAFFFFAFPxDodn4m0S60C/uLyGG7hMckun6hNazqD3SaFlkjb/aVgR618G/8EA/Gfxc+OP7NvxO8efH345+NPG+sWXxp8T+FbG+8QeI53+y6XZSxRQxxojKiOPmYzBfNJb7+AAPvbVNV0vQ9Om1fW9St7O0t033F1dTLHHEvqzMQAPcmvyd/wCDev4KfsM/tIfs2fFzxZ48+HXw78Y61b/tCeL5pr7UrO0u7iOwa4jkhkJbLCEq+5W+6QTg0Aevf8Eq/iL4/wBS/bB/bIg+OP7R3i7WfC/wg+KC6R4Qt/Fvi+d7HQdKNrJcS+YZHCyhQQPNuC7KsQO4EsT95eCviV8OviVYHVfh14+0XxBar9650XVIbqMf8CiZhX5m/wDBFB/ghqX7WX7fHwM+Cnj7RdAtrr4vRw6BF4TksHks7b7DLAZ7SCaOWBxHIj43xSRbkwysMqei+Ln/AAQ4+IV54im8YeGIP2b/AIkXUkjMJviD8EF8L64ff+3PC01q27/a+xnHUCgD9KqK/J2X9l39sP8AZ8OJP2d/2sPBenWvH279mv8Aauj8cabG399NK8WhJgh6lEhcgccnFSaT/wAFBfiz8LdTh0XxH/wWNHg3VPM2ReGf2yv2VJ/Dhb0V9RtW0q3P++hfPXvkgH6vUV8Y/DX9q7/gqFr2gr4s8IfBb9mr47aG2AusfB744XNg7e4hvLG4gOR0X7X+NdIP+Ckvxa8Ff6P8ff8Aglt+0R4ZkX/XXfhnQtM8W2ePVW0W+uLhvp5APtnigD6qr5P/AGu/2dPg9+1r+2bo/wCzp8e/Btvr3hPxX+zn4wstW0644yp1vw2VkRuscqOFkSRcMjorAggVPaf8Frv+CZ9vfR6R8Qf2kP8AhX99I2xrL4p+E9W8KyRv3Vjq1rbrkexI963PAdv+yl+0d+0/pP7WvwV/bng8V61pnh240TT9I8H+NtF1DSzptxPb3E8HlQwyO3mS2sDmXzPNHlgK6rkUAfAHhn45/Hb9hzxV4N/4Iqftu6/f+ILmy+Mnw+1D9m74qXULFfGPhq28XaSzadcMBhb+yiXDAnmNPRYnm/YxmVFLMcAckntXi/7cHwy/ZH8QfDfSfjz+1+2n6bo3wX8SWfjzSvFl5MIn0O70+VZhKr4JKyBfKeIAmUPtA37CPhH4UfD79rX/AIOGJLj46/tCeOPFnwe/ZBurqSPwD8KfDV42n638RrNWI/tDV7pPnjs5SPlt0OGX7p+VbiUA+3PEX/BU3/gmb4R8Vz+BvFX/AAUI+Cmm6vaymK60+++KGlRSQSDqjhpxsb/ZOD7V12nftqfscax4buvGWkftZ/DO60ext2uL3VbXx5p8ltbwqMtI8izFVUDksSAK4P4Tf8Ejv+CYHwR8LxeEPh1+wL8J7e1ijEZm1DwTaahdSqB/y1ubtJJpfq7sa+G/+C8P/BED/gmBZfsaeLv2ovBn7HF54V17wpFFd32qfBHT4LOezsjKq3F4+l5S0vIoEYzSIBDIY43ImjwWoA8I/wCCzP8Awdv+HvDdtqv7OP8AwSs1GPUtUbfa6t8Yrq1DWtp2ZdLhkH7988faZV8sYJjSQMsi/wA/PjTxr4x+I/izUfHvxB8VajrmuavePdarrGrXj3F1eTucvLLLISzuTyWJJNdH8ePgd4i+A/i+30LU9Vs9X0nV9Nj1Twr4m0rebLXdMlZliu4C6qwBZJI3jcLJFLFLFIqSRuo/Q7/ghH/wbjfFb/gpZqWn/tH/ALSKaj4P+BtvdbobhF8rUPFrI2Ghstw/d24IKvdEEZBSMMwdogDw3/gjv/wRK/aY/wCCuHxT8nwlbzeF/hnot4sfjD4jX1oWgt+jG1tVOPtV2VIPlghUDK0jKCob+sn9hz9hD9mj/gnb8BtP/Z4/Zd8AQ6LotniW+vJMSX2r3W0B7u7mwDNM2OvCqAERURVUdv8ABP4I/CX9nH4WaL8EvgX8P9N8L+FPDtmtro+h6TbiOG3jHP1ZmJLM7Es7MzMSxJPVUAFFFFABXwX/AMFfYz+z/wDtT/sjf8FCNM/cr4Q+Ma+AvGEy/Kp0LxLAbOSWY/xJBcRwSKD0Z8jvX3pXx7/wX6+GNx8Vf+CPfx20zTyyXmh+D/8AhJrG4j4e3l0m5h1ISIf4WAtTyOxI70AcJ/wcg/8ABNf4nf8ABS//AIJ4TeA/gRYpe+PPA/iaDxR4a0lpljOreVBPBPZK7EKrvFOzpkgGSJFJUMSPkbwZ/wAFafhp8UP+Chn7IPxY/aa0Hxd4H8ffD/4S+NtH+LPg3XfBWorqtrrj2thGqwWqwGW6FzJFI8IhV2IO1grKwH7FfAX4l2/xo+Bngv4xWiqIfFnhPTtZiC9At1axzjH4PXzN+0v8Ifil4k/4LO/swfGPQPh9q954U8M/D7x5a+IfEVtYO9np09zDYi3jmlA2xtIUcICQW2nHSgDzL/gh1+w38Yfhr8X/ANoj/gpD+0Z8Pr7wb4m/aN8fTar4d8DawqrqGgaAtzcTWyXiqcR3UonUvEclBCmdrM6L+iVFFABRRRQAUUUUAFfi/wD8E6v+CgHxL/Z0/b8tf2QNba2tfCfjr9sT40eHvHElxboZP7aaSy1HRpfMI3RibzJ4owDiXzHJB8sFf2gr8d/+C4X/AATxX4RfFrxZ+3BoNn4gj+FnxEbS9Q+KmqeDLJrjV/hn4s0kEaR46sYIyGmiiUtDeRph/JlmkBLMGiAP2Ghhht4xDbwrGi/dVFwBTq/BXxN/wWv/AOChHhuPw58T/HX7T1v4Lt7HSY9Ok8eaT8MR42+Evj8QsxXUReaZGNT0a+dXAmswHZSBujtiBHXFfGD/AIKFfttf8FM0Pw6P7RHi34ueF2Vm1b4c/skfC7WfCeiaogHzR6x4m8QrHNp9mQCJCI5Y2ViDtOHUA/SH/gsh/wAFRv2efgx8I9f/AGS1SHxVqHxQ+BvxAv7y+0nU4pLXRdOsdEvkWWfbu3/ab5BYRoCP3pkyQY9re+/8EnvC3iDwR/wS/wD2ePCniqKWPUbH4K+GY7y3mXa8D/2ZbnymHYpnYf8Adr8Sv2PP2C/E3/BSH9pi++CWg33h3U/DTSaTY/tAeL/hwH/4RDwb4U0yaO4sfh54fuST9vllmhgmu7tGZS8SOHlImkuP6MrOztNOtItPsLWOGCCNY4YYUCrGgGAoA4AA4AHSgCSiiigAooooAKKKKAGXNtb3kDW13bpLG4w8cihlYe4NVrTw/oNgXNjolnD5ibJPJtlXcvocDke1XKKAKdn4e0DTpxdafodnBIOBJDaorD8QKuUUUAFV9W0jSte02bRtc0y3vbO4jKXFrdwrJHKp/hZWBDD2IqxRQB80/En/AII7/wDBM/4na+3jG8/ZC8L+HdebJ/4ST4fCbwzqW487/tWkyW0rNnuWPTnNc8P+Ca/7QfwxPn/ssf8ABVf44eG1XhdH+I0un+N9OC9k/wCJnB9tA+l2DgYBFfW9FAHyJqD/APBaD4bWMum+KfAP7O3x60VV8uaGyvtT8F6neJ6tDcJqdozeqmSNe3HWvAPjHpP7CHiVpH/b7/4N3PF3hi8U773xV4W+EmleKLeNf+en2/w3LLeBR1y0SEdTg5A/TqigD+c/9ur4bf8ABIL9sL9pH9nX9hD/AIJzfF/4kM3jz4vWcPxK8FX3ibxSul6XokQ3z7rDWiDBdMMmPywNgjfIUFTX9Efhrw5oHg7w7p/hDwpo9vp2l6VZRWem6fZwiOG1t4kCRxIo4VVVQoA4AAFfm9/wca+BdM+H9h+zz/wUGuzPZWXwe+L0Gn+NNdsI2FxpfhzW4/sN3dqy/NmKT7OVH95x0zz2X/BuX+0x4j+K37BK/s0fGLxj/aXxQ+APiS+8D+N4570zTGO3uJPsFwGPMkD2uyOOXlZPszkE4OAD78qO7tbW/tZLG+to5oZo2jmhmQMsikYKkHggjgg9akr5u/4KWf8ABSD4e/8ABPD4R2OsHw63jT4keL9Ug0b4W/CvS75Y9S8U6pPIsUcUYwzJCrMDJNtKqMLy7orAH5nf8HBX/BOf/gmz+yx8EPhLqPgPwVounL4T+PNp4l174dx6wTJL4V1W9hh1WC3g3GSCxN0ltsVMRRPPMECmTFftt4f8P6D4T0Ky8LeFtFtNN0zTbWO10/TrC3WGC1gjUKkUcaAKiKoChQAAAAK/m0/bi+K+s/8ABXD/AIKqXHh/w1FHND4m+I3g34OeHYbC7+02smn6XOdY8UXUEgA86G1uxAwlAAkhuI3HUAf0r0AFFFFABRRRQAV+d3/Bz54n+MPwy/4Jb658Z/g5r8ll/wAI/rUdl4xtusOq+HtWtbnRr2xmU8MjnUIHGRlZYonXDIpH6I181/8ABYv4IR/tFf8ABLP49fCf+zmvLi7+GOqXum2qLlpb2zhN7aqPcz28WPegD4l/4Nq/25v2m/8AgoH4X0PTr3TX8M/Bv9nn4SaB4IsrONS03i3xMLKGGa+nn7xW8Fu4W3XABvY5HLsE8v8AW6vjv/ggx+w//wAMCf8ABL34a/CDW9EWx8Ua1pv/AAk/jaNofLkGqX6rK0Uo/wCekEPkWpPf7NmvsSgAooooAKKKKACiiigAps0MNxC1vcRLJHIpWSN1yrKeoI7inUUAfDnxN/4N9P2C/EPxM1D4zfs9a38Tf2ffFGrSb9W1b9n/AMfT+HVumznJtwslugyc7Y4kUnJIJJJwtQ/4N1f2X/iPdQxftUftjftRfG7SYpA0nhv4qfG25u9Pmw24K0drFbnGf7rCv0AooA5X4L/BD4P/ALOfw3034P8AwI+Gui+EfC+jw+Xpuh6Dp6W9vCOpO1AMsx+ZnOWZiSxJJNdVRRQAUUUUAFFFFABRRRQAUUUUAFFFFABRRRQAUUUUAFFFFAHHftB/Af4ZftQ/BDxV+zz8ZfD66p4X8Y6JPpetWe7azQyqVLI3VJFOHRxyrqrDkCv5u/jn8B/2+f8Aghj+11a+IJfic2hXgsV8O+DPi5rdrNJ4Q+Jvh5FCW+i680RLaffQwKkCSMQFWGPDwpCt239OtZPjjwH4H+J3hO+8BfEnwbpPiHQtUgMGpaLrmnxXdpdxnqksMqski+zAigD+V/4jf8FNv22/2TPhHNqXwR/aB/ae+E8N8rLpOg6tqmn+PvBs7H+DSteuJFaC2znYIhdso4Mshy5+B9Q/bR/az1v45y/tMa9+0J4s1T4hTWd1aL4y1XV5LrUYobiCW3kWKaUs0P7qaVFMZUxhvkKkAj+qz41f8Gv3/BFr40arca837Kb+FL66ctNN4K8UX9hECf7tsJWt4wPRIlFfzi/8FrP2FNG/4JZ/8FL/ABP8APg3f6xD4b02LS9c8C6hqV0JLwW81vHJuMiquWjulnjDAD/VA9aAP2u/4NhP+CPfxQ+APhXSP27/ANr3wi2h+JG8LtpXwn8DXUBSXw9pty3m3epXKN8y3t4zdG+eOA+WcKyxQ/sdXi3/AATo/aw0r9uX9hv4X/tW6ZLCZPGXhG2utWjgxsg1JB5N7CMdo7qOeP8A4B2r2mgAooooAKKKKACmyxxzRtDNGrIylWVlyCD2NOooAKKKKACiiigAooooAKKKKACiiigAooooAKKKKACiiigAooooAKKKKACiiigAooooAKKKKACiiigAooooAKKKKACv56f+D3n9nVbLx58D/wBrPTbDP9paTqXhLWrkL937PKt5ZqT3z9pvj7bPy/oO1fV9K0DSrrXde1O3sbGyt3nvLy8mWOKCJFLNI7sQFVQCSxIAAya/B/8A4OWP25/AH/BTH9hPXPB/7FfwR8XfELwP8IPHNlr/AIv+OljZLbeGbGRBNp7WtnPLh9ScvfLv8hSiLtk3Mg3AA6D/AIMrf214/F/wN+JH7BPinWQ2oeD9UXxV4Tt5pPmbTbsrFdxoOyRXKxSH/av/AMv3Ir+IT/glz8YPFfwd/bq+Hlz4b/aA8VfDG18S+IrXw54g8ZeDbuKG+0/Tr6eOGaQGVHQquVkYMp4jyOQCP6jn/wCCR37Znhcf2j8KP+C6P7RVnqa8xzeLrTRtetQ3vbS2qKw/2c0AfdtFfAd98R/+C8H7EA/tX4qfDfwB+1t4Gteb7Uvh1Znwv4ziiH35v7OkZ7O7IHIhgdZGOQCODX0N+xF/wUf/AGUv+CgPh3UL/wCAfjiePX9Bk8nxd4B8SWLad4g8OTg7WhvbGX95EQwK713RlgQrtg4APdq54fFz4UG+1rTB8TvD32nw3Hv8RW/9tQeZpS7Q265XfmAbSDl9vBzWB+1l4o+IPgj9lf4meNPhLbSTeKtH+H+s3vhmGGLzHk1CKxme3VVwdxMqoAMcmvzx/ZBPxE0P9hH/AIJw3vwD+M50Ox8YePrPUfilIuteTJ4nuLrQdXv9RS7Ytm8eS9SUMrli07QnG5FKgH6f+F/FXhfxx4etPFvgrxJYaxpOoQiWx1PS7xLi3uYz0eOSMlXX3BIq/Xwr/wAEztU1jQP+Cnn7dXwU8I7o/hxoPjrwhq/h+zg/49LTXNT0P7RrSQ4+UM86wyyKuMSSsSNzkn7qoAKKKKACiiigAooooAKKKKACiiigAooooAKKKKACiiigAooooAKKKKACiiigAooooAKKKKACiiigAooooAKq63rejeGdFvPEfiPVraw0/T7WS5vr68mWKG2hRSzyO7EKiKoLFiQAASatV+f/APwVK8Q+Kv27f2oPBP8AwRc+E3iC7sNE8R6YPGH7SOvaXM0cun+D4ZgkWkpIv3JtRnHlHkMsKliro7CgDjdE0T4jf8HBvj+48W+LtR1rwt+xN4b1hoNA8P2k0tjffGe8t5cNeXTDbJDoySIRHECrTMpZtrKBD9sfHz9kT4WfFn9irxj+xP4Y8IaT4f8ACviLwDf+GdL0vS7BLe00yOa2eKIxRRgLGI2ZXXaOCoI5r0bwT4L8JfDfwdpXw98A+HLPR9D0PTobDR9J0+ARwWdrCgjihjQcKiooUAdAK1KAP4EPEOga34P8RX3hfxDYyWepaXey2t9aycPBPG5R0PuGBH1Ff2r/APBHX9sVf27/APgmv8Jv2jr3VBda1qHhiOw8VSbst/a9mTaXjMOq75oWlAP8MqnkEE/y5/8ABxH+zP8A8Mtf8Fg/jL4SsdP8jS/EviBfFmjlV2o8WqRrdy7B2VbmS4jwOB5fHFfpL/wZO/tn4b4rfsBeJ9W/55+NvCNvI/8A1zs9RQZ/7cHCj/pq2OpoA/f+vlX9vj/gln8O/wBrXX7H9ov4M+M7z4S/tAeF4t3gv4xeFYwl2hUcWmoRDC6jZPja8MucKWCkBmVvqqigD5D/AOCd/wDwUT8d/GPx7rn7D37cPgWz8A/tH+A7MT65oNo7f2Z4s0zdsj13RpH5mtZDjdHy8LkqwGDj2HQv2Dv2O/DMWtWvh/8AZ48NWcGvNM19aw2W2GNpbhLqVrePO20L3McVwxgEZaaKOU5dFYfOv/Bdf4QfCe4/Zz0n9re++I918M/iZ8ItWXU/hf8AGCz0a5uotAvn+X7LqX2WKV10u7OLeZpEMK+YjPx8r+I/8E9v+DiPwp+37+3d8D/2bdG02PR7zxR8I/EbfEDQreVZobXxbbXEMiQwzKWEsKWunahNGysQ0V/ESdykAA/SX4MfAf4P/s8eFJvBPwV+H2n+HtNutSn1C+jsYz5l7eTNulup5WJkuJ3ON0sjM7YGScDHXUUUAFFFFABRRRQAUUUUAFFFFABRRRQAUUUUAFFFFABRRRQAUUUUAFFFFABRRRQAUUUUAFFFFABRRRQAUUUUAVtZ1jS/D2kXWv65fx2tlY20lxeXUzbUhiRSzux7AKCSfQV8Lf8ABCLw9qnxl+GvxO/4KjfEDTpU8TftNfEK81rS/ta/vrHwrYSPYaJYn2SCKSQEfeE6kiu8/wCC7vxl1X4E/wDBIj47+NNAkkXUL7wS/h/T/JOJPO1WeLS12Y53g3mRjkEZ7V75+y/8FtJ/Zu/Zs+H/AOz5oUUa2ngjwXpmhQ+UuFYWtrHBu9ySm4nqSSTQB3VFFFAH88f/AAe6/s2DTviZ8E/2vNLsPl1bRb/wlrVwq4CNayi7swT3LC6vPwi/L8s/+CQX7Zcv7A//AAUe+FP7S93qTW2i6X4mjsvFbbvlOj3YNreEj+LZDK8ig8b40PBAI/pN/wCDqn9m3/hoP/gjn4316wsPtGpfDbWdN8Xaeqr8wWGU21y2ewW0u7lz/uV/I9QB/f1FLHPEs0MiujqGVlbIYHoQadXxL/wby/tof8Nvf8Eofhn461jVvtfiTwlYHwf4sZpN0n2zTlWJHc93ltTazsfWc19tUAU/EHh/QfFmg33hbxTolpqWl6laSWuo6dqFus0F1BIpSSKSNwVdGUlWVgQQSCMV/P1+2X/wR48Q/wDBE7/gqp8Hf+Cl37KGn303wFl+Kmmx+LrWBWmm8EQXtyttdQysTk2UkM8qxTsfkYrDKdxjeb+hGqPibw14d8aeHb7wh4v0Kz1TStUs5LTUtN1C3WaC6gkUq8UiMCroykgqQQQcGgC9RQo2jaO3rRQAUUUUAFFFFABRRRQAUUUUAFFFFABRRRQAUUUUAFFFFABRRRQAUUUUAFFFFABRRRQAUUUUAFFFFABRRRQB4D/wUl/Yt1b9vb9nix+AenePrfw9AvjzQNc1O4utPa4W6tdPv4rt7YKHXBkMSqGJIXrg179RRQAUUUUAcj+0D8H/AA/+0L8B/GvwE8WAf2X428J6joOobl3Yhu7aSBzj2WQmv4RfHHg3xD8OfGusfD3xbYm11XQdUuNO1O2brFcQyNHIn4OpH4V/fQzKilmOAOST2r+Wj46f8EVfjb/wV2/4K7/Hzxl/wT2u9Dufg7N8Rri5vvi1qk0kOh/2hOkc9/BauqM17Il3JcL+4VkOFYuqSIxAPR/+DML9uFPhl+1R43/YV8XayI9M+Jej/wBteFoZpOBrFgjGWJB/ems2kdj6WKiv6UK/EX9nL/gzR0r4CeJ9D+Lmkf8ABTPxppPjzw/eR32ka/4P8HQWIsLpeQyeZcyswHIOSAwJBUAkV9OfF7xX/wAFgP8Agmxc+HdW1P8AbU+FX7S2l69qX2DS/h78RtFsvBHinWplQubTSLy2kNreXhRSRHNGGcDChmIyAfo9RXiX7Cf7ffwG/wCCgvwouPiR8GrnUtP1LRdQbS/GngnxJYtZ614X1NP9ZZX1s3zRSKQcMMo2DtY4YD22gAooooAKKKKACiiigAooooAKKKKACiiigAooooAKKKKACiiigAooooAKKKKACiiigAooooAKKKKACiiigAooooAKKKKACiiigD4T/wCCxXxI+J/xn8bfCf8A4JK/ADxje+H9e/aA1C8k+IHijS5NtzoPgiwQSapJG3/LOa5DLaxsQQd0inBYEfYXwP8Agl8K/wBm74SeH/gV8EvBdn4d8K+F9NjsdF0ewj2xwQqPzZ2OWZ2JZ3ZmYlmJPwD8Vf2i/hB+zr/wX08cfHL9ojXJNP0zQP2c/BvhHw/c+TvWA654slhMxH8Mf2jyfMlP3UU9cAV+lFABXnP7Vv7J/wABf22Pghq/7PX7SHgK38QeGdYUGSCQlJrSdc+XdW8q/NBPGTlJEIYcjkEg+jUUAflH+0f+zP8AEr/gi7qPw3/4KcWPxy1Tx9D4U1q18E/tD65qemiC88TeBLu7W30/UNRETFbzU9LL28YvMI86Ab9oDBv1Zt7i3u7eO7tJ0lilQPHJGwZXUjIII6givxs/4OiP2tvA3w8+LPw7/Z+uvjUtvb698D/ivbeO/BcOqHy5kufD6yaHNcw7tu/+07KMwFhuLI+3GTn9Fv8AglD8QtZ+Kv8AwTH/AGf/AIgeI7trjUdS+D3h59QuXbLTTrp8KSSH3Z1LH3NAH0BRRRQAUUUUAFFFFABRRRQAUUUUAR3N1bWVtJeXlxHDDDGXllkYKqKBksSeAAO9eFT/APBTP9iy30STxofirqEnhOKZo5fiFb+CdZl8LIFbY0p1xLQ6aIQwKmY3HlgjBYGvmL/g52+KXjrwX/wT68L/AAn8I+ILzSdP+L3xq8PeBfF+o2Mxjki0a7FzNcoHHKrJ9lSJuzJI6nIYg/f2mfD3wLo3w/t/hTpnhDTYfDNro66Tb6Ctmn2RLFYvJFt5WNvlCMbNmMbeMYoA0dM1PTdb0231nRtQgvLO8gSa1urWYSRzRsoZXRlJDKQQQQcEHIqevzf/AODanxz4tT9nD41fsz6tq11qHhv4IftF+JvBngO8upmk8nR4HjkitA7EkrE0jlcn5UkRRgKBX6O21zb3lvHd2k6SwyoHiljYMrqRkEEdQR3oAfRUJ1CxBjU3sOZZmij/AHg+eQAkoPVgFbI6jafQ1NQAUUUUAFFFFABRRRQAUUUUAFFFFABRRRQAUUUUAFFFFABRRRQAUUV8wf8ABTP/AIK5/scf8Eq/hl/wmX7Rfjf7R4gv7dn8MeAdFZJdX1lhkApESBFCGGGnkKxrggFn2owB+bX/AAd0fDfxD8JLnSP2s7Twreal4S+Ivwwvfhf47ms0+bTry3v4tc0C5zkBT9ugkVnPIiWRBkyAV7b/AMEW/wDg5p/Zx/b01X4e/sb/ABl8PeJPDXxm1Dw+lpNql7bwyaPr+o21uWlMM6SmSKWZYnmEcsaqDmMSO2zf+K/7Z/8AwUU/4KXf8HE/7UuifAvwT4Nv7jTrrU2Pgf4Q+E5WNjYYyDeXcrbRNIkZPmXc21I1L7REjFT6f4+/4IN/8Fk/+CNnxj8E/tkfB/RrLxZ/wi80N/J4u+Guk/8ACQP4fleIx3An024hEsyIjzDzFjZNoDF4mICgH9WFeQ/GT9u39lj4E/Gnwj+zl4++K1mPHvja8MOh+EdNVru+EKo0kt5cRxBjaWkcaPI9xNsjCo2GJGK/lP8AH/7c/wCzzq/xLuH+Nn7OHw58Za7ql1JNq3iTw78RviDoenQXGcs1xYzv5kbk5ylsixg8IqgAVu+FPg9+2f8At9Tf8KA/4JhfB3wWuieKd1t41X4I+E9bsNNitAyFYtY8Q+IVF5OhPztbNO0DGNWCNJtUAHU6z+0p+w78f/8Agpr8Yvhz+0p+wprP7V1544+MWst4N+JXwt8ba3a+IrqzNwy20NpZRTNa3kEUEarEixxgIuQ7IFx+nn7JXxZ/Zz+Ami6L+z5+zJ/wV0+M37M89lEYtJ+C/wC2F8OLJrexXcStvA2o29o+wMxAjg1BuuB/CK93/wCCFH/BAT4W/wDBJbwncfFH4i6xp/jL40eILEW+r+Jbe3P2PRbc4LWOn7wH2k48ydgry7VG1FG0/ffj74c/D34reGbjwV8UfAei+JNGuhi60nX9LivLWb/eimVkb8RQB8y6T8RP+CxPgTTYNcuPhb+z58cNFliDW+oeCfGGo+E766jI+WVIbyLULV8jn/j6RSTwQOk5/wCCouqfDv8AcftU/wDBPr9oL4ceT/x/atZ+B08WaVCP7/2nw7Nevs/2niQjuBUWpf8ABGv9k7wpqE3iP9krxD4+/Z91eaRpZLj4K+Mp9LsJXzkeZpMvnaZIuecG159emIf+EU/4LMfs9fvPDHxR+E37Rmhw/M1j4w0uXwV4idf7i3litzYTP7ta24JzyKAO++Dv/BUb/gnd8etU/wCEc+GX7ZPgC61nfsbw7qPiCLT9UVvRrG7MVwp9jGMV7yjpIiyRsGVhlWU8EetfCXxi/bf/AGQ/F+l/8Ir/AMFaf+Cbnir4fwRJ5VxqnxQ+F1t4r8MKfRNX01b22jTvun8gjnIGKv8AwY/4J5f8EvvjL4Z/4WD/AME6/j9r/guxbB/tT9nX44Xtvp6Z5CNYw3M1gMHPyPb8EYI4wAD7for5TH7Lv/BT34T/ALz4J/8ABSvS/G1nBxb6L8dPhTZ3kjp/da/0SXTpAf8AbaGQ56g9KD+0t/wVK+E37r4y/wDBOPw/4+tIfmn1r4G/Fi2lmdO5Gn67DYEMB/AtxISeAT1IB9WUV8o/8Pkf2RvB7fZv2l/DfxQ+CdxnH/F3Phbqmm2fuf7RjilsCB6i5I9692+DP7TP7OP7Rml/21+z98ffBfji02b2uPCPii01FVHuYJG2/jjFAHcUVxP7RP7RXwW/ZO+DOvftBftC+P7Hwx4R8N2f2nVtYv2O2NchVRVUFpJHYqiRoGd3ZVUEkCvh34efHD/gqz/wV0sF8f8A7OOor+yn8AdQBbQfGWvaBFqnjnxfaN926trSb/R9Lt5F+5I++XBWSMurAgA+rv8AgoR+w18Lf+Ci37KfiT9lj4r313p1rrCxXGk69poH2rRdSgcSW17Dkj5o5AMrkb0Z0JAYmuV0HWP+Cp+j/B+3+F+pfDf4U6n46t9PWx/4WfN4yu49JuXCbBqcmmix88TH/WNZLJ5ZfKC5VTvHl8P/AAQo+G18Bqfjb/gor+19r+uct/b15+0BfQTI57xpbpHFEAeiqmBwOazfEH7MH/BWP9ge3bx/+x7+1xrH7SnhHTx5uqfB348XEDa9dQjl/wCzvEMMcbG5IGFjuo2j65JY8gEcH7MHhj/gm98D/wBnn9g34deIbzWLf4tfH3yfit4u1SMR3Hie4bTdS1q/knC5UC7l02G2MOSpti0RLDJb668PfHzw34u+MGrfAdPhh47t7jTLaRp9a1TwLfW+h3KjYCkN/JGLeYkSDCqxJ2vj7pryP4NfHD9nv/grb+zlpPxO+FWp6hoOv+C/GtveNpevab5WseCPFOnSfPZX9oWDKwDSwSx7l82C4kCOu8Ov0tCtxNYqmoIqTPCBOtvI21WI52twcZ6Hg/SgD4x/Yf8Ahl4d8Sf8ExPiB8NbFE0m1g+J/wAWItFuLEiFtIlg8ba8bW4t2H+pkgkSOSN1wUaNSMYFe+fsG/G/xR+0v+xH8If2iPG9gttrXjn4aaHrurQxx7UFzdWMM0pQdkLuSv8AskVNcfsr+BfDXwM8QfAD4LxP4T0fxXPqB1i4t7yeeaD+0Hkkv7m381223MryyybydomlaZlkO5H9A8HeEPDXw+8I6V4C8F6NDpuj6HpsGn6Tp9su2O1toY1jiiQdlVFVR7CgDSooooAKKKKACiiigAooooAKKKKACiiigAooooAKKKKACo7m6trK2kvLy4jhhhjLyyyMFVFAyWJPAAHevHP24/8AgoF+yh/wTp+D03xr/au+Kln4f03500vTl/e6hrE6jP2eztgd88nIzjCoDudkXLD+Yn/gsV/wch/tX/8ABTe51H4Q/DZ7z4afBuSRo18Jabef6brkQPD6ncJjzAev2ZMQrkBvNZRJQB+mn/BZT/g7M+Ff7Pf9q/s8f8E1bnTPHHjaPfbal8SJlFxoejSdD9kH3dRmXnD/APHup2nM/wAyD8fv2Hf+Cd//AAUT/wCC9n7UereMV8R6trX2jUFl+IXxd8ZTSzWmmg4whc/66bZgRWkWMLtH7qMF1+kf+CH3/Bsd8ZP2+n0n9pX9sODVPAfwbkKXOm2Gww6x4tj6jyFYZtrRh1uGG51I8pSG81P6a/gT8BPg1+zH8KtH+CHwA+G+l+E/Cmg2wg0vRdHtxHFEvUsf4ndjlmkcs7sSzMzEkgHhn/BL/wD4JH/skf8ABKT4Sf8ACB/s/eFvtniLUrdB4s8favEjaprcg5w7gfuYA33LdMIvU7nLO31DRXwH+zZ8avH3/BVz9s/45WV58TfE3hv4G/AfxkfA2ieH/BPiK60e58V+IIATqF7fX1nJFdeRC2yOG3ilSKRZN8gfhaAPuvU/B/hLWrn7brPhbTrubbjzrqxjkbHplgTV22trayt0tLO3jhijXbHHGgVVHoAOgrwHRf2S/iN8KP2pvBfxL+E3x18dXPw8h0nVrDxZ8P8AxR40u9WtkuJo4ntdRhlvpJbjKNC0JhMrRqJ1aNI8SFvoKgAooooAKKKKAA88EV88fGr/AIJS/sCfHPxQ3xG179nfTPD3jDLNH47+Ht1P4b11JDyJPt+lyQTOQeRvZl9QRxX0PRQB8j/8Mdf8FGfgH+//AGUP+Cj1x4w0yDmDwZ+0b4Vi1xW9UXWNONpfJ7NMLojuG5y1/wBvv9sv4D/6N+2d/wAEzvGX2KL5JfGvwE1WPxppr46ytZBLbVIUxzgWsuPU8kfXVFAHhf7Pf/BS79gn9qvV28H/AAW/ag8K6l4hEnlT+D9TuzputxP3STTb1YrtDzghohzVf40/8EtP+Cdf7QWqf8JF8U/2NvAN3rPmb18RaboMenaqrf3hfWflXKn3EgxXUftKfsOfse/tiaUNJ/af/Zs8H+NhHHst7zXNDikvLUesFyAJoD7xup96+c/Ev/BJn4+/BTS5ZP8Agmr/AMFNPit8KzGuLPwb48uE8ceG4kHIgih1YSXNop6bo7g4HIUnOQD4vtf+Cb3gv9qL/gvDqH7F8Xxj+KXin9nP9nfwrovi3xl8N/H3xM1PxBpTeJ7kSSWFkkd7NJthME0chVy5KwToTiYgftdFFFBEsEEaoiKFRFXAUDoAPSvxd/4Ib/tC+MP2Sf20v2ivhJ/wUB8YJr3xm+Jv7S2l+D9a8VaXbpHZT3v9i6re2MuCsRjt5ltZIoFWMYM0Y2hQSP2koAK4/wCP/wADfh5+0z8FPFHwA+LGlveeHfF2izabqkMMnlyLHIuBJG/WOVGw6OOUdFYcgV2FFAH43/s3fDj9s3/glX+2v8Nfi5+1FdtfWHxG+JX/AAo/4h+MI7hGj8fwPbCfwh4pmRXLJfq3m6bcPJ8xEYyzvI0j/shX5D/8F5v2wvGPiz9qLSf2DPC8FtJpug3nw18R213HCDcQ+KLvxnDFbQBuufsMM0gUYJDE844/XigAooooAKKKKACiiigAooooAKKKKACiiigAooooAKKK4T9pH9pz4B/sg/CTUvjr+0r8U9J8H+FdJTN3q2rXG1WcglYokGXmlbBCxRqzueFUmgDu6/K3/gsp/wAHQH7Nv/BP/wDtX4DfsrjTPih8XoN9vdLDcF9E8NzDg/bJoyDcTKettEwIIYSSREBW/Mr/AILK/wDB1H8ff2zzqv7P37DcmrfDP4XTb7a/15ZvJ1/xHCeCHdCfsNuw/wCWUbGRl+/JtZoh+eH7DP7Av7Uf/BRj44WfwF/ZY+HFxrmrTbZNT1CXMdho9sWwbq8nwVhiH4s5+VFdyFIBD8e/2i/2xP8Agpb+0hH43+MPi3xJ8SviB4mvEstIsLe3aeQs7/u7OytIV2xJub5YYkAyScEkk/vF/wAEOv8Ag1S8H/A3+x/2qv8Agpl4f0/xF4zXy7vw/wDCyRkuNN0RvvLJfkZS8uB2hG6CM9fNYjy/sr/gjf8A8EE/2XP+CTfhCHxbDDb+Nfi7qFn5evfETULMA2wYfPa6fG2fssHYtkyy9XbbtjT7woARESJFjjQKqjCqowAPSloooAK/Lf8AYV8V+Fv+CMf7af7Q37NX7ZWtReC/hz8YvipdfEP4P/FTXmMGg3zX4AutKuL58Q2l3BshUJMyeYFZhw0e/wDUimXFvb3cDW11Akkci4eORQysPQg9aAPK9D/bN+BHjpLzX/hR460vxd4V0PS7rUvFXjfw7qCXej6VbwRs5T7VDvjnuCRkwRsWRFZ5NmYll1P2VPif4k+OnwC8L/HrxJZ/YR460e28QaXo3lgNpdjdxJNbWzkZ3zLC6ea2SDKZNmE2gb3xe+GOjfGH4PeKPgzrE72un+KfDV9ot1JbqN0UNzbvAxUdMhXOPpXiPwO/ZJ8BfFT9mL4U/Df9qn4d3N14s+Efh210C48vVL60h+3WtvbwS3UDQSRi4t5/s0U0bNuwjBSEcSIADpbH42/FST/gojqv7NV/faO3g9Pg7beJtNW30x0vor59TltJBLM0rJIm2MMoWNMFm3b+CNj9m74+3XxM8XfEf4J+L3hPiz4U+KodH1ua3j2R39tc2NvqFjequTs8y2uUR16CeCcKAoWqqfAHxpb/ALdVz+1dL4i0oaFJ8L4vCf8AZHlyfaldL+S9+1GT7m3Mhj8vHAG/fzsGX+yn8F9a0D44/G79p/xBaTWbfFbxZpr6Jp11CY5oNJ0zSrewgklRgGR5pku5wp+ZYpoQwVw6gA90ooooAKKKKACiiigAooooA/Ev/g4q/Ze8XfAj9qzQv21Phdq0OgWfxPvNBX/hJ7orHZ+HviP4elebw5qF5ISFSG6tHu9NMjkRw7/Mdgowf06/4J3ft9/DD/goN8BLf4meE4H0XxVpEn9m/EjwDqWY9S8J61HlbixuYmAdcOr+W7KBIgDDB3KvpXx8+AXwe/ai+EGvfAT4+eAbHxN4R8S2JtdY0bUYyY5kyCGBBDRurBXSRCHR1VlIYAj8Y/2mv+CKv/BRb9gH4lRfHX9gHxR4q+Jej6RaraaFrXhPxVDo3xC0PTowBFp12Zo3sfEthEoUJFcQtcbY44ozFGgyAfs1qX7Rf7PujaFP4o1j46+DbTTLUE3Oo3Pie0jgiA67pGkCrj3NfnL/AMFMv+Cw3wZ+N/wi8QfC79lL47ahpvwz0a+hX41ftFeGLh4rHTLJHWRtB0C7Uj+0tbvgogjW2LpFHM0jOACU/KHxAP8AgqLH8WLvVtU/4IG6f4svbrUfNvPHXiL9h66XUbp2IMt09hayf2bJLuZm6bHPLFdxx9Afsrf8Ekv+C13/AAUj8c+G/iJ+2Jaah8I9M8MzMNE8QeMLS1tR4at9/wAqeHPC1nHDBp11txm6uFBVgkkTLLErEA9W/wCCfPwm+LP/AAUT/wCCqEXxe+MnhuS31HR/iBbfGH43WzMZI/DF5a2ktn4J8HmTA/02yt5Zr24XHytIY3VJomFfupXk37Ff7FHwB/YE+BGn/s+fs7+GZLLSbWZ7rUtSvpvP1DWb+TBmvr2cgGe4kIG5jgABVUKiqo9ZoAKKKKACiiigAooooAKKKKACiiigAooooAKKx/iD8Q/Afwm8E6p8Sfif4y0zw94f0Wze61fWtZvktrWzhUZaSSSQhUUepNfz6/8ABZf/AIO3/EvjZtU/Zz/4JXahdaNo7b7bVvjBdWpivrxTww0uGQBrZCP+XmRRMc5RIiqyMAfpV/wV7/4OC/2QP+CVmi3fgP7dD4++LklvnT/h5ot8v+gsy5SXUpxuFnHgghMNM4IKptJdf5ef+Cg//BTP9r7/AIKb/Ftvix+1R8SZNQW3ZxoPhnTw0Gk6HCx5itbfcQvAAaRi0r7V3u2BjwzWta13xVrl14h8Ratd6lqWoXT3F9fXtw009zM7Fnkd2JZ3ZiSWJJJOTX7W/wDBDP8A4NWPFfx4TR/2r/8Agpd4f1Hw74Lfy7vw78LpC9tqWuJwyy3/AEe0tmHSEbZ5AckxKB5gB8cf8Ebf+CCH7UP/AAVl8WReMIkm8E/CHT73y9e+IWoWZb7Uyn57XTozj7VP2LZEUXV23bY3/qo/Yd/YJ/Zd/wCCdnwQs/gJ+yt8NrfQtIh2yajfSYlvtXuduGurycgNPKfU4VR8qKiBVHp/gvwV4P8Ahv4S03wD8PvC2n6Hoej2cdppOj6TZpb21nbou1Ioo0AVEUDAUAACtSgAooooAKKKKACiiigAooooAKKKKACiiigAooooAKKKKACiiigAooooAKKKKACiiigAooooAKKKKACiiigAooooAK+T/wBtP/grt8CP2VPijafsufDTwR4k+Mvxy1aASaV8IPhtai6v4kIBE9/Mf3WnQAFWaSU7gjBwjL81Sf8ABW39sT4ufsy/A7QfhX+ynpdvqfxy+M3iaPwf8JdPuQGjtryVC9xqkykEeRZ24eZ2YFA3l7wVJrZ/4Jp/8Ezvg5/wTj+E1xo3h67m8U/ETxRN/aHxQ+KWuZl1bxVqjkvLNLK5Z1hEjP5cO4hQSSWkZ5HAPOtA+Kn/AAcDePLNPEdr+yJ+zH4FhmXzF8O+MPivrN9f24PSOSbTtOe3ZwOCyErnpXE/tAf8FCf+C3P7H3gXVPiH8VP+CRXg34naPpdrJNeaj8G/jFNJJbqq58w2dzpxupUH8XlxsVAJIAFfodWT488OX/jHwPrXhHSvFF9od1qmk3Fnb61pbKLnT5JYmRbiIsCBJGWDrkEblGRQB/Gj/wAFQf8AgtP+27/wVV8XFvjv40XR/BlldmXQ/hv4dZ4dKsSOFkkUktdTgZ/fTFiCzbBGp2V81/CH4PfFL4/fErR/g78FfAWqeJ/FGv3i2uj6Ho9o01xdSnsqjoAAWZjhVUFmIAJH6M/8FhP+CWX7Tng7w14t/aQ+NfwkXRfH3w98UWWl/FjxZouifZPDnjjTdQlePTfF9oY0EUM8kq/Z7+3QZWaSCUorTSiv3h/4Iv8A/BFD9mn/AIJRfBq1v/DUNj4s+KHiDTIz4u+JEkIZpwwDm1sSf9RZg4wBhpSqvISQioAfNP8AwQz/AODYb4W/sM/2P+1F+25ZaZ40+L8YS60jQPluNI8IycFSmRtu7xT/AMtjmONv9UCVEzfrpRRQAUUUUAFFFFABRRRQAUUUUAFFFFABRRRQAUUUUAFFFFABRRRQAUUUUAFFFFABRRRQAUUUUAFFFFABRRRQAUUUUAFFFFAHzZ8Z/Bvh3xP/AMFYP2f9b1uzjmufDvwX+Juo6O0ijMNy2oeDbQyL6HyLqdMjnEh7E19J1+fP/BZX4z/HT9l39qD9nz4+fBuDTLWTWPDfj74c6druux79PsfEms2ml3WgxXI3KBDPfaOsLOWUKGyTgYr6Q/4Jxfty+DP+ChP7KmhftBeHdKk0bWN8ml+OfCd1lbnw5r1sfLvdPmRsMrJJyu4BmjeNiBuwAD3aiivEf24P+Chf7MP/AAT68BWfjL9oHxjMNQ1q7Wy8J+DNBtvtuu+JLxmVEtrCzUh53LMq7vlRSy7nXIyAeL/8Fwfjp8ONE/Zql/Yv8c+FRqc/x88I+NNJsrhpgo0kab4Y1DVRfbNp81o7i2tFC5XBl37vkCt69/wS18Xaz49/4Jn/ALPfjPxFM0moan8FPC9xfTSfelmbSrYu5/3jlvxr8ef+C2f7cl5+1x+27N4T+AGl3F5dfDX4d6h8LvCGltIhuLz4h+NoRpl7pyGFnQvZ6YbjzZEZliuLfyyw8xGb9jPE/i34ef8ABMP/AIJzHxH4m8y88O/A34SwQmK3+R72LTNPSKOGPOdrymJEXPALjPFAHuVFfFf/AATy+EHxQ/bQ/ZX8I/tn/tr/ABj8eXXir4p6LD4m03wx4L+ImseHNF8MaXeL51jZWtvpd1b+awtniZ7i5MszO7jeq4WvQvho2q/8E9vAHxp+KP7Y/wC1LqmsfDmx8WJr/hrxb441Bbi40fR20ywtv7ObykDSFLuCURhUMs7XCk+bNI7MAfSVFeFad/wUg/ZOm1zwr4O8R+Lde8N+I/Gnii38PeHfCvibwTqtjqlxfXFtJcwbraS2EkUDwwysLmQLADFIhkDo6L7rQAUUUUAFFFFABRRRQAUUUUAFFFFABRRRQAUUUUAFFFFABRRRQAUUUUAFFFFABRRRQAUUUUAFFFFABRRRQAUUUUAed/tX/stfBr9tT9nzxN+zN8ffDX9qeF/FWnm2vo0YLNbuCHiuYHwfLmikVJI3wdropwRkH8K/2q/hZ+2z/wAEl/ivr+pfFHxpZ2Om+MrD+xNa+KniLwtcav8ADr4v6f5fkwW3i6ytg8+ka15ZMbX8QYXJJLFSbi5k/oYqrruhaH4o0a68O+JtGtdR0+9haG8sb63WaGeNhhkdHBVlI6ggg0AfyH/Hr/grj/wUA/ZP8bL4F/ZV/aT8f/DzQbrTxI3hez+NFt480G3DEhW0e+dZTDbHBxC0kksRBDyM2QPO/wBk39tD9pH4m/HbUvEWq+PvFGvfF7xYr21v8S49PvvE/jg27rs/svw9G7NHZ3MoeQG5Ox4osiGWLBjn/Tj/AIO3f+CWX7EX7Lf7K/g39q/9mL9m7w/4F8Rap8UIdD8QSeF4ntLW5t59PvrhR9jjYW8ZElqPmSNW5wSQcV33/BkdJ8MNU/Zw+M1tH4I0X/hMtE8dWktx4i/syH+0f7OvLJVitjcbfM8kS2c7iPdtDO5AyxNAHtH/AAQr/wCCH/ir9n3X9D/bI/bE8C2vh3xBodrcL8JPhNHfi9Hg5LtQLrU9RuMAXmtXKBVlmAAjRVRQipDBa/fH/BRf9ly9/bW/YX+Kn7K2k6tFYah428G3mn6TeXBIihvdm+2aTAJ8vzkj3YGdu7Fe0UUAfAf/AASn/wCCjv7Pvw3/AGO/An7I37Z/xJ0H4M/GD4Q+E7Hwl4w8D/EzWINGuH/s6FbSK+tWunRL22niijmWaBnj+fGemc3/AILfax4h/aO/4J1v8S/hr4L1nUPBfgr4ueFPEWtTx2chbXdBstRikvruK3275LOMMJBIRiRbeSVVMIjlk/Qe60zTb6eG6vdPgmkt23W8ksIZom9VJHB+lT0Afll+1d+0x+yz43/4LV/Av9pEeILfWPAPwi8F6lZ6j8QvDP8AxMNMu/FWtW1wmjaI0sLMkt19mW+khRdxWS/hTKtcID98/syfHi4/aSm8ZfEHQplj8K6L421TwroMSxjdey6XcvZ3147EZwb2G5hjVfl8uAOSxlwnp0Gm6dbW62ltp8McKPvWKOIBVbOcgAdc859a+Yv2d/2LPBWjfCbxt+xl8ePBU+teGLf4pa94q8LyvNcQwXun6tqlxq0YE0LKRJb3F7cW7xlg37lZCuyVCQDtf2jPjb8VPhl+1N+z78NfCt/pC+GfiR4y1rR/FNtdaY73jLb+HNU1KBoZ/NCxgS2SBlMbFgeGUZB1PDnx8vdL/bD1f9krxlPHcXF94JXxn4OvkjCPLYLeCzvbSVRwzW80toyygDfHeorDdC0kuT8S/wBkq/1n4mfAPxF8L9Y0vRfDvwR167vYtFu4Z55L23l0O90dLeOUyZj8uO9Mm9/MLGJVONxYR6d8GNY8a/8ABQ2T9qe8tprbSPBvwrufBWi/aIShvry/1K3vb6VQwBMUS6fYxrIMh3lnUf6vLAHulFFFABRRRQAUUUUAFFFFABRRRQAUUUUAFFFFABRRRQAUUUUAFFFFABRRRQAUUUUAFFFFABRRRQAUUUUAFFFFAH5X/wDB4d4b/tz/AIJANqfl7v7G+KWiXmf7u6O6t8/+R8fjX59/8GTPxoTwz+2p8W/gLcXXlx+LvhvBq0Ks3Es+m3qRqvu3l6hM30Vq/UL/AIOqfDf9vf8ABD/4sX4j3NpGpeHLxfbOuWUJP5TH8K/n+/4NsPjf/wAKL/4LQfBfVbm88qy8Satd+Gr5d2BL9vs5reBf/Al7dvqooA/sTooooAKKKKACiiigAooooAKKKKACiiigAooooAKKKKACiiigAooooAKKKKACiiigAooooAKKKKACiiigAooooAKKKKACiiigAooooAKKKKAPiz/g4m8Of8JV/wAEWPj/AKYY93leE7e8x/176ha3Gfw8qv5Bv2e/ixqXwF+Pngf456Pv+2eC/GGm67a+X97zLS6juFx75jFf2af8FmvD3/CT/wDBJj9o/TfL3eX8GPEN3j/rhYSz/wDtOv4m6AP79NH1fTfEGkWuvaNdrcWd9bx3FrcR/dkjdQysPYgg1Yr5j/4IwfG7/hoj/glN8A/inJefaLif4aabp+oXG7Jlu7GP7DcMfczW0hPvX05QAUUUUAFFFFABRRRQAUUUUAFFFFABRRRQAUUUUAFFFFABRRRQAUUUUAFFFFABRRRQAUUUUAFFFFABRRRQAUUUUAFFFFABRRRQAUUUUAeT/t6+FG8efsMfGjwOke5ta+E/iOxC46+dplxHj/x6v4W6/va+L8aS/CXxRFKisreHb4MrDII8h+K/gloA/qf/AODOj42P8SP+CTl18Mru63TfDv4larpcEJblLW5SDUEb2Blu7gfVTX6u1+FP/BjzPO3wV/aCtWmYxp4o0Flj3HarG2vASB6kKufXA9K/dagAooooAKKKKACiiigAooooAKKKKACiiigAooooAKKKKACiiigAooooAKKKKACiiigAooooAKKKKACiiigAooooAKKKKACiiigD/9k=)"
      ]
    },
    {
      "cell_type": "markdown",
      "metadata": {
        "id": "y46_f94_eihC"
      },
      "source": [
        "<div dir=rtl>\n",
        "<p> انواع زوایای دی هیدرال: </p>\n",
        "<div dir=ltr>\n",
        "ω (omega) is the angle in the chain Cα − C' − N − Cα\n",
        "\n",
        "φ (phi) is the angle in the chain C' − N − Cα − C'\n",
        "\n",
        "ψ (psi) is the angle in the chain N − Cα − C' − N"
      ]
    },
    {
      "cell_type": "code",
      "metadata": {
        "id": "Esf0xU7uVy-c"
      },
      "source": [
        "# تعریف اتم اول\n",
        "atom1 = structure[0][\"A\"][100][\"CA\"]\n",
        "\n",
        "# بدست آوردن مختصات اتم اول به صورت وکتور\n",
        "vector1 = atom1.get_vector()\n",
        "vector1"
      ],
      "execution_count": null,
      "outputs": []
    },
    {
      "cell_type": "code",
      "metadata": {
        "id": "_PCsaRWOZfAh"
      },
      "source": [
        "# تعریف اتم دوم\n",
        "atom2 = structure[0][\"A\"][100][\"C\"]\n",
        "\n",
        "# بدست آوردن مختصات اتم دوم به صورت وکتور\n",
        "vector2 = atom2.get_vector()\n",
        "vector2"
      ],
      "execution_count": null,
      "outputs": []
    },
    {
      "cell_type": "code",
      "metadata": {
        "id": "TcB6YvFzZfPU"
      },
      "source": [
        "# تعریف اتم سوم\n",
        "atom3 = structure[0][\"A\"][101][\"N\"]\n",
        "\n",
        "# بدست آوردن مختصات اتم سوم به صورت وکتور\n",
        "vector3 = atom3.get_vector()\n",
        "vector3"
      ],
      "execution_count": null,
      "outputs": []
    },
    {
      "cell_type": "code",
      "metadata": {
        "id": "SbvFMj4bZ0Gg"
      },
      "source": [
        "# تعریف اتم چهارم\n",
        "atom4 = structure[0][\"A\"][101][\"CA\"]\n",
        "\n",
        "# بدست آوردن مختصات اتم سوم به صورت وکتور\n",
        "vector4 = atom4.get_vector()\n",
        "vector4"
      ],
      "execution_count": null,
      "outputs": []
    },
    {
      "cell_type": "code",
      "metadata": {
        "id": "NHpQy8glZfxr"
      },
      "source": [
        "# محاسبه زاویه تورشنال بین اتم های تعریف شده\n",
        "angle = Bio.PDB.vectors.calc_dihedral(vector1, vector2, vector3, vector4)\n",
        "angle"
      ],
      "execution_count": null,
      "outputs": []
    },
    {
      "cell_type": "markdown",
      "metadata": {
        "id": "ZhlNJiil49Sd"
      },
      "source": [
        "<div dir=rtl> <h1> نحوه دانلود فایل های سه بعدی پروتئین از پایگاه داده PDB"
      ]
    },
    {
      "cell_type": "markdown",
      "metadata": {
        "id": "LCq9ZcTD3kUs"
      },
      "source": [
        "<div dir=rtl> دانلود فایل سه بعدی پروتئین از پایگاه داده Protein Data Bank و دخیره کردن آن در مسیر تعیین شده:"
      ]
    },
    {
      "cell_type": "code",
      "metadata": {
        "id": "Z0YChmhmzwHD"
      },
      "source": [
        "import Bio.PDB.PDBList as PDBList\n",
        "pdb = PDBList()\n",
        "pdb.retrieve_pdb_file(\"1EER\", file_format=\"pdb\", pdir=\"PDB_Files\")"
      ],
      "execution_count": null,
      "outputs": []
    }
  ]
}