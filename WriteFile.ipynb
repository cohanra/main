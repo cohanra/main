{
  "nbformat": 4,
  "nbformat_minor": 0,
  "metadata": {
    "kernelspec": {
      "display_name": "Python",
      "language": "python",
      "name": "conda-env-python-py"
    },
    "language_info": {
      "codemirror_mode": {
        "name": "ipython",
        "version": 3
      },
      "file_extension": ".py",
      "mimetype": "text/x-python",
      "name": "python",
      "nbconvert_exporter": "python",
      "pygments_lexer": "ipython3",
      "version": "3.6.7"
    },
    "colab": {
      "name": "WriteFile.ipynb",
      "provenance": [],
      "collapsed_sections": [],
      "include_colab_link": true
    }
  },
  "cells": [
    {
      "cell_type": "markdown",
      "metadata": {
        "id": "view-in-github",
        "colab_type": "text"
      },
      "source": [
        "<a href=\"https://colab.research.google.com/github/cohanra/main/blob/main/WriteFile.ipynb\" target=\"_parent\"><img src=\"https://colab.research.google.com/assets/colab-badge.svg\" alt=\"Open In Colab\"/></a>"
      ]
    },
    {
      "cell_type": "markdown",
      "metadata": {
        "id": "hjiFo4XmD0ru"
      },
      "source": [
        "<div dir=rtl> <h1> نحوه نوشتن متن و ذخیره کردن فایل ها در پایتون</h1>"
      ]
    },
    {
      "cell_type": "markdown",
      "metadata": {
        "id": "v5S6fvQiD0rw"
      },
      "source": [
        "<div dir=rtl> در این قسمت با نوشتن متن در فایل و کپی کردن فایل ها در زبان برنامه نویسی پایتون آشنا خواهید شد."
      ]
    },
    {
      "cell_type": "markdown",
      "metadata": {
        "id": "m--4MQfzD0rz"
      },
      "source": [
        "<div dir=rtl> <h2>فهرست مطالب</h2>\n",
        "<div class=\"alert alert-block alert-info\" style=\"margin-top: 20px\">\n",
        "    <ul>\n",
        "        <li><a href=\"write\">نوشتن متن در فایل ها</a></li>\n",
        "        <li><a href=\"copy\">کپی کردن فایل ها</a></li>\n",
        "    </ul>\n",
        "</div>\n",
        "<hr>"
      ]
    },
    {
      "cell_type": "markdown",
      "metadata": {
        "id": "xStNIViTD0r1"
      },
      "source": [
        "<div dir=rtl> <h2 id=\"write\">نوشتن متن در فایل و ذخیره آن</h2>"
      ]
    },
    {
      "cell_type": "markdown",
      "metadata": {
        "id": "1iQ24JQqD0r2"
      },
      "source": [
        "<div dir=rtl> ما می توانیم یک فایل شیء را با کد <code>()write.</code> برای ذخیره کردن فایل متنی به شکل یک List استفاده نماییم. برای انجام این کار mode را حتما به حالت w باید بنویسیم. اجازه بدهید با هم متن \"This is line A\" را در فایل \"Example2.txt\" ذخیره کنیم. به کد زیر توجه نمایید."
      ]
    },
    {
      "cell_type": "code",
      "metadata": {
        "id": "axYxLYLCD0r4"
      },
      "source": [
        "with open('/content/Example2.txt', 'w') as writefile:\n",
        "    writefile.write(\"This is line A\")"
      ],
      "execution_count": null,
      "outputs": []
    },
    {
      "cell_type": "markdown",
      "metadata": {
        "id": "P0EJtzAbD0r6"
      },
      "source": [
        "<div dir=rtl> سپس فایل ایجاد شده را با دستور <code>with</code> بررسی کرده تا از ذخیره شدن اطمینان حاصل کنیم."
      ]
    },
    {
      "cell_type": "code",
      "metadata": {
        "jupyter": {
          "outputs_hidden": false
        },
        "id": "pBQXrqrTD0r8"
      },
      "source": [
        "with open('/content/Example2.txt', 'r') as testwritefile:\n",
        "    print(testwritefile.read())"
      ],
      "execution_count": null,
      "outputs": []
    },
    {
      "cell_type": "markdown",
      "metadata": {
        "id": "pf7_-Ds3D0sA"
      },
      "source": [
        "<div dir=rtl> ما همچنین می توانیم چندین خط را در فایل ذخیره نماییم. به مثال زیر توجه کنید:"
      ]
    },
    {
      "cell_type": "code",
      "metadata": {
        "id": "kugmwOGND0sB"
      },
      "source": [
        "with open('/content/Example2.txt', 'w') as writefile:\n",
        "    writefile.write(\"This is line A\\n\")\n",
        "    writefile.write(\"This is line B\\n\")"
      ],
      "execution_count": null,
      "outputs": []
    },
    {
      "cell_type": "markdown",
      "metadata": {
        "id": "YiltkUD2D0sB"
      },
      "source": [
        "<div dir=rtl> کد <code>()write.</code> مشابه کد <code>()readline.</code> عمل می کند با این فرق که بجای خواندن خط، یک خط جدید در فایل می نویسد. این فرآیند در شکل زیر با رنگ نمایش داده شده است."
      ]
    },
    {
      "cell_type": "markdown",
      "metadata": {
        "id": "7znNWW5BD0sC"
      },
      "source": [
        "<img src=\"https://s3-api.us-geo.objectstorage.softlayer.net/cf-courses-data/CognitiveClass/PY0101EN/Chapter%204/Images/WriteLine.png\" width=\"500\" />"
      ]
    },
    {
      "cell_type": "markdown",
      "metadata": {
        "id": "KN8Iw0XjD0sC"
      },
      "source": [
        "<div dir=rtl> شما می توانید فایل نوشته را از جهت صحت بررسی نمایید."
      ]
    },
    {
      "cell_type": "code",
      "metadata": {
        "jupyter": {
          "outputs_hidden": false
        },
        "id": "wyBzG4kVD0sD"
      },
      "source": [
        "with open('/content/Example2.txt', 'r') as testwritefile:\n",
        "    print(testwritefile.read())"
      ],
      "execution_count": null,
      "outputs": []
    },
    {
      "cell_type": "markdown",
      "metadata": {
        "id": "WbQrfZplD0sD"
      },
      "source": [
        "<div dir=rtl> با تغییر پارامتر mode به a شما می توانید خط جدید به متن قبلی در فایل اضافه نمایید. به کد زیر توجه نمایید:"
      ]
    },
    {
      "cell_type": "code",
      "metadata": {
        "jupyter": {
          "outputs_hidden": false
        },
        "id": "gwxuB-HyD0sE"
      },
      "source": [
        "with open('/content/Example2.txt', 'a') as testwritefile:\n",
        "    testwritefile.write(\"This is line C\\n\")"
      ],
      "execution_count": null,
      "outputs": []
    },
    {
      "cell_type": "markdown",
      "metadata": {
        "id": "N98Y0eIAD0sE"
      },
      "source": [
        "<div dir=rtl> شما می توانید تغییرات را از جهت صحت با پرینت فایل متنی بررسی نمایید."
      ]
    },
    {
      "cell_type": "code",
      "metadata": {
        "jupyter": {
          "outputs_hidden": false
        },
        "id": "5inhApybD0sF"
      },
      "source": [
        "with open('/content/Example2.txt', 'r') as testwritefile:\n",
        "    print(testwritefile.read())"
      ],
      "execution_count": null,
      "outputs": []
    },
    {
      "cell_type": "markdown",
      "metadata": {
        "id": "VDG0ubKQD0sF"
      },
      "source": [
        "<div dir=rtl> ما می توانیم یک list را به فایل متنی با استفاده از کدهای زیر تبدیل کنیم."
      ]
    },
    {
      "cell_type": "code",
      "metadata": {
        "jupyter": {
          "outputs_hidden": false
        },
        "id": "omIw8m4kD0sG"
      },
      "source": [
        "# تعریف لیست #\n",
        "\n",
        "Lines = [\"This is line A\\n\", \"This is line B\\n\", \"This is line C\\n\"]\n",
        "Lines"
      ],
      "execution_count": null,
      "outputs": []
    },
    {
      "cell_type": "code",
      "metadata": {
        "jupyter": {
          "outputs_hidden": false
        },
        "id": "Wp47UtyqD0sG"
      },
      "source": [
        "# نوشتن عضوهای لیست در یک فایل متنی #\n",
        "\n",
        "with open('Example2.txt', 'w') as writefile:\n",
        "    for line in Lines:\n",
        "        print(line)\n",
        "        writefile.write(line)"
      ],
      "execution_count": null,
      "outputs": []
    },
    {
      "cell_type": "markdown",
      "metadata": {
        "id": "EpY0P2jZD0sH"
      },
      "source": [
        "<div dir=rtl> شما می توانید فایل متنی نوشته شده را با خواندن و پرینت کردن بررسی نمایید."
      ]
    },
    {
      "cell_type": "code",
      "metadata": {
        "jupyter": {
          "outputs_hidden": false
        },
        "id": "T1hbE9ZtD0sH"
      },
      "source": [
        "with open('Example2.txt', 'r') as testwritefile:\n",
        "    print(testwritefile.read())"
      ],
      "execution_count": null,
      "outputs": []
    },
    {
      "cell_type": "markdown",
      "metadata": {
        "id": "y_9eRLdtD0sI"
      },
      "source": [
        "<div dir=rtl> شما می توانید بطور مشابه و با استفاده از پارامتر a،  متن جدیدی را به متن قبلی در فایل اضافه نمایید. به کد زیر توجه نمایید:"
      ]
    },
    {
      "cell_type": "code",
      "metadata": {
        "jupyter": {
          "outputs_hidden": false
        },
        "id": "U-CI320kD0sI"
      },
      "source": [
        "with open('Example2.txt', 'a') as testwritefile:\n",
        "    testwritefile.write(\"This is line D\\n\")"
      ],
      "execution_count": null,
      "outputs": []
    },
    {
      "cell_type": "markdown",
      "metadata": {
        "id": "2Kx16dgFD0sJ"
      },
      "source": [
        "<div dir=rtl> شما می توانید متن اضافه شده را با خواندن و پرینت کردن فایل بررسی نمایید."
      ]
    },
    {
      "cell_type": "code",
      "metadata": {
        "jupyter": {
          "outputs_hidden": false
        },
        "id": "x8msxaNkD0sJ"
      },
      "source": [
        "with open('Example2.txt', 'r') as testwritefile:\n",
        "    print(testwritefile.read())"
      ],
      "execution_count": null,
      "outputs": []
    },
    {
      "cell_type": "markdown",
      "metadata": {
        "id": "xM581hzaD0sJ"
      },
      "source": [
        "<hr>"
      ]
    },
    {
      "cell_type": "markdown",
      "metadata": {
        "id": "7G_gNmj7D0sK"
      },
      "source": [
        "<div dir=rtl> <h2 id=\"copy\">کپی کردن فایل</h2> "
      ]
    },
    {
      "cell_type": "markdown",
      "metadata": {
        "id": "c3OVI0eSD0sK"
      },
      "source": [
        "<div dir=rtl> اجازه دهید متن فایل <b>Example2.txt</b> در یک فایل جدید بنام <b>Example3.txt</b> کپی کنیم."
      ]
    },
    {
      "cell_type": "code",
      "metadata": {
        "jupyter": {
          "outputs_hidden": false
        },
        "id": "-nRMCnWoD0sL"
      },
      "source": [
        "with open('Example2.txt','r') as readfile:\n",
        "    with open('Example3.txt','w') as writefile:\n",
        "          for line in readfile:\n",
        "                writefile.write(line)"
      ],
      "execution_count": null,
      "outputs": []
    },
    {
      "cell_type": "markdown",
      "metadata": {
        "id": "n8QiBCqpD0sL"
      },
      "source": [
        "<div dir=rtl> شما می توانید با خواندن، فایل ایجاد شده را بررسی نمایید:"
      ]
    },
    {
      "cell_type": "code",
      "metadata": {
        "jupyter": {
          "outputs_hidden": false
        },
        "id": "F04yNu4nD0sL"
      },
      "source": [
        "with open('Example3.txt','r') as testwritefile:\n",
        "    print(testwritefile.read())"
      ],
      "execution_count": null,
      "outputs": []
    }
  ]
}