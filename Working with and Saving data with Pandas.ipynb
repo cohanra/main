{
  "cells": [
    {
      "cell_type": "markdown",
      "metadata": {
        "id": "IOn8N0IcRN3B"
      },
      "source": [
        " <div dir=rtl><h1>با آرایه پانداها آشنا شوید</h1>"
      ]
    },
    {
      "cell_type": "markdown",
      "metadata": {
        "id": "FrF78RN1RN3G"
      },
      "source": [
        "<div dir=rtl><p>شما از چارچوب داده <code>df</code> برای موارد زیر استفاده خواهید کرد:</p>"
      ]
    },
    {
      "cell_type": "code",
      "execution_count": null,
      "metadata": {
        "id": "DNAOaLOrRN3I"
      },
      "outputs": [],
      "source": [
        "import pandas as pd\n",
        "\n",
        "df=pd.DataFrame({'a':[1,2,1],'b':[1,1,1]})"
      ]
    },
    {
      "cell_type": "markdown",
      "metadata": {
        "id": "CTj9ef2dRN3J"
      },
      "source": [
        "1) <div dir=rtl><p>مقادیر یکتا را در ستون a بیابید</p>"
      ]
    },
    {
      "cell_type": "code",
      "execution_count": null,
      "metadata": {
        "id": "5hVHLOZFRN3K"
      },
      "outputs": [],
      "source": [
        "# پاسخ را در اینجا نوشته و برای تایید آن را اجرا کنید #"
      ]
    },
    {
      "cell_type": "markdown",
      "source": [
        "راه حل مساله را با دوبار کلیک کردن در اینجا بیابید\n",
        "\n",
        "<!-- Your answer is below:\n",
        "df[['a']]\n",
        "-->"
      ],
      "metadata": {
        "id": "GhRaYfh6SvQR"
      }
    },
    {
      "cell_type": "markdown",
      "metadata": {
        "id": "ukrmKedoRN3K"
      },
      "source": [
        "2) <div dir=rtl><p>یک قاب داده را فقط با سطرهایی که ستون a کمتر از دو است برگردانید</p> "
      ]
    },
    {
      "cell_type": "code",
      "source": [
        "# پاسخ را در اینجا نوشته و برای تایید آن را اجرا کنید #"
      ],
      "metadata": {
        "id": "EuswXDYxST3i"
      },
      "execution_count": null,
      "outputs": []
    },
    {
      "cell_type": "markdown",
      "source": [
        "راه حل مساله را با دوبار کلیک کردن در اینجا بیابید\n",
        "\n",
        "<!-- Your answer is below:\n",
        "df1=df[df['a']<2]\n",
        "df1\n",
        "-->\n",
        "\n"
      ],
      "metadata": {
        "id": "2jtEzPjtShAS"
      }
    },
    {
      "cell_type": "markdown",
      "metadata": {
        "id": "1WJeGv_jRN3L"
      },
      "source": [
        "<hr>\n",
        "<small>موفق باشید</small>"
      ]
    }
  ],
  "metadata": {
    "kernelspec": {
      "display_name": "Python 3",
      "language": "python",
      "name": "python3"
    },
    "language_info": {
      "codemirror_mode": {
        "name": "ipython",
        "version": 3
      },
      "file_extension": ".py",
      "mimetype": "text/x-python",
      "name": "python",
      "nbconvert_exporter": "python",
      "pygments_lexer": "ipython3",
      "version": "3.6.5"
    },
    "colab": {
      "provenance": []
    }
  },
  "nbformat": 4,
  "nbformat_minor": 0
}