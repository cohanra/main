{
  "nbformat": 4,
  "nbformat_minor": 0,
  "metadata": {
    "kernelspec": {
      "display_name": "Python",
      "language": "python",
      "name": "conda-env-python-py"
    },
    "language_info": {
      "codemirror_mode": {
        "name": "ipython",
        "version": 3
      },
      "file_extension": ".py",
      "mimetype": "text/x-python",
      "name": "python",
      "nbconvert_exporter": "python",
      "pygments_lexer": "ipython3",
      "version": "3.6.12"
    },
    "colab": {
      "name": "Requests_HTTP.ipynb",
      "provenance": [],
      "collapsed_sections": [],
      "include_colab_link": true
    }
  },
  "cells": [
    {
      "cell_type": "markdown",
      "metadata": {
        "id": "view-in-github",
        "colab_type": "text"
      },
      "source": [
        "<a href=\"https://colab.research.google.com/github/cohanra/main/blob/main/Requests_HTTP.ipynb\" target=\"_parent\"><img src=\"https://colab.research.google.com/assets/colab-badge.svg\" alt=\"Open In Colab\"/></a>"
      ]
    },
    {
      "cell_type": "markdown",
      "metadata": {
        "id": "hGmHqT6Vno_t"
      },
      "source": [
        "<div dir=rtl> <h1><b>پروتکل انتقال متن (HTTP) و درخواست ها</h1>\n",
        "\n",
        "#اهداف:\n",
        "\n",
        "-   آشنایی با مفهوم HTTP    \n",
        "-   مدیریت درخواست های HTTP\n"
      ]
    },
    {
      "cell_type": "markdown",
      "metadata": {
        "id": "VKc87VMCno_t"
      },
      "source": [
        "<div dir=rtl><h2><b>فهرست</h2>\n",
        "\n",
        "<div class=\"alert alert-block alert-info\" style=\"margin-top: 20px\">\n",
        "    <ul>\n",
        "        <li>\n",
        "            <a href=\"#index\">مروری بر HTTP </a>\n",
        "            <ul>\n",
        "                <li><a href=\"#HTTP\">منبع یاب یکنواخت (URL)</a></li>\n",
        "                 <li><a href=\"slice\">درخواست</a></li>\n",
        "                <li><a href=\"stride\">پاسخ</a></li>\n",
        "            </ul>\n",
        "        </li>\n",
        "        <li>\n",
        "            <a href=\"#RP\">درخواست ها در پایتون</a>\n",
        "            <ul>\n",
        "                <li><a href=\"#get\">ارسال درخواست با پارامترهای URL</a></li>\n",
        "                <li><a href=\"#post\">درخواست های Post </a></li>\n",
        "\n",
        "</ul>\n",
        "    \n",
        "</div>\n",
        "\n",
        "<hr>\n"
      ]
    },
    {
      "cell_type": "markdown",
      "metadata": {
        "id": "qNY0NcAWno_u"
      },
      "source": [
        "<div dir=rtl> <h2 id=\"\"><b>مروری بر HTTP </h2>\n"
      ]
    },
    {
      "cell_type": "markdown",
      "metadata": {
        "id": "Qx5Lv2TFno_u"
      },
      "source": [
        "<div dir=RTL> هنگامی که شما (client) از یک صفحه وب استفاده می کنید مرورگر شما درخواست HTTP را به سرور (میزبان) می فرستد. سرور سعی می کند به طور پیش فرض <code>index.html</code> منبع مورد نظر را پیدا کند.\n",
        "اگر درخواست شما موفقیت آمیز باشد، سرور در پاسخ، object را به client در قالب یک پاسخ HTTP ارسال می کند. این object شامل اطلاعاتی مانند نوع منبع، طول منبع و سایر اطلاعات است.شکل زیر روند را نشان می دهد. دایره سمت چپ مشتری (client) را نشان می دهد ، دایره سمت راست وب سرور (Host) را نشان می دهد. جدول زیر وب سرور لیستی از منابع ذخیره شده در وب سرور را نشان می دهد که در این مورد فایل های <code>HTML</code> ،<code>png</code> image و <code>txt</code> می باشند. پروتکل HTTP به شما امکان ارسال و دریافت اطلاعات را از طریق وب از جمله صفحات وب، تصاویر و سایر منابع وب می دهد. در اینجا، ما یک نمای کلی از کتابخانۀ درخواست ها برای تعامل با پروتکل <code>HTTP</code> ارائه خواهیم داد."
      ]
    },
    {
      "cell_type": "markdown",
      "metadata": {
        "id": "VJdVVEauno_v"
      },
      "source": [
        "<div class=\"alert alert-block alert-info\" style=\"margin-top: 20px\">\n",
        "         <img src=\"https://s3-api.us-geo.objectstorage.softlayer.net/cf-courses-data/CognitiveClass/PY0101EN/images/reqest_basics.png\" width=\"750\" align=\"center\">\n",
        "   \n",
        "</div>\n"
      ]
    },
    {
      "cell_type": "markdown",
      "metadata": {
        "id": "FHtvc5xrno_v"
      },
      "source": [
        "<div dir=rtl> <h2 id=\"URL\"><b>منبع یاب یکنواخت (URL)</h2>\n"
      ]
    },
    {
      "cell_type": "markdown",
      "metadata": {
        "id": "SHSgRUfpno_w"
      },
      "source": [
        "<div dir=rtl> منبع یاب منبع (URL) متداول ترین راه برای یافتن منابع در وب است. ما می توانیم URL را به سه قسمت تقسیم کنیم:\n",
        "\n",
        "<ul>\n",
        "    <li><b>scheme:</b> نوع پروتکول که در بحث ما همیشه <code>//:http</code> می باشد.  </li>\n",
        "    <li><b> آدرس اینترنتی یا URL پایه: </b> از آن برای یافتن مکان استفاده خواهد شد، مانند: <code>www.ibm.com</code> یا  <code> www.gitlab.com </code> </li>\n",
        "    <li><b>مسیر:</b> محل قرارگیری فایل ها در سرور، مانند: <code>images/IDSNlogo.png/</code> </li>\n",
        "</ul>\n"
      ]
    },
    {
      "cell_type": "markdown",
      "metadata": {
        "id": "sVAeh6MQno_w"
      },
      "source": [
        "<div dir=rtl> همچنین ممکن است در این مبحث اصطلاح \"شناسه منبع یکنواخت\" یا URI را مشاهده نمایید. URL در واقع زیر مجموعه ای از URI است. اصطلاح معروف دیگر endpoint است. endpoint در واقع URL یک عملیات است که توسط یک وب سرور ارائه می شود."
      ]
    },
    {
      "cell_type": "markdown",
      "metadata": {
        "id": "r398KBtFno_w"
      },
      "source": [
        "\n",
        "\n",
        "<div dir=rtl><h2 id=\"RE\"><b>درخواست </h2>\n"
      ]
    },
    {
      "cell_type": "markdown",
      "metadata": {
        "id": "bn4Bj7Wfno_z"
      },
      "source": [
        "<div dir=rtl> این فرآیند را می توان به فرآیند درخواست و پاسخ تقسیم کرد.درخواست با استفاده از متد get در زیر تا حدودی نشان داده شده است. در خط ابتدایی ما متد <code> GET</code> داریم که یک روش <code> HTTP</code> است. علاوه بر آن محل منبع <code> index.html/ </code> و نسخه <code> HTTP</code> را نیز داریم.\n",
        "سرصفحه Request اطلاعات اضافی را با درخواست <code> HTTP </code> منتقل می کند:"
      ]
    },
    {
      "cell_type": "markdown",
      "metadata": {
        "id": "huihUzRYno_0"
      },
      "source": [
        "<div class=\"alert alert-block alert-info\" style=\"margin-top: 20px\">\n",
        "         <img src=\"https://s3-api.us-geo.objectstorage.softlayer.net/cf-courses-data/CognitiveClass/PY0101EN/images/reqest_messege.png\" width=\"400\" align=\"center\">\n",
        "</div>\n"
      ]
    },
    {
      "cell_type": "markdown",
      "metadata": {
        "id": "JyZI_819no_0"
      },
      "source": [
        "<div dir=rtl> هنگامی که درخواست <code>HTTP</code> ایجاد می شود، یک متد <code> HTTP </code> ارسال می شود. این به سرور می گوید که چه عملی را انجام دهد. لیستی از چندین متد <code> HTTP </code> در زیر نشان داده شده است. بعداً به مثالهای بیشتری خواهیم پرداخت."
      ]
    },
    {
      "cell_type": "markdown",
      "metadata": {
        "id": "-xX5y7A6no_0"
      },
      "source": [
        "<div class=\"alert alert-block alert-info\" style=\"margin-top: 20px\">\n",
        "         <img src=\"https://s3-api.us-geo.objectstorage.softlayer.net/cf-courses-data/CognitiveClass/PY0101EN/images/http_methods.png\" width=\"400\" align=\"center\">\n",
        "</div>\n"
      ]
    },
    {
      "cell_type": "markdown",
      "metadata": {
        "id": "Hvyask3qnpAA"
      },
      "source": [
        "<div dir=rtl> <h2 id=\"RES\"><b>پاسخ</h2>\n"
      ]
    },
    {
      "cell_type": "markdown",
      "metadata": {
        "id": "g9_77xMYnpAA"
      },
      "source": [
        "<div dir=rtl> شکل زیر نشان دهنده پاسخ است. خط شروع پاسخ شامل شماره نسخه <code> HTTP/1.0</code> است و به دنبال آن، یک کد وضعیت (200 به معنی موفقیت)، و یک عبارت توصیفی (OK).سربرگ پاسخ شامل اطلاعات مفیدی است. سرانجام، ما بدنه پاسخ را داریم که شامل سند <code> HTML </code> است. لازم به ذکر است که برخی از درخواست ها دارای عنوان هستند."
      ]
    },
    {
      "cell_type": "markdown",
      "metadata": {
        "id": "MZxhszZGnpAA"
      },
      "source": [
        "<div class=\"alert alert-block alert-info\" style=\"margin-top: 20px\">\n",
        "         <img src=\"https://s3-api.us-geo.objectstorage.softlayer.net/cf-courses-data/CognitiveClass/PY0101EN/images/response_message.png\" width=\"400\" align=\"center\">\n",
        "</div>\n"
      ]
    },
    {
      "cell_type": "markdown",
      "metadata": {
        "id": "bV5u2P22npAA"
      },
      "source": [
        "<div dir=rtl> برخی از \"کدهای وضعیت\" در جدول زیر نشان داده شده اند. پیشوند، کلاس را نشان می دهد که با رنگ زرد مشخص شده و کدهای وضعیت واقعی با رنگ سفید نشان داده شده اند. برای توضیحات بیشتر بروی این <a href=\"https://developer.mozilla.org/en-US/docs/Web/HTTP/Status\">لینک</a> کلیک نمایید."
      ]
    },
    {
      "cell_type": "markdown",
      "metadata": {
        "id": "Z1HhF-jLnpAB"
      },
      "source": [
        "<div class=\"alert alert-block alert-info\" style=\"margin-top: 20px\">\n",
        "         <img src=\"https://s3-api.us-geo.objectstorage.softlayer.net/cf-courses-data/CognitiveClass/PY0101EN/images/status_code.png\" width=\"300\" align=\"center\">\n",
        "</div>\n"
      ]
    },
    {
      "cell_type": "markdown",
      "metadata": {
        "id": "uDegFrJHnpAB"
      },
      "source": [
        "<div dir=rtl><h2 id=\"RP\"><b> درخواست ها در پایتون</b></h2>\n"
      ]
    },
    {
      "cell_type": "markdown",
      "metadata": {
        "id": "z7s2WMKYnpAB"
      },
      "source": [
        "<div dir=rtl> Requests یک کتابخانه پایتون است که به شما امکان می دهد درخواست های <code> HTTP / 1.1 </code> را به راحتی ارسال کنید. ما می توانیم کتابخانه را به صورت زیر وارد کنیم:"
      ]
    },
    {
      "cell_type": "code",
      "metadata": {
        "id": "uvSH_sPFnpAC"
      },
      "source": [
        "import requests"
      ],
      "execution_count": 153,
      "outputs": []
    },
    {
      "cell_type": "markdown",
      "metadata": {
        "id": "ptrI8V_lnpAD"
      },
      "source": [
        "<div dir=rtl> ما همچنین از کتابخانه های زیر استفاده خواهیم کرد:\n"
      ]
    },
    {
      "cell_type": "code",
      "metadata": {
        "id": "09J6ikudnpAD"
      },
      "source": [
        "import os \n",
        "from PIL import Image\n",
        "from IPython.display import IFrame"
      ],
      "execution_count": 154,
      "outputs": []
    },
    {
      "cell_type": "markdown",
      "metadata": {
        "id": "R_iblXWLnpAD"
      },
      "source": [
        "<div dir=rtl> می توانید از طریق متد <code> get</code> به www.ibm.com یک درخواست داشته باشید"
      ]
    },
    {
      "cell_type": "code",
      "metadata": {
        "id": "LLYYRxb5npAE"
      },
      "source": [
        "url='https://www.ibm.com/'\n",
        "r=requests.get(url)\n"
      ],
      "execution_count": null,
      "outputs": []
    },
    {
      "cell_type": "markdown",
      "metadata": {
        "id": "20VHscUDnpAE"
      },
      "source": [
        "<div dir=rtl> ما شی response پاسخ <code> r</code> را داریم. این فایل مانند وضعیت درخواست، اطلاعات مربوط به درخواست را دارد. ما می توانیم کد وضعیت را با استفاده از ویژگی <code> status_code </code> مشاهده کنیم."
      ]
    },
    {
      "cell_type": "code",
      "metadata": {
        "id": "QYz6cWK5npAE"
      },
      "source": [
        "r.status_code"
      ],
      "execution_count": null,
      "outputs": []
    },
    {
      "cell_type": "markdown",
      "metadata": {
        "id": "Hz6DdKdYnpAE"
      },
      "source": [
        "<div dir=rtl> می توانید سرصفحه درخواست را مشاهده کنید:"
      ]
    },
    {
      "cell_type": "code",
      "metadata": {
        "id": "I04raRlNnpAE"
      },
      "source": [
        "print(r.request.headers)"
      ],
      "execution_count": null,
      "outputs": []
    },
    {
      "cell_type": "markdown",
      "metadata": {
        "id": "SVpIowrrnpAF"
      },
      "source": [
        "<div dir=rtl>شما می توانید متن درخواست را در خط زیر مشاهده کنید، از آنجاییکه هیچ متنی برای درخواست وجود ندارد ، کد <code>None</code> را دریافت می کنیم:"
      ]
    },
    {
      "cell_type": "code",
      "metadata": {
        "id": "jQ7oTMlKnpAF"
      },
      "source": [
        "print(\"request body:\", r.request.body)"
      ],
      "execution_count": null,
      "outputs": []
    },
    {
      "cell_type": "markdown",
      "metadata": {
        "id": "5aSTQRIAnpAF"
      },
      "source": [
        "<div dir=rtl>با استفاده از مشخصه <code> headers</ code> می توانیم سرصفحه پاسخ <code> HTTP </code> را مشاهده کنیم. این دستور یک دیکشنری پایتون از سرصفحه پاسخ <code> HTTP </code> را بر می گرداند."
      ]
    },
    {
      "cell_type": "code",
      "metadata": {
        "id": "zo6ntF4PnpAG"
      },
      "source": [
        "header=r.headers\n",
        "print(r.headers)"
      ],
      "execution_count": null,
      "outputs": []
    },
    {
      "cell_type": "markdown",
      "metadata": {
        "id": "DamNwqQZnpAG"
      },
      "source": [
        "<div dir=rtl>ما می توانیم تاریخ ارسال درخواست را با استفاده از کلید <code> Date </code> بدست آوریم."
      ]
    },
    {
      "cell_type": "code",
      "metadata": {
        "id": "S9gFQj5rnpAG"
      },
      "source": [
        "header['date']"
      ],
      "execution_count": null,
      "outputs": []
    },
    {
      "cell_type": "markdown",
      "metadata": {
        "id": "JB5GzzEanpAG"
      },
      "source": [
        "<div dir=rtl><code>Content-Type</code> نوع داده را مشخص می کند:\n"
      ]
    },
    {
      "cell_type": "code",
      "metadata": {
        "id": "Fkt8KqwGnpAH"
      },
      "source": [
        "header['Content-Type']"
      ],
      "execution_count": null,
      "outputs": []
    },
    {
      "cell_type": "markdown",
      "metadata": {
        "id": "Wimfj90znpAH"
      },
      "source": [
        "<div dir=rtl> شما همچنین می توانید <code>encoding</code>را چک کنید:"
      ]
    },
    {
      "cell_type": "code",
      "metadata": {
        "id": "T22UA8rLnpAH"
      },
      "source": [
        "r.encoding"
      ],
      "execution_count": null,
      "outputs": []
    },
    {
      "cell_type": "markdown",
      "metadata": {
        "id": "Ilhgv5DOnpAI"
      },
      "source": [
        "<div dir=rtl>از آنجا که <code> نوع محتوا </ code> <code> text / html </code> است، می توانیم از ویژگی <code> text </code> برای نمایش <code> HTML </code> در بدنه استفاده کنیم . ما می توانیم 100 حرف اول را مرور کنیم:"
      ]
    },
    {
      "cell_type": "code",
      "metadata": {
        "id": "LaZf69GPnpAI"
      },
      "source": [
        "r.text[0:100]"
      ],
      "execution_count": null,
      "outputs": []
    },
    {
      "cell_type": "markdown",
      "metadata": {
        "id": "irlk7_jKnpAI"
      },
      "source": [
        "<div dir=rtl>می توانید انواع دیگر داده ها را برای درخواست های غیر متنی مانند تصاویر بارگیری کنید ،URL تصویر زیر را در نظر بگیرید:"
      ]
    },
    {
      "cell_type": "code",
      "metadata": {
        "id": "VDeLhf7OnpAI"
      },
      "source": [
        "# Use single quotation marks for defining string\n",
        "url='https://user-images.githubusercontent.com/81846739/116807066-60801800-ab46-11eb-8bd2-4bd99dafde31.jpg'"
      ],
      "execution_count": 155,
      "outputs": []
    },
    {
      "cell_type": "markdown",
      "metadata": {
        "id": "miHDJVTFnpAI"
      },
      "source": [
        "<div dir=rtl>ما می توانیم یک درخواست دریافت کنیم:"
      ]
    },
    {
      "cell_type": "code",
      "metadata": {
        "id": "PBLQa8AknpAI"
      },
      "source": [
        "r=requests.get(url)"
      ],
      "execution_count": 156,
      "outputs": []
    },
    {
      "cell_type": "markdown",
      "metadata": {
        "id": "UqDS7PPanpAJ"
      },
      "source": [
        "<div dir=rtl>می توانیم به سرصفحه پاسخ نگاه کنیم:"
      ]
    },
    {
      "cell_type": "code",
      "metadata": {
        "id": "3uw5NqEnnpAJ"
      },
      "source": [
        "print(r.headers)"
      ],
      "execution_count": null,
      "outputs": []
    },
    {
      "cell_type": "markdown",
      "metadata": {
        "id": "-jluQ9sonpAJ"
      },
      "source": [
        "<div dir=rtl>می توانیم نوع را با <code>content-type </ code> مشاهده کنیم.\n"
      ]
    },
    {
      "cell_type": "code",
      "metadata": {
        "id": "Kov3UwSKnpAJ"
      },
      "source": [
        "r.headers['Content-Type']"
      ],
      "execution_count": null,
      "outputs": []
    },
    {
      "cell_type": "markdown",
      "metadata": {
        "id": "gGuHheMMnpAJ"
      },
      "source": [
        "<div dir=rtl>شکل یک شی پاسخ است که حاوی تصویر به صورت <a href=\"https://docs.python.org/3/glossary.html#term-bytes-like-object\">bytes-like object</a> می باشد. در انتها، باید آن را با استفاده از یک شی فایل ذخیره کنیم. ابتدا مسیر و نام فایل را مشخص می کنیم."
      ]
    },
    {
      "cell_type": "code",
      "metadata": {
        "id": "QxerBn86npAJ"
      },
      "source": [
        "path=os.path.join(os.getcwd(),'/content/1.png')\n",
        "path"
      ],
      "execution_count": null,
      "outputs": []
    },
    {
      "cell_type": "markdown",
      "metadata": {
        "id": "jFDPRKDcnpAK"
      },
      "source": [
        "<div dir=rtl> ما فایل را ذخیره می کنیم. برای دسترسی به متن پاسخ، از ویژگی <code> content</code> استفاده می کنیم. سپس آن را با استفاده از تابع <code> open </code> ذخیره می کنیم و <code> method </ code> را می نویسیم:"
      ]
    },
    {
      "cell_type": "code",
      "metadata": {
        "id": "4XGweoFOnpAK"
      },
      "source": [
        "with open(path,'wb') as f:\n",
        "    f.write(r.content)"
      ],
      "execution_count": 162,
      "outputs": []
    },
    {
      "cell_type": "markdown",
      "metadata": {
        "id": "k2IpL5AMnpAK"
      },
      "source": [
        "<div dir=rtl> ما می توانیم تصویر را مشاهده کنیم:"
      ]
    },
    {
      "cell_type": "code",
      "metadata": {
        "id": "FjK_udkunpAK"
      },
      "source": [
        "image=Image.open(path)\n",
        "image"
      ],
      "execution_count": null,
      "outputs": []
    },
    {
      "cell_type": "markdown",
      "metadata": {
        "id": "RwDlxW2fnpAL"
      },
      "source": [
        "<div dir=rtl><h2 id=\"URL_P\">درخواست دادن با استفاده از پارامترهای URL </h2>\n"
      ]
    },
    {
      "cell_type": "markdown",
      "metadata": {
        "id": "kgv5IDcVnpAL"
      },
      "source": [
        "<div dir=rtl> برای اصلاح نتایج درخواست خود می توانید از متد  <b> GET </b> استفاده کنید. به عنوان مثال در بازیابی داده ها از API. ما درخواست <b> GET </b> را به سرور ارسال می کنیم. مشابه قبل ما URL پایه را داریم و در مسیر <code> get/</code> را ضمیمه می کنیم. این نشان می دهد که ما می خواهیم یک درخواست را داشته باشیم. جدول زیر این مطلب را نشان می دهد."
      ]
    },
    {
      "cell_type": "markdown",
      "metadata": {
        "id": "LXrz47afnpAM"
      },
      "source": [
        "<div class=\"alert alert-block alert-info\" style=\"margin-top: 20px\">\n",
        "         <img src=\"https://s3-api.us-geo.objectstorage.softlayer.net/cf-courses-data/CognitiveClass/PY0101EN/images/base_URL_Route.png\" width=\"400\" align=\"center\">\n",
        "</div>\n"
      ]
    },
    {
      "cell_type": "markdown",
      "metadata": {
        "id": "VgECgHxInpAM"
      },
      "source": [
        "<div dir=rtl> URL پایه برای <code>http://httpbin.org</code> شامل یک درخواست و پاسخ ساده HTTP است. کد پایتونی آن به شکل زیر است."
      ]
    },
    {
      "cell_type": "code",
      "metadata": {
        "id": "1AsRDwFrnpAM"
      },
      "source": [
        "url_get='http://httpbin.org/get'"
      ],
      "execution_count": 163,
      "outputs": []
    },
    {
      "cell_type": "markdown",
      "metadata": {
        "id": "ChNzqkLYnpAM"
      },
      "source": [
        "<div dir=rtl> <a href=\"https://en.wikipedia.org/wiki/Query_string\"> رشته پرس و جو </a> بخشی از یک منبع یاب یکنواخت (URL) است. این اطلاعات دیگری را به وب سرور می فرستد. شروع پرس و جو یک علامت سوال است و به دنبال آن یک سری جفت پارامتر و مقدار وجود دارد. همانطور که در جدول زیر نشان داده شده است، نام پارامتر اول <code> name</code> و مقدار <code> Joseph</code> و نام پارامتر دوم <code> ID</code> و مقدار <code> 123</code> است. هر جفت، پارامتر و مقدار، با یک علامت برابر <code> = </code> از هم جدا می شود.\n",
        "این مجموعه از جفت ها توسط علامت <code> & </code> از هم جدا می شوند."
      ]
    },
    {
      "cell_type": "markdown",
      "metadata": {
        "id": "fqEg6f48npAN"
      },
      "source": [
        "<div class=\"alert alert-block alert-info\" style=\"margin-top: 20px\">\n",
        "         <img src=\"https://s3-api.us-geo.objectstorage.softlayer.net/cf-courses-data/CognitiveClass/PY0101EN/images/query_string.png\" width=\"500\" align=\"center\">\n",
        "</div>\n"
      ]
    },
    {
      "cell_type": "markdown",
      "metadata": {
        "id": "Hb25jilnnpAN"
      },
      "source": [
        "<div dir=rtl>برای ایجاد رشته رشته پرس و جو، یک فرهنگ لغت اضافه کنید. کلیدها نام پارامترها هستند و مقادیر مقدار رشته پرس و جو هستند."
      ]
    },
    {
      "cell_type": "code",
      "metadata": {
        "id": "k74_PbNVnpAN"
      },
      "source": [
        "payload={\"name\":\"Joseph\",\"ID\":\"123\"}"
      ],
      "execution_count": 164,
      "outputs": []
    },
    {
      "cell_type": "markdown",
      "metadata": {
        "id": "xGN61NyjnpAN"
      },
      "source": [
        "<div dir=rtl>سپس فرهنگ لغت <code> payload</code> را به پارامتر <code> params</code> مربوط به تابع <code> ()get</code> انتقال دهید:"
      ]
    },
    {
      "cell_type": "code",
      "metadata": {
        "id": "rFesZPrtnpAN"
      },
      "source": [
        "r=requests.get(url_get,params=payload)"
      ],
      "execution_count": 165,
      "outputs": []
    },
    {
      "cell_type": "markdown",
      "metadata": {
        "id": "5328MyKpnpAN"
      },
      "source": [
        "<div dir=rtl>ما می توانیم <code> URL</code> را چاپ کنیم و نام و مقادیر را ببینیم."
      ]
    },
    {
      "cell_type": "code",
      "metadata": {
        "id": "wWNtB8MZnpAO"
      },
      "source": [
        "r.url"
      ],
      "execution_count": null,
      "outputs": []
    },
    {
      "cell_type": "markdown",
      "metadata": {
        "id": "r2L0u5zWnpAO"
      },
      "source": [
        "<div dir=rtl>هیچ متن درخواستی وجود ندارد."
      ]
    },
    {
      "cell_type": "code",
      "metadata": {
        "id": "lJBkhvY7npAO"
      },
      "source": [
        "print(\"request body:\", r.request.body)"
      ],
      "execution_count": null,
      "outputs": []
    },
    {
      "cell_type": "markdown",
      "metadata": {
        "id": "CSUrbM10npAO"
      },
      "source": [
        "<div dir=rtl>ما می توانیم کد وضعیت را چاپ کنیم."
      ]
    },
    {
      "cell_type": "code",
      "metadata": {
        "id": "pmUmwyUbnpAO"
      },
      "source": [
        "print(r.status_code)"
      ],
      "execution_count": null,
      "outputs": []
    },
    {
      "cell_type": "markdown",
      "metadata": {
        "id": "7jULwnsqnpAP"
      },
      "source": [
        "<div dir=rtl>می توانیم پاسخ را به صورت متن مشاهده کنیم:"
      ]
    },
    {
      "cell_type": "code",
      "metadata": {
        "id": "zgqfLXywnpAP"
      },
      "source": [
        "print(r.text)"
      ],
      "execution_count": null,
      "outputs": []
    },
    {
      "cell_type": "markdown",
      "metadata": {
        "id": "cO3Y745BnpAP"
      },
      "source": [
        "<div dir=rtl>می توانیم به <code> \"Content-Type\"</code> نگاه کنیم."
      ]
    },
    {
      "cell_type": "code",
      "metadata": {
        "id": "B-8qbF-fnpAP"
      },
      "source": [
        "r.headers['Content-Type']"
      ],
      "execution_count": null,
      "outputs": []
    },
    {
      "cell_type": "markdown",
      "metadata": {
        "id": "5JN39BW3npAP"
      },
      "source": [
        "<div dir=rtl>از آنجا که محتوای <code> \"Content-Type\"</code> در قالب <code> JSON</code> است، می توانیم از روش <code> ()json</code> استفاده کنیم. این یک <code>dic را در پایتون برمی گرداند</ code>."
      ]
    },
    {
      "cell_type": "code",
      "metadata": {
        "id": "NK44cuA-npAP"
      },
      "source": [
        "r.json()"
      ],
      "execution_count": null,
      "outputs": []
    },
    {
      "cell_type": "markdown",
      "metadata": {
        "id": "g12vtLutnpAQ"
      },
      "source": [
        "<div dir=rtl>کلید <code> args</code> دارای نام و مقادیر بود:"
      ]
    },
    {
      "cell_type": "code",
      "metadata": {
        "id": "89GkDR6CnpAQ"
      },
      "source": [
        "r.json()['args']"
      ],
      "execution_count": null,
      "outputs": []
    },
    {
      "cell_type": "markdown",
      "metadata": {
        "id": "ZuCkVBgxnpAQ"
      },
      "source": [
        "<div dir=rtl><h2 id=\"POST\">درخواست های ارسال </h2>\n"
      ]
    },
    {
      "cell_type": "markdown",
      "metadata": {
        "id": "vLY2VM8nnpAQ"
      },
      "source": [
        "<div dir=rtl>مانند درخواست <code>GET</code>، برای ارسال داده به سرور از <code> POST</code> استفاده می شود، اما درخواست <code> POST </code> داده ها را در متن درخواست ارسال می کند. برای ارسال درخواست Post در پایتون در <code> URL</code> مسیر را به <code> POST</code> تغییر می دهیم:"
      ]
    },
    {
      "cell_type": "code",
      "metadata": {
        "id": "DuP_LRsenpAQ"
      },
      "source": [
        "url_post='http://httpbin.org/post'"
      ],
      "execution_count": 173,
      "outputs": []
    },
    {
      "cell_type": "markdown",
      "metadata": {
        "id": "5UleTvfsnpAQ"
      },
      "source": [
        "<div dir=rtl>این endpoint انتظار دارد که داده ها به صورت یک فایل یا یک فرم باشند، یک فرم یک راه مناسب برای پیکربندی درخواست HTTP برای ارسال داده ها به یک سرور است."
      ]
    },
    {
      "cell_type": "markdown",
      "metadata": {
        "id": "cJxcwxFPnpAS"
      },
      "source": [
        "<div dir=rtl>برای ایجاد درخواست <code> POST</code> از تابع <code> ()post</code> استفاده می کنیم. متغیر <code> payload </code> به پارامتر <code> data </code> منتقل می شود:"
      ]
    },
    {
      "cell_type": "code",
      "metadata": {
        "id": "qbZpubginpAS"
      },
      "source": [
        "r_post=requests.post(url_post,data=payload)"
      ],
      "execution_count": 174,
      "outputs": []
    },
    {
      "cell_type": "markdown",
      "metadata": {
        "id": "5P16DNDZnpAS"
      },
      "source": [
        "<div dir=rtl>با مقایسه URL  از شی پاسخ درخواست های <code> GET</code> و <code> POST </code> می بینیم که درخواست <code> POST </code> فاقد جفتِ نام و مقدار است."
      ]
    },
    {
      "cell_type": "code",
      "metadata": {
        "id": "YJ6lQod5npAS"
      },
      "source": [
        "print(\"POST request URL:\",r_post.url )\n",
        "print(\"GET request URL:\",r.url)"
      ],
      "execution_count": null,
      "outputs": []
    },
    {
      "cell_type": "markdown",
      "metadata": {
        "id": "4f6WdOp8npAS"
      },
      "source": [
        "<div dir=rtl>ما می توانیم متن درخواست <code> POST</code> و <code> GET</code> را مقایسه کنیم. می بینیم که فقط درخواست <code> POST</code> دارای بدنه است:"
      ]
    },
    {
      "cell_type": "code",
      "metadata": {
        "id": "VzuA5exInpAS"
      },
      "source": [
        "print(\"POST request body:\",r_post.request.body)\n",
        "print(\"GET request body:\",r.request.body)"
      ],
      "execution_count": null,
      "outputs": []
    },
    {
      "cell_type": "markdown",
      "metadata": {
        "id": "EsQg4wXlnpAT"
      },
      "source": [
        "<div dir=rtl>ما می توانیم فرم را نیز مشاهده کنیم:"
      ]
    },
    {
      "cell_type": "code",
      "metadata": {
        "id": "x0QVfHUBnpAT"
      },
      "source": [
        "r_post.json()['form']"
      ],
      "execution_count": null,
      "outputs": []
    },
    {
      "cell_type": "markdown",
      "metadata": {
        "id": "l0BeZ-eLnpAT"
      },
      "source": [
        "<div dir=rtl>موارد بیشتری وجود دارد که می توانید انجام دهید. <a href=\"https://requests.readthedocs.io/en/master/\"> لینک </a> را برای اطلاعات بیشتر ببینید."
      ]
    }
  ]
}