{
  "nbformat": 4,
  "nbformat_minor": 0,
  "metadata": {
    "kernelspec": {
      "display_name": "Python",
      "language": "python",
      "name": "conda-env-python-py"
    },
    "language_info": {
      "codemirror_mode": {
        "name": "ipython",
        "version": 3
      },
      "file_extension": ".py",
      "mimetype": "text/x-python",
      "name": "python",
      "nbconvert_exporter": "python",
      "pygments_lexer": "ipython3",
      "version": "3.6.7"
    },
    "colab": {
      "name": "Numpy1D.ipynb",
      "provenance": [],
      "collapsed_sections": [],
      "include_colab_link": true
    }
  },
  "cells": [
    {
      "cell_type": "markdown",
      "metadata": {
        "id": "view-in-github",
        "colab_type": "text"
      },
      "source": [
        "<a href=\"https://colab.research.google.com/github/cohanra/main/blob/main/Numpy1D.ipynb\" target=\"_parent\"><img src=\"https://colab.research.google.com/assets/colab-badge.svg\" alt=\"Open In Colab\"/></a>"
      ]
    },
    {
      "cell_type": "markdown",
      "metadata": {
        "id": "wvCkMyq3Tba4"
      },
      "source": [
        "<div dir = rtl>   <h1>Numpy تک بعدی در پایتون</h1>\n",
        "\n",
        "\n"
      ]
    },
    {
      "cell_type": "markdown",
      "metadata": {
        "id": "6FSehq2xTba5"
      },
      "source": [
        "**<div dir = rtl><h2>فهرست مطالب</h2>**\n",
        "<div dir = rtl><div class=\"alert alert-block alert-info\" style=\"margin-top: 20px\">\n",
        "    <ul>\n",
        "        <li><a href=\"pre\">آماده سازی</a></li>\n",
        "        <li>\n",
        "            <a href=\"numpy\">Numpy چیست؟</a>\n",
        "            <ul>\n",
        "                <li><a href=\"type\">نوع</a></li>\n",
        "                <li><a href=\"val\">نسبت دادن مقدار</a></li>\n",
        "                <li><a href=\"slice\">انتخاب محدوده ای از داده ها در آرایه</a></li>\n",
        "                <li><a href=\"list\">نسبت دادن مقدار با استفاده از List</a></li>\n",
        "                <li><a href=\"other\">سایر ویژگی ها</a></li>\n",
        "            </ul>\n",
        "        </li>\n",
        "        <li>\n",
        "            <a href=\"op\">عملیات آرایه های Numpy</a>\n",
        "            <ul>\n",
        "                <li><a href=\"add\"> جمع آرایه ها</a></li>\n",
        "                <li><a href=\"multi\">ضرب عدد در آرایه</a></li>\n",
        "                <li><a href=\"prod\">ضرب دو آرایه</a></li>\n",
        "                <li><a href=\"dot\">محصول نقطه ای</a></li>\n",
        "                <li><a href=\"cons\">اضافه کردن مقدار ثابت به آرایه</a></li>\n",
        "            </ul>\n",
        "        </li>\n",
        "        <li><a href=\"math\"> توابع ریاضی آرایه ها</a></li>\n",
        "        <li><a href=\"lin\">تابع linspace</a></li>\n",
        "    </ul>\n",
        "\n",
        "</div>\n",
        "\n",
        "<hr>"
      ]
    },
    {
      "cell_type": "markdown",
      "metadata": {
        "id": "7LLVtxBhTba6"
      },
      "source": [
        "<div dir = rtl><h2 id=\"pre\">آماده سازی اولیه:</h2>\n",
        "\n",
        "1.   وارد کردن کتابخانه ها\n",
        "2.   تعریف توابع رسم نمودار"
      ]
    },
    {
      "cell_type": "code",
      "metadata": {
        "id": "JTvJE-b1Tba7"
      },
      "source": [
        "#  وارد کردن کتابخانه ها #\n",
        "\n",
        "import time \n",
        "import sys\n",
        "import numpy as np \n",
        "\n",
        "import matplotlib.pyplot as plt\n",
        "%matplotlib inline  "
      ],
      "execution_count": null,
      "outputs": []
    },
    {
      "cell_type": "code",
      "metadata": {
        "jupyter": {
          "outputs_hidden": false
        },
        "id": "_DRDegKDTba7"
      },
      "source": [
        "# تعریف توابع رسم منحنی #\n",
        "\n",
        "def Plotvec1(u, z, v):\n",
        "    \n",
        "    ax = plt.axes()\n",
        "    ax.arrow(0, 0, *u, head_width=0.05, color='r', head_length=0.1)\n",
        "    plt.text(*(u + 0.1), 'u')\n",
        "    ax.arrow(0, 0, *v, head_width=0.05, color='b', head_length=0.1)\n",
        "    plt.text(*(v + 0.1), 'v')\n",
        "    ax.arrow(0, 0, *z, head_width=0.05, head_length=0.1)\n",
        "    plt.text(*(z + 0.1), 'z')\n",
        "    plt.ylim(-2, 2)\n",
        "    plt.xlim(-2, 2)\n",
        "\n",
        "def Plotvec2(a,b):\n",
        "    ax = plt.axes()\n",
        "    ax.arrow(0, 0, *a, head_width=0.05, color ='r', head_length=0.1)\n",
        "    plt.text(*(a + 0.1), 'a')\n",
        "    ax.arrow(0, 0, *b, head_width=0.05, color ='b', head_length=0.1)\n",
        "    plt.text(*(b + 0.1), 'b')\n",
        "    plt.ylim(-2, 2)\n",
        "    plt.xlim(-2, 2)"
      ],
      "execution_count": null,
      "outputs": []
    },
    {
      "cell_type": "markdown",
      "metadata": {
        "id": "cWuLn5Q2Tba8"
      },
      "source": [
        "<div dir = rtl> یک List مشابه زیر تعریف نمایید:"
      ]
    },
    {
      "cell_type": "code",
      "metadata": {
        "jupyter": {
          "outputs_hidden": false
        },
        "id": "_OVwKBxDTba8"
      },
      "source": [
        "a = [\"0\", 1, \"two\", \"3\", 4]"
      ],
      "execution_count": null,
      "outputs": []
    },
    {
      "cell_type": "markdown",
      "metadata": {
        "id": "M0-yOZp4Tba8"
      },
      "source": [
        "<div dir = rtl> ما می توانیم از طریق ایندکس ها به داده های ذخیره شده در لیست دسترسی پیدا کنیم:"
      ]
    },
    {
      "cell_type": "markdown",
      "metadata": {
        "id": "wQmmGAf4Tba9"
      },
      "source": [
        "<img src=\"https://s3-api.us-geo.objectstorage.softlayer.net/cf-courses-data/CognitiveClass/PY0101EN/Chapter%205/Images/NumOneList.png\" width=\"660\" />"
      ]
    },
    {
      "cell_type": "markdown",
      "metadata": {
        "id": "cH1ggM4ATba9"
      },
      "source": [
        "<div dir = rtl>با استفاده از یک براکت دوتایی به صورت زیر می توانیم به هر داده دسترسی پیدا کنیم:"
      ]
    },
    {
      "cell_type": "code",
      "metadata": {
        "jupyter": {
          "outputs_hidden": false
        },
        "id": "WKaVERm7Tba9"
      },
      "source": [
        "# چاپ کردن هر داده با استفاده از ایندکس #\n",
        "print(\"a[0]:\", a[0])\n",
        "print(\"a[1]:\", a[1])\n",
        "print(\"a[2]:\", a[2])\n",
        "print(\"a[3]:\", a[3])\n",
        "print(\"a[4]:\", a[4])"
      ],
      "execution_count": null,
      "outputs": []
    },
    {
      "cell_type": "markdown",
      "metadata": {
        "id": "RGw3b_FbTba-"
      },
      "source": [
        "<hr>"
      ]
    },
    {
      "cell_type": "markdown",
      "metadata": {
        "id": "VEnetJ83Tba-"
      },
      "source": [
        "<div dir = rtl><h2 id=\"numpy\">Numpy چیست؟</h2>"
      ]
    },
    {
      "cell_type": "markdown",
      "metadata": {
        "id": "xPuoDsfXTba_"
      },
      "source": [
        "<div dir = rtl>یک آرایه Numpy مشابه List است. اندازه آن معمولاً ثابت و داده های آن از یک نوع هستند. با عملگر <code>numpy.array</code> می توان یک List را به یک آرایه Numpy تبدیل کرد:"
      ]
    },
    {
      "cell_type": "code",
      "metadata": {
        "jupyter": {
          "outputs_hidden": false
        },
        "id": "KymuPf8QTba_"
      },
      "source": [
        "# وارد کردن کتابخانه #\n",
        "\n",
        "import numpy as np "
      ],
      "execution_count": null,
      "outputs": []
    },
    {
      "cell_type": "markdown",
      "metadata": {
        "id": "_6JDluyITba_"
      },
      "source": [
        "<div dir = rtl> سپس لیست را با استفاده از عملگر <code>numppy.array</code> به آرایه تبدیل می کنیم:"
      ]
    },
    {
      "cell_type": "code",
      "metadata": {
        "jupyter": {
          "outputs_hidden": false
        },
        "id": "u-E6lf_1Tba_"
      },
      "source": [
        "# ایجاد آرایه #\n",
        "\n",
        "a = np.array([0, 1, 2, 3, 4])\n",
        "a"
      ],
      "execution_count": null,
      "outputs": []
    },
    {
      "cell_type": "markdown",
      "metadata": {
        "id": "_ADnaE4RTbbA"
      },
      "source": [
        "<div dir = rtl>نوع داده ها در آرایه یکسان هستند، به عنوان نمونه در مثال زیر همگی داده ها از نوع عدد صحیح می باشند:"
      ]
    },
    {
      "cell_type": "markdown",
      "metadata": {
        "id": "_-JgHQofTbbA"
      },
      "source": [
        "<img src=\"https://s3-api.us-geo.objectstorage.softlayer.net/cf-courses-data/CognitiveClass/PY0101EN/Chapter%205/Images/NumOneNp.png\" width=\"500\" />"
      ]
    },
    {
      "cell_type": "markdown",
      "metadata": {
        "id": "uirgeGqkTbbA"
      },
      "source": [
        "<div dir = rtl>مشابه List، با استفاده از یک براکت دوتایی به صورت زیر می توانیم به هر داده دسترسی پیدا کنیم:"
      ]
    },
    {
      "cell_type": "code",
      "metadata": {
        "jupyter": {
          "outputs_hidden": false
        },
        "id": "wnYpUWLqTbbA"
      },
      "source": [
        "# چاپ کردن هر داده با استفاده از ایندکس #\n",
        "\n",
        "print(\"a[0]:\", a[0])\n",
        "print(\"a[1]:\", a[1])\n",
        "print(\"a[2]:\", a[2])\n",
        "print(\"a[3]:\", a[3])\n",
        "print(\"a[4]:\", a[4])"
      ],
      "execution_count": null,
      "outputs": []
    },
    {
      "cell_type": "markdown",
      "metadata": {
        "id": "0iTsQXMTTbbB"
      },
      "source": [
        "<div dir = rtl><h3 id=\"type\">تعیین نوع داده ها</h3>"
      ]
    },
    {
      "cell_type": "markdown",
      "metadata": {
        "id": "nupHTOAwTbbB"
      },
      "source": [
        "<div dir = rtl>  نوع داده های آرایه را با استفاده از عملگر <code>()type</code> می توانیم مشخص کنیم"
      ]
    },
    {
      "cell_type": "code",
      "metadata": {
        "jupyter": {
          "outputs_hidden": false
        },
        "id": "ip6hQfa2TbbB"
      },
      "source": [
        "# بررسی نوع داده های یک آرایه #\n",
        "\n",
        "type(a)"
      ],
      "execution_count": null,
      "outputs": []
    },
    {
      "cell_type": "markdown",
      "metadata": {
        "id": "6oPOkTkGTbbC"
      },
      "source": [
        "<div dir = rtl>از آنجایی که آرایه های numpy از یک نوع داده هستند، می توانیم از ویژگی \"dtype\" برای بدست آوردن نوع داده های آرایه استفاده کنیم."
      ]
    },
    {
      "cell_type": "code",
      "metadata": {
        "jupyter": {
          "outputs_hidden": false
        },
        "id": "4eEjnK30TbbC"
      },
      "source": [
        "# بررسی نوع مقادیر ذخیره شده در یک آرایه #\n",
        "\n",
        "a.dtype"
      ],
      "execution_count": null,
      "outputs": []
    },
    {
      "cell_type": "markdown",
      "metadata": {
        "id": "pukyj7UVTbbC"
      },
      "source": [
        "<div dir = rtl>می توانیم یک آرایه numpy با اعداد واقعی ایجاد کنیم:"
      ]
    },
    {
      "cell_type": "code",
      "metadata": {
        "jupyter": {
          "outputs_hidden": false
        },
        "id": "fFov0yxOTbbC"
      },
      "source": [
        "# ایجاد یک آرایه #\n",
        "\n",
        "b = np.array([3.1, 11.02, 6.2, 213.2, 5.2])"
      ],
      "execution_count": null,
      "outputs": []
    },
    {
      "cell_type": "markdown",
      "metadata": {
        "id": "WwqpeFx4TbbD"
      },
      "source": [
        "<div dir = rtl>  نوع داده های آرایه را با استفاده از عملگر <code>()type</code> می توانیم مشخص کنیم"
      ]
    },
    {
      "cell_type": "code",
      "metadata": {
        "jupyter": {
          "outputs_hidden": false
        },
        "id": "mgc3QiNFTbbD"
      },
      "source": [
        "# بررسی نوع آرایه #\n",
        "\n",
        "type(b)"
      ],
      "execution_count": null,
      "outputs": []
    },
    {
      "cell_type": "markdown",
      "metadata": {
        "id": "1piD2t9TTbbD"
      },
      "source": [
        "<div dir = rtl>اگر نوع داده های آرایه را با استفاده از ویژگی \"dtype\" بررسی کنیم، نوع داده ها float 64 بدست می آیند"
      ]
    },
    {
      "cell_type": "code",
      "metadata": {
        "jupyter": {
          "outputs_hidden": false
        },
        "id": "Sj1jXBDGTbbD"
      },
      "source": [
        "# بررسی نوع داده #\n",
        "\n",
        "b.dtype"
      ],
      "execution_count": null,
      "outputs": []
    },
    {
      "cell_type": "markdown",
      "metadata": {
        "id": "XAbUHPyvTbbE"
      },
      "source": [
        "<div dir = rtl><h3 id=\"val\">نسبت دادن مقدار</h3>"
      ]
    },
    {
      "cell_type": "markdown",
      "metadata": {
        "id": "aUQnfDPDTbbE"
      },
      "source": [
        "<div dir = rtl>ما می توانیم مقدار ذخیره شده در آرایه را تغییر دهیم. ابتدا آرایه c را به روش زیر ایجاد می نماییم:"
      ]
    },
    {
      "cell_type": "code",
      "metadata": {
        "jupyter": {
          "outputs_hidden": false
        },
        "id": "zkvWc9Z0TbbE"
      },
      "source": [
        "# ایجاد آرایه #\n",
        "\n",
        "c = np.array([20, 1, 2, 3, 4])\n",
        "c"
      ],
      "execution_count": null,
      "outputs": []
    },
    {
      "cell_type": "markdown",
      "metadata": {
        "id": "NfRV0EB7TbbF"
      },
      "source": [
        "<div dir = rtl>سپس اولین داده را به مقدار صد به روش زیر تغییر می دهیم:"
      ]
    },
    {
      "cell_type": "code",
      "metadata": {
        "jupyter": {
          "outputs_hidden": false
        },
        "id": "uImEpKXHTbbF"
      },
      "source": [
        "# نسبت دادن اولین داده به مقدار صد #\n",
        "\n",
        "c[0] = 100\n",
        "c"
      ],
      "execution_count": null,
      "outputs": []
    },
    {
      "cell_type": "markdown",
      "metadata": {
        "id": "coaVXEgnTbbG"
      },
      "source": [
        "<div dir = rtl>سپس پنجمین داده را به مقدار صفر به روش زیر تغییر می دهیم:"
      ]
    },
    {
      "cell_type": "code",
      "metadata": {
        "jupyter": {
          "outputs_hidden": false
        },
        "id": "U88noRwZTbbG"
      },
      "source": [
        "# نسبت دادن پنجمین داده به مقدار صفر #\n",
        "\n",
        "c[4] = 0\n",
        "c"
      ],
      "execution_count": null,
      "outputs": []
    },
    {
      "cell_type": "markdown",
      "metadata": {
        "id": "uQaAAhC0TbbG"
      },
      "source": [
        "<div dir = rtl><h3 id=\"slice\">انتخاب محدوده ای از داده های یک آرایه</h3>"
      ]
    },
    {
      "cell_type": "markdown",
      "metadata": {
        "id": "YNfESf_aTbbG"
      },
      "source": [
        "<div dir = rtl>مشابه List ما می توانیم محدوده ای از داده ها را انتخاب کرده و داده های انتخاب شده را در یک آرایه جدید ذخیره نماییم."
      ]
    },
    {
      "cell_type": "code",
      "metadata": {
        "jupyter": {
          "outputs_hidden": false
        },
        "id": "QbcAx0U-TbbH"
      },
      "source": [
        "# انتخاب محدوده ای از داده های یک آرایه #\n",
        "\n",
        "d = c[1:4]\n",
        "d"
      ],
      "execution_count": null,
      "outputs": []
    },
    {
      "cell_type": "markdown",
      "metadata": {
        "id": "7wYi8XDjTbbH"
      },
      "source": [
        "<div dir = rtl> ما همچنین می توانیم در یک زمان چند داده را در آرایه به روش زیر و با ایندکس نمودن تغییر دهیم."
      ]
    },
    {
      "cell_type": "code",
      "metadata": {
        "jupyter": {
          "outputs_hidden": false
        },
        "id": "4LcBornfTbbH"
      },
      "source": [
        "# تغییر چهار و پنجمین داده به مقادیر سیصد و چهارصد #\n",
        "\n",
        "c[3:5] = 300, 400\n",
        "c"
      ],
      "execution_count": null,
      "outputs": []
    },
    {
      "cell_type": "markdown",
      "metadata": {
        "id": "ni5j4yhNTbbH"
      },
      "source": [
        "<div dir = rtl> <h3 id=\"list\">نسبت دادن مقدار آرایه با استفاده از List</h3>"
      ]
    },
    {
      "cell_type": "markdown",
      "metadata": {
        "id": "5m_R0QP0TbbH"
      },
      "source": [
        "<div dir = rtl> به طور مشابه ما می توانیم از List برای انتخاب کردن ایندکس های خاص استفاده نماییم. به مثال زیر توجه نمایید:"
      ]
    },
    {
      "cell_type": "code",
      "metadata": {
        "id": "Ub6tnIloTbbI"
      },
      "source": [
        "# ایجاد یک لیست ایندکس #\n",
        "\n",
        "select = [0, 2, 3]"
      ],
      "execution_count": null,
      "outputs": []
    },
    {
      "cell_type": "markdown",
      "metadata": {
        "id": "_wUzxv2STbbI"
      },
      "source": [
        "<div dir = rtl> ما می توانیم List ایجاد شده را به صورت یک Argument  در داخل براکت استفاده کنیم. \n",
        "خروجی، داده های ایندکس های انتخاب شده است."
      ]
    },
    {
      "cell_type": "code",
      "metadata": {
        "jupyter": {
          "outputs_hidden": false
        },
        "id": "krtYddpiTbbI"
      },
      "source": [
        "# استفاده از لیست برای انتخاب داده ها #\n",
        "\n",
        "d = c[select]\n",
        "d"
      ],
      "execution_count": null,
      "outputs": []
    },
    {
      "cell_type": "markdown",
      "metadata": {
        "id": "80NkhAYUTbbI"
      },
      "source": [
        "<div dir = rtl> ما می توانیم در ایندکس مشخصی مقدار خاصی را ذخیره کنیم. به مثال زیر توجه نمایید:"
      ]
    },
    {
      "cell_type": "code",
      "metadata": {
        "jupyter": {
          "outputs_hidden": false
        },
        "id": "uPZZNQ_mTbbJ"
      },
      "source": [
        "# نسبت دادن ایندکس مشخص به یک مقدار خاص #\n",
        "\n",
        "c[select] = 100000\n",
        "c"
      ],
      "execution_count": null,
      "outputs": []
    },
    {
      "cell_type": "markdown",
      "metadata": {
        "id": "jEC0aZUMTbbJ"
      },
      "source": [
        "<div dir = rtl> <h3 id=\"other\">سایر ویژگی ها</h3>"
      ]
    },
    {
      "cell_type": "markdown",
      "metadata": {
        "id": "5vcaogezTbbJ"
      },
      "source": [
        "<div dir = rtl> اجازه بدهید برخی از ویژگی های آرایه ها را با هم مرور نماییم."
      ]
    },
    {
      "cell_type": "code",
      "metadata": {
        "jupyter": {
          "outputs_hidden": false
        },
        "id": "FPFkIGyBTbbJ"
      },
      "source": [
        "# یک آرایه ایجاد نمایید #\n",
        "\n",
        "a = np.array([0, 1, 2, 3, 4])\n",
        "a"
      ],
      "execution_count": null,
      "outputs": []
    },
    {
      "cell_type": "markdown",
      "metadata": {
        "id": "9SyEp0F8TbbK"
      },
      "source": [
        "<div dir = rtl> ویژگی <code>size</code> تعداد عناصر آرایه می باشد."
      ]
    },
    {
      "cell_type": "code",
      "metadata": {
        "jupyter": {
          "outputs_hidden": false
        },
        "id": "o8sWgGZXTbbK"
      },
      "source": [
        "# اندازه آرایه را بدست آورید #\n",
        "\n",
        "a.size"
      ],
      "execution_count": null,
      "outputs": []
    },
    {
      "cell_type": "markdown",
      "metadata": {
        "id": "j_5hGMI2TbbK"
      },
      "source": [
        "<div dir = rtl> دو ویژگی که در ادامه می آید زمانی که ابعاد بالتر از آرایه داشته باشیم ملموس تر هستند.\n",
        "ویژگی <code>ndim</code> نمایانگر تعداد ابعاد آرایه می باشد."
      ]
    },
    {
      "cell_type": "code",
      "metadata": {
        "jupyter": {
          "outputs_hidden": false
        },
        "id": "VXzeyBeKTbbK"
      },
      "source": [
        "# تعداد ابعاد آرایه را بدست آورید #\n",
        "\n",
        "a.ndim"
      ],
      "execution_count": null,
      "outputs": []
    },
    {
      "cell_type": "markdown",
      "metadata": {
        "id": "kz2fxb2TTbbL"
      },
      "source": [
        "<div dir = rtl> خروجی ویژگی <code>shape</code>، تاپل اعداد صحیح بوده که نمایانگر اندازه آرایه در هر بعد می باشد."
      ]
    },
    {
      "cell_type": "code",
      "metadata": {
        "jupyter": {
          "outputs_hidden": false
        },
        "id": "zdadg1g7TbbL"
      },
      "source": [
        "# اندازه آرایه را بدست آورید #\n",
        "\n",
        "a.shape"
      ],
      "execution_count": null,
      "outputs": []
    },
    {
      "cell_type": "code",
      "metadata": {
        "id": "B2wxORbBTbbL"
      },
      "source": [
        "# یک آرایه به صورت زیر ایجاد نمایید #\n",
        "\n",
        "a = np.array([1, -1, 1, -1])"
      ],
      "execution_count": null,
      "outputs": []
    },
    {
      "cell_type": "code",
      "metadata": {
        "jupyter": {
          "outputs_hidden": false
        },
        "id": "1L9LX4uoTbbL"
      },
      "source": [
        "# میانگین آرایه را محاسبه نمایید #\n",
        "\n",
        "mean = a.mean()\n",
        "mean"
      ],
      "execution_count": null,
      "outputs": []
    },
    {
      "cell_type": "code",
      "metadata": {
        "jupyter": {
          "outputs_hidden": false
        },
        "id": "YJ3vu1qBTbbM"
      },
      "source": [
        "# انحراف از معیار آرایه را محاسبه نمایید #\n",
        "\n",
        "standard_deviation=a.std()\n",
        "standard_deviation"
      ],
      "execution_count": null,
      "outputs": []
    },
    {
      "cell_type": "code",
      "metadata": {
        "jupyter": {
          "outputs_hidden": false
        },
        "id": "abOL-miCTbbM"
      },
      "source": [
        "# یک آرایه به صورت زیر ایجاد نمایید #\n",
        "\n",
        "b = np.array([-1, 2, 3, 4, 5])\n",
        "b"
      ],
      "execution_count": null,
      "outputs": []
    },
    {
      "cell_type": "code",
      "metadata": {
        "jupyter": {
          "outputs_hidden": false
        },
        "id": "LXHWokSLTbbM"
      },
      "source": [
        "# بزرگ ترین مقدار آرایه را محاسبه نمایید #\n",
        "\n",
        "max_b = b.max()\n",
        "max_b"
      ],
      "execution_count": null,
      "outputs": []
    },
    {
      "cell_type": "code",
      "metadata": {
        "jupyter": {
          "outputs_hidden": false
        },
        "id": "QBkdkf3wTbbM"
      },
      "source": [
        "# کوچک ترین مقدار آرایه را محاسبه نمایید #\n",
        "\n",
        "min_b = b.min()\n",
        "min_b"
      ],
      "execution_count": null,
      "outputs": []
    },
    {
      "cell_type": "markdown",
      "metadata": {
        "id": "VzTxTiARTbbN"
      },
      "source": [
        "<hr>"
      ]
    },
    {
      "cell_type": "markdown",
      "metadata": {
        "id": "zFv6uS5MTbbN"
      },
      "source": [
        "<div dir = rtl> <h2 id=\"op\"> عملیات آرایه ها</h2>"
      ]
    },
    {
      "cell_type": "markdown",
      "metadata": {
        "id": "508d8QzpTbbN"
      },
      "source": [
        "<div dir = rtl> <h3 id=\"add\">جمع آرایه ها</h3>"
      ]
    },
    {
      "cell_type": "markdown",
      "metadata": {
        "id": "jS0LL2N2TbbN"
      },
      "source": [
        "<div dir = rtl> آرایه <code>u</code> را در نظر بگیرید."
      ]
    },
    {
      "cell_type": "code",
      "metadata": {
        "jupyter": {
          "outputs_hidden": false
        },
        "id": "dBTIkZPLTbbN"
      },
      "source": [
        "u = np.array([1, 0])\n",
        "u"
      ],
      "execution_count": null,
      "outputs": []
    },
    {
      "cell_type": "markdown",
      "metadata": {
        "id": "ENX4LOvYTbbO"
      },
      "source": [
        "<div dir = rtl> آرایه <code>v</code> را در نظر بگیرید."
      ]
    },
    {
      "cell_type": "code",
      "metadata": {
        "jupyter": {
          "outputs_hidden": false
        },
        "id": "qPgqlDG3TbbO"
      },
      "source": [
        "v = np.array([0, 1])\n",
        "v"
      ],
      "execution_count": null,
      "outputs": []
    },
    {
      "cell_type": "markdown",
      "metadata": {
        "id": "3MfDHwV5TbbO"
      },
      "source": [
        "<div dir = rtl> ما می توانیم آرایه ها را با هم جمع کنیم و در آرایه <code>z</code> ذخیره نماییم."
      ]
    },
    {
      "cell_type": "code",
      "metadata": {
        "jupyter": {
          "outputs_hidden": false
        },
        "id": "1sk50nQSTbbO"
      },
      "source": [
        "# جمع آرایه ها #\n",
        "\n",
        "z = u + v\n",
        "z"
      ],
      "execution_count": null,
      "outputs": []
    },
    {
      "cell_type": "markdown",
      "metadata": {
        "id": "T2XidGUQTbbP"
      },
      "source": [
        "<div dir = rtl> عملیات بالا برابر است با جمع وکتورها که با رسم نمودار در زیر توضیح داده شده است."
      ]
    },
    {
      "cell_type": "code",
      "metadata": {
        "jupyter": {
          "outputs_hidden": false
        },
        "id": "xJDwQPxkTbbP"
      },
      "source": [
        "# آرایه های فوق را رسم کنید #\n",
        "\n",
        "Plotvec1(u, z, v)"
      ],
      "execution_count": null,
      "outputs": []
    },
    {
      "cell_type": "markdown",
      "metadata": {
        "id": "uzUcjoViTbbQ"
      },
      "source": [
        "<div dir = rtl> <h3 id=\"multi\">ضرب آرایه ها</h3>"
      ]
    },
    {
      "cell_type": "markdown",
      "metadata": {
        "id": "Ij8Du5ViTbbR"
      },
      "source": [
        "<div dir = rtl> آرایه <code>y</code> را در نظر بگیرید."
      ]
    },
    {
      "cell_type": "code",
      "metadata": {
        "jupyter": {
          "outputs_hidden": false
        },
        "id": "Vz03ob89TbbR"
      },
      "source": [
        "# یک آرایه ایجاد نمایید #\n",
        "\n",
        "y = np.array([1, 2])\n",
        "y"
      ],
      "execution_count": null,
      "outputs": []
    },
    {
      "cell_type": "markdown",
      "metadata": {
        "id": "HqJxTqogTbbS"
      },
      "source": [
        "<div dir = rtl> ما می توانیم هر داده در آرایه را در عدد دو ضرب نماییم."
      ]
    },
    {
      "cell_type": "code",
      "metadata": {
        "jupyter": {
          "outputs_hidden": false
        },
        "id": "rWYbVxluTbbS"
      },
      "source": [
        "# ضرب یک عدد در آرایه #\n",
        "\n",
        "z = 2 * y\n",
        "z"
      ],
      "execution_count": null,
      "outputs": []
    },
    {
      "cell_type": "markdown",
      "metadata": {
        "id": "DUefCcBJTbbS"
      },
      "source": [
        "<div dir = rtl> این روش برابر است با ضرب یک وکتور با یک مقدار عددی."
      ]
    },
    {
      "cell_type": "markdown",
      "metadata": {
        "id": "PKwvZdTxTbbS"
      },
      "source": [
        "<div dir = rtl> <h3 id=\"prod\">حاصلضرب دو آرایه</h3>"
      ]
    },
    {
      "cell_type": "markdown",
      "metadata": {
        "id": "7D69aOY5TbbS"
      },
      "source": [
        "<div dir = rtl> آرایه <code>u</code> را در نظر بگیرید."
      ]
    },
    {
      "cell_type": "code",
      "metadata": {
        "jupyter": {
          "outputs_hidden": false
        },
        "id": "UtMwzkDkTbbT"
      },
      "source": [
        "# یک آرایه ایجاد نمایید #\n",
        "\n",
        "u = np.array([1, 2])\n",
        "u"
      ],
      "execution_count": null,
      "outputs": []
    },
    {
      "cell_type": "markdown",
      "metadata": {
        "id": "OCci_bGETbbT"
      },
      "source": [
        "<div dir = rtl> آرایه <code>v</code> را در نظر بگیرید."
      ]
    },
    {
      "cell_type": "code",
      "metadata": {
        "jupyter": {
          "outputs_hidden": false
        },
        "id": "8dHXZKD9TbbT"
      },
      "source": [
        "# یک آرایه ایجاد نمایید #\n",
        "\n",
        "v = np.array([3, 2])\n",
        "v"
      ],
      "execution_count": null,
      "outputs": []
    },
    {
      "cell_type": "markdown",
      "metadata": {
        "id": "vVkCCqxGTbbT"
      },
      "source": [
        "<div dir = rtl> حاصلضرب آرایه های <code>u</code> و <code>v</code>  به صورت زیر محاسبه می شود."
      ]
    },
    {
      "cell_type": "code",
      "metadata": {
        "jupyter": {
          "outputs_hidden": false
        },
        "id": "3-ISuWR_TbbT"
      },
      "source": [
        "# محاسبه حاصلضرب دو آرایه #\n",
        "\n",
        "z = u * v\n",
        "z"
      ],
      "execution_count": null,
      "outputs": []
    },
    {
      "cell_type": "markdown",
      "metadata": {
        "id": "CBuK_g2fTbbU"
      },
      "source": [
        "<div dir = rtl>  <h3 id=\"dot\">محصول نقطه ای</h3>"
      ]
    },
    {
      "cell_type": "markdown",
      "metadata": {
        "id": "GjfOggVrTbbU"
      },
      "source": [
        "<div dir = rtl> محصول نقطه ای آرایه های <code>u</code> و <code>v</code>  به صورت زیر محاسبه می شود."
      ]
    },
    {
      "cell_type": "code",
      "metadata": {
        "jupyter": {
          "outputs_hidden": false
        },
        "id": "JkokGzQVTbbU"
      },
      "source": [
        "# محصول نقطه ای آرایه های زیر را محاسبه کنید #\n",
        "\n",
        "np.dot(u, v)"
      ],
      "execution_count": null,
      "outputs": []
    },
    {
      "cell_type": "markdown",
      "metadata": {
        "id": "r1X0BiFsTbbU"
      },
      "source": [
        "<div dir = rtl> <h3 id=\"cons\">اضافه کردن یک عدد ثابت به آرایه</h3>"
      ]
    },
    {
      "cell_type": "markdown",
      "metadata": {
        "id": "34hS6BXXTbbU"
      },
      "source": [
        "<div dir = rtl> آرایه زیر را در نظر بگیرید."
      ]
    },
    {
      "cell_type": "code",
      "metadata": {
        "jupyter": {
          "outputs_hidden": false
        },
        "id": "TnZJcBoNTbbV"
      },
      "source": [
        "# یک آرایه ایجاد نمایید #\n",
        "\n",
        "u = np.array([1, 2, 3, -1]) \n",
        "u"
      ],
      "execution_count": null,
      "outputs": []
    },
    {
      "cell_type": "markdown",
      "metadata": {
        "id": "vYVX2QEwTbbV"
      },
      "source": [
        "<div dir = rtl> عدد یک را به هر یک از عناصر آرایه اضافه کنید."
      ]
    },
    {
      "cell_type": "code",
      "metadata": {
        "jupyter": {
          "outputs_hidden": false
        },
        "id": "fVmXyXtGTbbV"
      },
      "source": [
        "# اضافه کردن عدد یک به هر یک از عناصر آرایه #\n",
        "\n",
        "u + 1"
      ],
      "execution_count": null,
      "outputs": []
    },
    {
      "cell_type": "markdown",
      "metadata": {
        "id": "iGC5efmrTbbV"
      },
      "source": [
        " <div dir = rtl> فرآیند انجام شده در زیر نمایش داده شده است."
      ]
    },
    {
      "cell_type": "markdown",
      "metadata": {
        "id": "HeS8Mpf1TbbV"
      },
      "source": [
        "<img src=\"https://s3-api.us-geo.objectstorage.softlayer.net/cf-courses-data/CognitiveClass/PY0101EN/Chapter%205/Images/NumOneAdd.gif\" width=\"500\" />"
      ]
    },
    {
      "cell_type": "markdown",
      "metadata": {
        "id": "gcbRZzHVTbbV"
      },
      "source": [
        "<hr>"
      ]
    },
    {
      "cell_type": "markdown",
      "metadata": {
        "id": "o_rP7ZLhTbbW"
      },
      "source": [
        "<div dir = rtl> <h2 id=\"math\">توابع محاسباتی</h2>"
      ]
    },
    {
      "cell_type": "markdown",
      "metadata": {
        "id": "ag9P_KKyTbbW"
      },
      "source": [
        "<div dir = rtl> ما می تونیم مقدار عدد پی را توسط Numpy بدست آوریم."
      ]
    },
    {
      "cell_type": "code",
      "metadata": {
        "jupyter": {
          "outputs_hidden": false
        },
        "id": "XYFVQlStTbbW"
      },
      "source": [
        "# مقدار عدد پی #\n",
        "\n",
        "np.pi"
      ],
      "execution_count": null,
      "outputs": []
    },
    {
      "cell_type": "markdown",
      "metadata": {
        "id": "u7Sri1Y2TbbW"
      },
      "source": [
        "<div dir = rtl> ما می توانیم یک آرایه به واحد رادیان به صورت زیر ایجاد نماییم."
      ]
    },
    {
      "cell_type": "code",
      "metadata": {
        "jupyter": {
          "outputs_hidden": false
        },
        "id": "COpgAX7rTbbW"
      },
      "source": [
        "# ایجاد آرایه به واحد رادیان #\n",
        "\n",
        "x = np.array([0, np.pi/2 , np.pi])"
      ],
      "execution_count": null,
      "outputs": []
    },
    {
      "cell_type": "markdown",
      "metadata": {
        "id": "pIpAVE_HTbbX"
      },
      "source": [
        "<div dir = rtl> ما می توانیم تابع <code>sin</code> را بروی آرایه <code>x</code> بکار برده و مقادیر عددی حاصله را در آرایه <code>y</code> ذخیره نماییم. این عمل باعث می شود تابع sine بر روی هر داده در آرایه اعمال شود."
      ]
    },
    {
      "cell_type": "code",
      "metadata": {
        "jupyter": {
          "outputs_hidden": false
        },
        "id": "XfMwn7uHTbbX"
      },
      "source": [
        "# سینوس هر داده در آرایه را محاسبه نمایید #\n",
        "\n",
        "y = np.sin(x)\n",
        "y"
      ],
      "execution_count": null,
      "outputs": []
    },
    {
      "cell_type": "markdown",
      "metadata": {
        "id": "sU6t__-9TbbX"
      },
      "source": [
        "<hr>"
      ]
    },
    {
      "cell_type": "markdown",
      "metadata": {
        "id": "Q4E9raf1TbbX"
      },
      "source": [
        "<div dir = rtl> <h2 id=\"lin\">تابع Linspace</h2>"
      ]
    },
    {
      "cell_type": "markdown",
      "metadata": {
        "id": "Pn6mFGAJTbbX"
      },
      "source": [
        "<div dir = rtl> تابع Linspace یک تابع کاربردی در رسم توابع ریاضی می باشد.\n",
        "تابع Linespace در یک بازه مشخص، اعداد با فاصله مساوی را ایجاد می نماید. ما ابتدا نقطه شروع و پایان را مشخص می کنیم. سپس با استفاده از پارامتر \"num\" تعداد نمونه ها بدست می آید. به مثال زیر توجه نمایید:"
      ]
    },
    {
      "cell_type": "code",
      "metadata": {
        "jupyter": {
          "outputs_hidden": false
        },
        "id": "r7VObKvQTbbX"
      },
      "source": [
        "# یک آرایه در بازه -2 و 2 با تعداد پنج عضو ایجاد نمایید #\n",
        "\n",
        "np.linspace(-2, 2, num=5)"
      ],
      "execution_count": null,
      "outputs": []
    },
    {
      "cell_type": "markdown",
      "metadata": {
        "id": "ptauqFj7TbbY"
      },
      "source": [
        "<div dir = rtl> اگر ما پارامتر <code>num</code> را به عدد 9 تغییر دهیم 9 عدد در بازه -2 و 2 خواهیم داشت."
      ]
    },
    {
      "cell_type": "code",
      "metadata": {
        "jupyter": {
          "outputs_hidden": false
        },
        "id": "uhcdjL-yTbbY"
      },
      "source": [
        "# یک آرایه در بازه -2 و 2 با تعداد 9 عضو ایجاد نمایید #\n",
        "\n",
        "np.linspace(-2, 2, num=9)"
      ],
      "execution_count": null,
      "outputs": []
    },
    {
      "cell_type": "markdown",
      "metadata": {
        "id": "sREafneLTbbY"
      },
      "source": [
        "<div dir = rtl> ما می توانیم با استفاده ار این تابع 100 عضو بین بازه  0 تا 2π داشته باشیم."
      ]
    },
    {
      "cell_type": "code",
      "metadata": {
        "jupyter": {
          "outputs_hidden": false
        },
        "id": "LWvtJV7hTbbZ"
      },
      "source": [
        "# یک آرایه در بازه صفر الی 2 پی با تعداد 100 عضو ایجاد نمایید #\n",
        "\n",
        "x = np.linspace(0, 2*np.pi, num=100)"
      ],
      "execution_count": null,
      "outputs": []
    },
    {
      "cell_type": "markdown",
      "metadata": {
        "id": "DMumbYThTbbZ"
      },
      "source": [
        "<div dir = rtl> سپس ما می توانیم تابع sine را بروی هر عضو <code>x</code> اعمال کرده و آن را در آرایه <code>y</code> ذخیره نماییم. "
      ]
    },
    {
      "cell_type": "code",
      "metadata": {
        "id": "XuUFkh8JTbbZ"
      },
      "source": [
        "# سینوس عضوهای آرایه ایکس را محاسبه نمایید #\n",
        "y = np.sin(x)"
      ],
      "execution_count": null,
      "outputs": []
    },
    {
      "cell_type": "code",
      "metadata": {
        "jupyter": {
          "outputs_hidden": false
        },
        "id": "flmRgutZTbbZ"
      },
      "source": [
        "# نتیجه را رسم نمایید #\n",
        "\n",
        "plt.plot(x, y)"
      ],
      "execution_count": null,
      "outputs": []
    },
    {
      "cell_type": "markdown",
      "metadata": {
        "id": "qwaRbnPwTbbZ"
      },
      "source": [
        "<hr>"
      ]
    },
    {
      "cell_type": "markdown",
      "metadata": {
        "id": "-jFK1aouTbba"
      },
      "source": [
        "<div dir = rtl> <h2 id=\"quiz\">آزمون</h2>"
      ]
    },
    {
      "cell_type": "markdown",
      "metadata": {
        "id": "K9D02aH1Tbba"
      },
      "source": [
        "<div dir = rtl> دو آرایه زیر را از هم تفریق کنید:"
      ]
    },
    {
      "cell_type": "code",
      "metadata": {
        "id": "dXrEfwMbTbba"
      },
      "source": [
        "# پاسخ خود را اینجا بنویسید #"
      ],
      "execution_count": null,
      "outputs": []
    },
    {
      "cell_type": "markdown",
      "metadata": {
        "id": "7hz20EMkTbbc"
      },
      "source": [
        "راه حل مساله را با دوبار کلیک کردن در اینجا بیابید\n",
        "\n",
        "<!-- Your answer is below:\n",
        "u - v\n",
        "-->"
      ]
    },
    {
      "cell_type": "markdown",
      "metadata": {
        "id": "rWuAt5E1Tbbc"
      },
      "source": [
        "<hr>"
      ]
    },
    {
      "cell_type": "markdown",
      "metadata": {
        "id": "qe_bhW8WTbbc"
      },
      "source": [
        "<div dir = rtl> آرایه z را در عدد -2 ضرب نمایید."
      ]
    },
    {
      "cell_type": "code",
      "metadata": {
        "id": "kyDsTTzHTbbd"
      },
      "source": [
        "# پاسخ خود را اینجا بنویسید #"
      ],
      "execution_count": null,
      "outputs": []
    },
    {
      "cell_type": "markdown",
      "metadata": {
        "id": "w85o_wZBTbbd"
      },
      "source": [
        "راه حل مساله را با دوبار کلیک کردن در اینجا بیابید\n",
        "\n",
        "<!-- Your answer is below:\n",
        "-2 * z\n",
        "-->"
      ]
    },
    {
      "cell_type": "markdown",
      "metadata": {
        "id": "gAISoUdiTbbd"
      },
      "source": [
        "<hr>"
      ]
    },
    {
      "cell_type": "markdown",
      "metadata": {
        "id": "d0otn05wTbbd"
      },
      "source": [
        "<div dir = rtl> لیست های <code>[1,2,3,4,5]</code> و <code>[1,0,1,0,1]</code> را در نظر بگیرید. دو لیست فوق را ابتدا به آرایه تبدیل کرده و سپس آنها را با هم ضرب نمایید."
      ]
    },
    {
      "cell_type": "code",
      "metadata": {
        "id": "pZrZK678Tbbd"
      },
      "source": [
        "# پاسخ خود را اینجا بنویسید #"
      ],
      "execution_count": null,
      "outputs": []
    },
    {
      "cell_type": "markdown",
      "metadata": {
        "id": "c3iDbAo8Tbbe"
      },
      "source": [
        "راه حل مساله را با دوبار کلیک کردن در اینجا بیابید\n",
        "\n",
        "<!-- Your answer is below:\n",
        "a = np.array([1, 2, 3, 4, 5])\n",
        "b = np.array([1, 0, 1, 0, 1])\n",
        "a * b\n",
        "-->"
      ]
    },
    {
      "cell_type": "markdown",
      "metadata": {
        "id": "XHwedFjwTbbe"
      },
      "source": [
        "<hr>"
      ]
    },
    {
      "cell_type": "markdown",
      "metadata": {
        "id": "KsZvU0sBTbbe"
      },
      "source": [
        "<div dir = rtl>لیست های <code>[1,1-]</code> و <code>[1,1]</code> به آرایه های a و b تبدیل کرده و سپس با استفاده از تابع <code>Plotvec2</code> آنها را رسم نمایید. در انتها محصول نقطه ای دو آرایه فوق را نیز محاسبه کنید."
      ]
    },
    {
      "cell_type": "code",
      "metadata": {
        "id": "1-IdG5O5Tbbe"
      },
      "source": [
        "# پاسخ خود را اینجا بنویسید #"
      ],
      "execution_count": null,
      "outputs": []
    },
    {
      "cell_type": "markdown",
      "metadata": {
        "id": "CPerBNB-Tbbf"
      },
      "source": [
        "راه حل مساله را با دوبار کلیک کردن در اینجا بیابید\n",
        "\n",
        "<!-- Your answer is below:\n",
        "a = np.array([-1, 1])\n",
        "b = np.array([1, 1])\n",
        "Plotvec2(a, b)\n",
        "print(\"The dot product is\", np.dot(a,b))\n",
        "-->"
      ]
    },
    {
      "cell_type": "markdown",
      "metadata": {
        "id": "wQlEOGbOTbbf"
      },
      "source": [
        "<hr>"
      ]
    },
    {
      "cell_type": "markdown",
      "metadata": {
        "id": "5kk7aebRTbbf"
      },
      "source": [
        "<div dir = rtl>لیست های <code>[1,0]</code> و <code>[0,1]</code> به آرایه های a و b تبدیل کرده و سپس با استفاده از تابع <code>Plotvec2</code> آنها را رسم نمایید. در انتها محصول نقطه ای دو آرایه فوق را نیز محاسبه کنید."
      ]
    },
    {
      "cell_type": "code",
      "metadata": {
        "id": "Dg6MgTkFTbbg"
      },
      "source": [
        "# پاسخ خود را اینجا بنویسید #"
      ],
      "execution_count": null,
      "outputs": []
    },
    {
      "cell_type": "markdown",
      "metadata": {
        "id": "qDvD-b0yTbbg"
      },
      "source": [
        "راه حل مساله را با دوبار کلیک کردن در اینجا بیابید\n",
        "\n",
        "<!-- \n",
        "a = np.array([1, 0])\n",
        "b = np.array([0, 1])\n",
        "Plotvec2(a, b)\n",
        "print(\"The dot product is\", np.dot(a, b))\n",
        " -->"
      ]
    },
    {
      "cell_type": "markdown",
      "metadata": {
        "id": "TmSeuU9NTbbg"
      },
      "source": [
        "<hr>"
      ]
    },
    {
      "cell_type": "markdown",
      "metadata": {
        "id": "amYWOv0_Tbbg"
      },
      "source": [
        "<div dir = rtl>لیست های <code>[1,1]</code> و <code>[0,1]</code> به آرایه های a و b تبدیل کرده و سپس با استفاده از تابع <code>Plotvec2</code> آنها را رسم نمایید. در انتها محصول نقطه ای دو آرایه فوق را نیز محاسبه کنید."
      ]
    },
    {
      "cell_type": "code",
      "metadata": {
        "id": "NR5taHPkTbbg"
      },
      "source": [
        "# پاسخ خود را اینجا بنویسید #"
      ],
      "execution_count": null,
      "outputs": []
    },
    {
      "cell_type": "markdown",
      "metadata": {
        "id": "_13iRqR8Tbbh"
      },
      "source": [
        "راه حل مساله را با دوبار کلیک کردن در اینجا بیابید\n",
        "\n",
        "<!-- \n",
        "a = np.array([1, 1])\n",
        "b = np.array([0, 1])\n",
        "Plotvec2(a, b)\n",
        "print(\"The dot product is\", np.dot(a, b))\n",
        "print(\"The dot product is\", np.dot(a, b))\n",
        " -->"
      ]
    },
    {
      "cell_type": "markdown",
      "metadata": {
        "id": "HyFqTxZgTbbh"
      },
      "source": [
        "<hr>"
      ]
    },
    {
      "cell_type": "markdown",
      "metadata": {
        "id": "H8T0SQD2Tbbh"
      },
      "source": [
        "<div dir = rtl>چرا محصول نقطه ای دو آرایه <code>[1,1-]</code> و <code>[1,1]</code> و همچنین محصول نقطه ای دو آرایه <code>[1,0]</code> و <code>[0,1]</code> صفر هستند ولی محصول نقطه ای دو آرایه <code>[0,1]</code> و <code>[1,1]</code> صفر نمی باشد؟\n",
        "\n",
        "راهنمایی: به نمودارهای رسم شده هر آرایه نگاه کنید. به جهت هر یک از وکتورها توجه نموده و سپس پاسخ را در سلول پایین بنویسید."
      ]
    },
    {
      "cell_type": "code",
      "metadata": {
        "id": "QY4YbQwyTbbh"
      },
      "source": [
        "print('پاسخ خود را اینجا بنویسید')"
      ],
      "execution_count": null,
      "outputs": []
    },
    {
      "cell_type": "markdown",
      "metadata": {
        "id": "HnAglM8vTbbi"
      },
      "source": [
        "راه حل مساله را با دوبار کلیک کردن در اینجا بیابید\n",
        "\n",
        "<!-- \n",
        "از آنجاییکه جفت وکتورهای ابتدایی نسبت به هم عمود هستند، لذا محصول نقطه ای آنها برابر صفر خواهد بود \n",
        "-->"
      ]
    }
  ]
}