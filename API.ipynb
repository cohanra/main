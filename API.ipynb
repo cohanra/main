{
  "nbformat": 4,
  "nbformat_minor": 0,
  "metadata": {
    "kernelspec": {
      "display_name": "Python",
      "language": "python",
      "name": "conda-env-python-py"
    },
    "language_info": {
      "codemirror_mode": {
        "name": "ipython",
        "version": 3
      },
      "file_extension": ".py",
      "mimetype": "text/x-python",
      "name": "python",
      "nbconvert_exporter": "python",
      "pygments_lexer": "ipython3",
      "version": "3.6.7"
    },
    "colab": {
      "name": "API.ipynb",
      "provenance": [],
      "collapsed_sections": [],
      "include_colab_link": true
    }
  },
  "cells": [
    {
      "cell_type": "markdown",
      "metadata": {
        "id": "view-in-github",
        "colab_type": "text"
      },
      "source": [
        "<a href=\"https://colab.research.google.com/github/cohanra/main/blob/main/API.ipynb\" target=\"_parent\"><img src=\"https://colab.research.google.com/assets/colab-badge.svg\" alt=\"Open In Colab\"/></a>"
      ]
    },
    {
      "cell_type": "markdown",
      "metadata": {
        "id": "7pNkOQhfY0OT"
      },
      "source": [
        "<div dir=rtl> <h1>مترجم زبان</h1>"
      ]
    },
    {
      "cell_type": "markdown",
      "metadata": {
        "id": "3F4IwatgY0OE"
      },
      "source": [
        "<div dir=rtl> <p> در این قسمت ابتدا شما یک فایل صوتی را به یک فایل متنی با استفاده از Speech to Text API تبدیل کرده و سپس با استفاده از Language Translator API متن انگلیسی را به اسپانیایی ترجمه خواهید کرد.\n",
        "\n",
        "<b>نکته:</b> شما باید API keys و endpoints را برای انجام کامل مراحل فراخوانی نمایید.</p>"
      ]
    },
    {
      "cell_type": "markdown",
      "metadata": {
        "id": "rXFoSVVBY0OF"
      },
      "source": [
        "<div dir=rtl><div class=\"alert alert-block alert-info\" style=\"margin-top: 20px\">\n",
        "<h2>فهرست مطالب</h2>\n",
        "<ul>\n",
        "    <li><a href=\"#ref0\">تبدیل صحبت به متن</a></li>\n",
        "    <li><a href=\"#ref1\">مترجم زبان</a></li>\n",
        "</ul>\n",
        "</div>"
      ]
    },
    {
      "cell_type": "code",
      "metadata": {
        "jupyter": {
          "outputs_hidden": false
        },
        "id": "J4sowjgvY0OG"
      },
      "source": [
        "# شما به کتابخانه زیر نیاز دارید # \n",
        "!pip install ibm_watson wget"
      ],
      "execution_count": null,
      "outputs": []
    },
    {
      "cell_type": "markdown",
      "metadata": {
        "id": "MVgDj74vY0OH"
      },
      "source": [
        "<div dir=rtl><h2 id=\"ref0\">تبدیل صحبت به متن</h2>"
      ]
    },
    {
      "cell_type": "markdown",
      "metadata": {
        "id": "YWQWk8vkY0OH"
      },
      "source": [
        "<div dir=rtl><p> در ابتدا <code>SpeechToTextV1</code> را از <code>ibm_watson</code> بدست می آوریم. برای اطلاعات بیشتر در مورد API <a href=\"https://cloud.ibm.com/apidocs/speech-to-text?code=python\">اینجا</a> را کلیک کنید.<p>"
      ]
    },
    {
      "cell_type": "code",
      "metadata": {
        "jupyter": {
          "outputs_hidden": false
        },
        "id": "7sSR_XxQY0OI"
      },
      "source": [
        "from ibm_watson import SpeechToTextV1 \n",
        "import json\n",
        "from ibm_cloud_sdk_core.authenticators import IAMAuthenticator"
      ],
      "execution_count": 2,
      "outputs": []
    },
    {
      "cell_type": "markdown",
      "metadata": {
        "id": "YBtFAvarY0OI"
      },
      "source": [
        "<div dir=rtl><p> سرویس endpoint بر اساس محل قرار گیری service instance می باشد. ما اطلاعات را در متغیر URL ذخیره می کنیم. برای اطلاع از اینکه کدام URL استفاده می شود service credentials را مشاهده نمایید.</p>"
      ]
    },
    {
      "cell_type": "code",
      "metadata": {
        "id": "J0Gi2xmGY0OI"
      },
      "source": [
        "url_s2t = \"https://api.eu-gb.speech-to-text.watson.cloud.ibm.com/instances/c65cadc5-954b-45a9-876b-d2da9e7ad7f5\""
      ],
      "execution_count": 3,
      "outputs": []
    },
    {
      "cell_type": "markdown",
      "metadata": {
        "id": "_wpPc-AfY0OJ"
      },
      "source": [
        "<div dir=rtl> <p> شما احتیاج به یک API key دارید که می توانید آن را از <a href=\"https://cloud.ibm.com/resources\">اینجا </a> بدست آورید.</p>"
      ]
    },
    {
      "cell_type": "code",
      "metadata": {
        "jupyter": {
          "outputs_hidden": false
        },
        "id": "2yYvI4u0Y0OJ"
      },
      "source": [
        "iam_apikey_s2t = \"gJtfM9diRTvC3sEALYzHK_VVEy32EGoicrzjulrWhKbm\""
      ],
      "execution_count": 4,
      "outputs": []
    },
    {
      "cell_type": "markdown",
      "metadata": {
        "id": "9V6GbcfBY0OJ"
      },
      "source": [
        "<div dir=rtl><p>شما با کد دستوری زیر یک <a href=\"http://watson-developer-cloud.github.io/python-sdk/v0.25.0/apis/watson_developer_cloud.speech_to_text_v1.html\">Speech To Text Adapter object</a> ایجاد می کنید که پارامترهای آن endpoint و API key هستند.</p>"
      ]
    },
    {
      "cell_type": "code",
      "metadata": {
        "id": "YLeQt1jbY0OJ"
      },
      "source": [
        "authenticator = IAMAuthenticator(iam_apikey_s2t)\n",
        "s2t = SpeechToTextV1(authenticator=authenticator)\n",
        "s2t.set_service_url(url_s2t)\n",
        "s2t"
      ],
      "execution_count": null,
      "outputs": []
    },
    {
      "cell_type": "markdown",
      "metadata": {
        "id": "uNfvKsG5Y0OK"
      },
      "source": [
        "<div dir=rtl><p> اجازه بدهید ابتدا فایل صوتی را با کد زیر دانلود و کنیم.</p>"
      ]
    },
    {
      "cell_type": "code",
      "metadata": {
        "id": "G2bDM43zY0OK"
      },
      "source": [
        "!wget -O PolynomialRegressionandPipelines.mp3  https://s3-api.us-geo.objectstorage.softlayer.net/cf-courses-data/CognitiveClass/PY0101EN/labs/PolynomialRegressionandPipelines.mp3"
      ],
      "execution_count": null,
      "outputs": []
    },
    {
      "cell_type": "markdown",
      "metadata": {
        "id": "9fAb-tKyY0OK"
      },
      "source": [
        "<div dir=rtl><p>ما مسیر فایل صوتی را که می خواهیم به متن تبدیل کنیم را داریم.</p>"
      ]
    },
    {
      "cell_type": "code",
      "metadata": {
        "jupyter": {
          "outputs_hidden": false
        },
        "id": "y9iGp98wY0OL"
      },
      "source": [
        "filename='PolynomialRegressionandPipelines.mp3'"
      ],
      "execution_count": 9,
      "outputs": []
    },
    {
      "cell_type": "markdown",
      "metadata": {
        "id": "ugy4e2W8Y0OL"
      },
      "source": [
        "<div dir=rtl><p> سپس فایل شیء <code>wav</code> را با استفاده از <code>()with open</code> باز می کنیم. سپس <code>mode</code> را به \"rb\" تنظیم می کنیم. این پارامتر به معنی خواندن در فرمت دودویی (binary) می باشد. سپس با استفاده از دستور <code>recognize</code> متن ایجاد می شود. پارامترهای صدا شامل فایل شیء <code>wav</code> و فرمت فایل صوتی <code>content_type</code> می باشند."
      ]
    },
    {
      "cell_type": "code",
      "metadata": {
        "jupyter": {
          "outputs_hidden": false
        },
        "id": "LuIPJbdPY0OL"
      },
      "source": [
        "with open(filename, mode=\"rb\")  as wav:\n",
        "    response = s2t.recognize(audio=wav, content_type='audio/mp3')"
      ],
      "execution_count": 10,
      "outputs": []
    },
    {
      "cell_type": "markdown",
      "metadata": {
        "id": "ot4Af8scY0OL"
      },
      "source": [
        "<div dir=rtl><p>نتیجه حاوی یک dictionary حاوی متن ترجمه شده می باشد."
      ]
    },
    {
      "cell_type": "code",
      "metadata": {
        "id": "c2Z2x2shY0OL"
      },
      "source": [
        "response.result"
      ],
      "execution_count": null,
      "outputs": []
    },
    {
      "cell_type": "code",
      "metadata": {
        "id": "k7NnUo33Y0OM"
      },
      "source": [
        "from pandas.io.json import json_normalize\n",
        "\n",
        "json_normalize(response.result['results'],\"alternatives\")"
      ],
      "execution_count": null,
      "outputs": []
    },
    {
      "cell_type": "code",
      "metadata": {
        "id": "GuM40hEkY0OM"
      },
      "source": [
        "response"
      ],
      "execution_count": null,
      "outputs": []
    },
    {
      "cell_type": "markdown",
      "metadata": {
        "id": "GVcDMpF3Y0OM"
      },
      "source": [
        "<div dir=rtl><p> ما می توانیم recognized text را بدست آورده و آن را در متغیر <code>recognized_text</code> ذخیره کنیم:</p>"
      ]
    },
    {
      "cell_type": "code",
      "metadata": {
        "jupyter": {
          "outputs_hidden": false
        },
        "id": "_wOe-8T_Y0ON"
      },
      "source": [
        "recognized_text=response.result['results'][0][\"alternatives\"][0][\"transcript\"]\n",
        "type(recognized_text)"
      ],
      "execution_count": null,
      "outputs": []
    },
    {
      "cell_type": "markdown",
      "metadata": {
        "id": "32Ovb4_kY0ON"
      },
      "source": [
        "<div dir=rtl><p> سپس <code>LanguageTranslatorV3</code> را از ibm_watson بازخوانی می کنیم. برای اطلاعات بیشتر <a href=\"https://cloud.ibm.com/apidocs/speech-to-text?code=python\"> اینجا</a> را کلیک نمایید.</p>"
      ]
    },
    {
      "cell_type": "code",
      "metadata": {
        "id": "iwOKUxlIY0ON"
      },
      "source": [
        "from ibm_watson import LanguageTranslatorV3"
      ],
      "execution_count": 15,
      "outputs": []
    },
    {
      "cell_type": "markdown",
      "metadata": {
        "id": "iNPPOgjeY0ON"
      },
      "source": [
        "<div dir=rtl><p> سرویس endpoint بر اساس محل قرار گیری service instance می باشد. ما اطلاعات را در متغیر URL ذخیره می کنیم. برای اطلاع از اینکه کدام URL استفاده می شود service credentials را مشاهده نمایید.</p>"
      ]
    },
    {
      "cell_type": "code",
      "metadata": {
        "jupyter": {
          "outputs_hidden": false
        },
        "id": "h_o9rOzVY0OO"
      },
      "source": [
        "url_lt='https://api.eu-gb.language-translator.watson.cloud.ibm.com/instances/3ce38099-c9d1-4fca-b578-dbade870dd48'"
      ],
      "execution_count": 16,
      "outputs": []
    },
    {
      "cell_type": "markdown",
      "metadata": {
        "id": "vQD76qQHY0OO"
      },
      "source": [
        "<div dir=rtl> <p> شما احتیاج به یک API key دارید که می توانید آن را از <a href=\"https://cloud.ibm.com/resources\">اینجا </a> بدست آورید.</p>"
      ]
    },
    {
      "cell_type": "code",
      "metadata": {
        "jupyter": {
          "outputs_hidden": false
        },
        "id": "006V2C4pY0OO"
      },
      "source": [
        "apikey_lt='QCpA3yg015dgKHlsrFNcNxuoz0-kiHxbmbP0mXyw8dj9'"
      ],
      "execution_count": 17,
      "outputs": []
    },
    {
      "cell_type": "markdown",
      "metadata": {
        "id": "3PZnTX9qY0OO"
      },
      "source": [
        "<div dir=rtl><p> API نیاز به پارامتر version دارد که در آن تاریخ به صورت version=YYYY-MM-DD ذخیره می شود.</p>"
      ]
    },
    {
      "cell_type": "code",
      "metadata": {
        "jupyter": {
          "outputs_hidden": false
        },
        "id": "5RcoPc3FY0OO"
      },
      "source": [
        "version_lt='2018-05-01'"
      ],
      "execution_count": 18,
      "outputs": []
    },
    {
      "cell_type": "markdown",
      "metadata": {
        "id": "mvAvwPU-Y0OP"
      },
      "source": [
        "<div dir=rtl><p> سپس یک شیء <code>language_translator</code> ایجاد می کنیم:</p>"
      ]
    },
    {
      "cell_type": "code",
      "metadata": {
        "jupyter": {
          "outputs_hidden": false
        },
        "id": "wH2LRDT3Y0OP"
      },
      "source": [
        "authenticator = IAMAuthenticator(apikey_lt)\n",
        "language_translator = LanguageTranslatorV3(version=version_lt,authenticator=authenticator)\n",
        "language_translator.set_service_url(url_lt)\n",
        "language_translator"
      ],
      "execution_count": null,
      "outputs": []
    },
    {
      "cell_type": "markdown",
      "metadata": {
        "id": "GfPSveanY0OP"
      },
      "source": [
        "<div dir=rtl><p> ما می توانیم یک List زبان هایی که توسط سرویس شناسایی می شود را مشاهده نماییم. دستور کد زبان را بر می گرداند. برای مثال، انگلیسی به اسپانیایی و نام هر زبان."
      ]
    },
    {
      "cell_type": "code",
      "metadata": {
        "jupyter": {
          "outputs_hidden": false
        },
        "id": "ooNDLjP2Y0OP"
      },
      "source": [
        "from pandas.io.json import json_normalize\n",
        "\n",
        "json_normalize(language_translator.list_identifiable_languages().get_result(), \"languages\")"
      ],
      "execution_count": null,
      "outputs": []
    },
    {
      "cell_type": "markdown",
      "metadata": {
        "id": "25LUWOu8Y0OQ"
      },
      "source": [
        "<div dir=rtl><p>ما می توانیم از <code>translate</code> برای ترجمه متن استفاده نماییم. پارامتر text همان text می باشد. Model_id نوع مدل مورد استفاده می باشد که در اینجا en-es است. در انتها ما جزییات پاسخ شیء  (translation_response) را دریافت می کنیم:"
      ]
    },
    {
      "cell_type": "code",
      "metadata": {
        "jupyter": {
          "outputs_hidden": false
        },
        "id": "zhPbgO9yY0OQ"
      },
      "source": [
        "translation_response = language_translator.translate(text=recognized_text, model_id='en-es')\n",
        "translation_response"
      ],
      "execution_count": null,
      "outputs": []
    },
    {
      "cell_type": "markdown",
      "metadata": {
        "id": "Bk5dNcR_Y0OQ"
      },
      "source": [
        "<div dir=rtl><p>نتیجه یک دیکشنری  (dictionary) می باشد.</p>"
      ]
    },
    {
      "cell_type": "code",
      "metadata": {
        "jupyter": {
          "outputs_hidden": false
        },
        "id": "6hSznx4RY0OR"
      },
      "source": [
        "translation=translation_response.get_result()\n",
        "translation"
      ],
      "execution_count": null,
      "outputs": []
    },
    {
      "cell_type": "markdown",
      "metadata": {
        "id": "N7XIQcL_Y0OR"
      },
      "source": [
        "<div dir=rtl><p> ما می توانیم ترجمه نهایی را به صورت string به صورت زیر بدست آوریم:</p>"
      ]
    },
    {
      "cell_type": "code",
      "metadata": {
        "id": "bHt6xOq9Y0OR"
      },
      "source": [
        "spanish_translation =translation['translations'][0]['translation']\n",
        "spanish_translation "
      ],
      "execution_count": null,
      "outputs": []
    },
    {
      "cell_type": "markdown",
      "metadata": {
        "id": "ejjOaCoMY0OR"
      },
      "source": [
        "<div dir=rtl><p> همچنین ما می توانیم ترجمه را به زبان انگلیسی دوباره برگردانیم:</p>"
      ]
    },
    {
      "cell_type": "code",
      "metadata": {
        "id": "q6mLmHnjY0OS"
      },
      "source": [
        "translation_new = language_translator.translate(text=spanish_translation ,model_id='es-en').get_result()"
      ],
      "execution_count": 24,
      "outputs": []
    },
    {
      "cell_type": "markdown",
      "metadata": {
        "id": "qExz9gNrY0OS"
      },
      "source": [
        "<div dir=rtl><p> ما می توانیم ترجمه نهایی را به صورت string به صورت زیر بدست آوریم:</p>"
      ]
    },
    {
      "cell_type": "code",
      "metadata": {
        "id": "JYFZ3MUKY0OS"
      },
      "source": [
        "translation_eng=translation_new['translations'][0]['translation']\n",
        "translation_eng"
      ],
      "execution_count": null,
      "outputs": []
    },
    {
      "cell_type": "markdown",
      "metadata": {
        "id": "xrCMTCnlY0OS"
      },
      "source": [
        "<div dir=rtl><p> علاوه بر این ما می توانیم ترجمه را به زبان فرانسه نیز داشته باشیم:</p>"
      ]
    },
    {
      "cell_type": "code",
      "metadata": {
        "id": "Z1fCVikgY0OT"
      },
      "source": [
        "French_translation=language_translator.translate(\n",
        "    text=translation_eng , model_id='en-fr').get_result()"
      ],
      "execution_count": 26,
      "outputs": []
    },
    {
      "cell_type": "code",
      "metadata": {
        "id": "AejhTJDJY0OT"
      },
      "source": [
        "French_translation['translations'][0]['translation']"
      ],
      "execution_count": null,
      "outputs": []
    }
  ]
}