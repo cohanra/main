{
  "nbformat": 4,
  "nbformat_minor": 0,
  "metadata": {
    "kernelspec": {
      "display_name": "Python",
      "language": "python",
      "name": "conda-env-python-py"
    },
    "language_info": {
      "codemirror_mode": {
        "name": "ipython",
        "version": 3
      },
      "file_extension": ".py",
      "mimetype": "text/x-python",
      "name": "python",
      "nbconvert_exporter": "python",
      "pygments_lexer": "ipython3",
      "version": "3.6.7"
    },
    "colab": {
      "name": "Numpy2D.ipynb",
      "provenance": [],
      "collapsed_sections": [],
      "include_colab_link": true
    }
  },
  "cells": [
    {
      "cell_type": "markdown",
      "metadata": {
        "id": "view-in-github",
        "colab_type": "text"
      },
      "source": [
        "<a href=\"https://colab.research.google.com/github/cohanra/main/blob/main/Numpy2D.ipynb\" target=\"_parent\"><img src=\"https://colab.research.google.com/assets/colab-badge.svg\" alt=\"Open In Colab\"/></a>"
      ]
    },
    {
      "cell_type": "markdown",
      "metadata": {
        "id": "XcjIzAxMElWI"
      },
      "source": [
        "<div dir = rtl><h1>Numpy دو بعدی در پایتون</h1>\n"
      ]
    },
    {
      "cell_type": "markdown",
      "metadata": {
        "id": "uerGx-WVElWK"
      },
      "source": [
        "**<div dir = rtl><h2>فهرست مطالب</h2>**\n",
        "<div dir = rtl><div class=\"alert alert-block alert-info\" style=\"margin-top: 20px\">\n",
        "    <ul>\n",
        "        <li><a href=\"create\">ایجاد یک آرایه دو بعدی</a></li>\n",
        "        <li><a href=\"access\">دستیابی به عضوهای یک آرایه دو بعدی</a></li>\n",
        "        <li><a href=\"op\">عملیات پایه</a></li>"
      ]
    },
    {
      "cell_type": "markdown",
      "metadata": {
        "id": "Ey4kBSJIElWK"
      },
      "source": [
        "<div dir = rtl> <h2 id=\"create\">ایجاد یک آرایه دو بعدی</h2>"
      ]
    },
    {
      "cell_type": "code",
      "metadata": {
        "id": "7a61y4B3ElWL"
      },
      "source": [
        "#  وارد کردن کتابخانه ها #\n",
        "\n",
        "import numpy as np \n",
        "import matplotlib.pyplot as plt"
      ],
      "execution_count": null,
      "outputs": []
    },
    {
      "cell_type": "markdown",
      "metadata": {
        "id": "5GD3Ao33ElWM"
      },
      "source": [
        "<div dir = rtl> لیست a را در نظر بگیرید. این لیست حاوی سه لیست کوتاه تر با اندازه یکسان می باشد."
      ]
    },
    {
      "cell_type": "code",
      "metadata": {
        "jupyter": {
          "outputs_hidden": false
        },
        "id": "R1dqHQZyElWN"
      },
      "source": [
        "#  یک لیست ایجاد کنید #\n",
        "\n",
        "a = [[11, 12, 13], [21, 22, 23], [31, 32, 33]]\n",
        "a"
      ],
      "execution_count": null,
      "outputs": []
    },
    {
      "cell_type": "markdown",
      "metadata": {
        "id": "BmVS3YabElWP"
      },
      "source": [
        "<div dir = rtl> ما می توانیم این لیست را به صورت زیر به یک آرایه تبدیل کنیم."
      ]
    },
    {
      "cell_type": "code",
      "metadata": {
        "jupyter": {
          "outputs_hidden": false
        },
        "id": "F-D8HZbnElWP"
      },
      "source": [
        "# تبدیل لیست به آرایه #\n",
        "# عضوها از نوع یکسانی هستند #\n",
        "\n",
        "A = np.array(a)\n",
        "A"
      ],
      "execution_count": null,
      "outputs": []
    },
    {
      "cell_type": "markdown",
      "metadata": {
        "id": "JxrcFZplElWQ"
      },
      "source": [
        "<div dir = rtl> ما می توانیم با استفاده از ویژگی ndim تعداد محورها یا ابعاد را بدست بیاوریم."
      ]
    },
    {
      "cell_type": "code",
      "metadata": {
        "jupyter": {
          "outputs_hidden": false
        },
        "id": "OcZVONNFElWQ"
      },
      "source": [
        "# ابعاد آرایه زیر را بدست آروید #\n",
        "\n",
        "A.ndim"
      ],
      "execution_count": null,
      "outputs": []
    },
    {
      "cell_type": "markdown",
      "metadata": {
        "id": "HHYnM5CXElWR"
      },
      "source": [
        "<div dir = rtl> خروجی ویژگی <code>shape</code>، تاپل اعداد صحیح بوده که نمایانگر اندازه یا تعداد آرایه در هر بعد می باشد."
      ]
    },
    {
      "cell_type": "code",
      "metadata": {
        "jupyter": {
          "outputs_hidden": false
        },
        "id": "yCCd2REZElWS"
      },
      "source": [
        "# شکل آرایه زیر را بدست آورید #\n",
        "\n",
        "A.shape"
      ],
      "execution_count": null,
      "outputs": []
    },
    {
      "cell_type": "markdown",
      "metadata": {
        "id": "6rjaYSeGElWS"
      },
      "source": [
        "<div dir = rtl> ویژگی <code>size</code> تعداد کل عناصر آرایه را محاسبه می کند."
      ]
    },
    {
      "cell_type": "code",
      "metadata": {
        "jupyter": {
          "outputs_hidden": false
        },
        "id": "86z8o_MVElWT"
      },
      "source": [
        "# اندازه آرایه زیر را بدست آورید #\n",
        "\n",
        "A.size"
      ],
      "execution_count": null,
      "outputs": []
    },
    {
      "cell_type": "markdown",
      "metadata": {
        "id": "DcBF3Ym7ElWT"
      },
      "source": [
        "<hr>"
      ]
    },
    {
      "cell_type": "markdown",
      "metadata": {
        "id": "ia67uaYpElWU"
      },
      "source": [
        "<div dir = rtl><h2 id=\"access\">دستیابی به عضوهای یک آرایه دو بعدی</h2>"
      ]
    },
    {
      "cell_type": "markdown",
      "metadata": {
        "id": "4Y4D87yUElWU"
      },
      "source": [
        "<div dir = rtl> ما می توانیم با استفاده از پرانتزهای مستطیل شکل به عضوهای آرایه های چند بعدی دسترسی پیدا کنیم. در شکل زیر نحوه دستیابی به هر عضو یک آرایه چند بعدی نشان داده شده است."
      ]
    },
    {
      "cell_type": "markdown",
      "metadata": {
        "id": "XrAPcyYkElWU"
      },
      "source": [
        "<img src=\"https://s3-api.us-geo.objectstorage.softlayer.net/cf-courses-data/CognitiveClass/PY0101EN/Chapter%205/Images/NumTwoEg.png\" width=\"500\" />"
      ]
    },
    {
      "cell_type": "markdown",
      "metadata": {
        "id": "ix-hO4exElWU"
      },
      "source": [
        "<div dir = rtl> همچنین ما می توانیم به دومین ردیف سومین ستون آرایه به روش زیر دسترسی پیدا کنیم."
      ]
    },
    {
      "cell_type": "markdown",
      "metadata": {
        "id": "zVlNaLj5ElWV"
      },
      "source": [
        "<img src=\"https://s3-api.us-geo.objectstorage.softlayer.net/cf-courses-data/CognitiveClass/PY0101EN/Chapter%205/Images/NumTwoFT.png\" width=\"400\" />"
      ]
    },
    {
      "cell_type": "markdown",
      "metadata": {
        "id": "kpMvFyceElWV"
      },
      "source": [
        "<div dir = rtl> ما به آسانی با استفاده از براکت های مربعی و و قرار دادن ایندکس های مربوطه در آن به عضوی که مدنظرمان هست دسترسی پیدا کنیم."
      ]
    },
    {
      "cell_type": "code",
      "metadata": {
        "jupyter": {
          "outputs_hidden": false
        },
        "id": "7MlpjZ9wElWV"
      },
      "source": [
        "# دستیابی به عضو در دومین ردیف ستون سوم در یک آرایه #\n",
        "A[1, 2]"
      ],
      "execution_count": null,
      "outputs": []
    },
    {
      "cell_type": "markdown",
      "metadata": {
        "id": "g4QOefzOElWV"
      },
      "source": [
        "<div dir = rtl> همچنین با نوشتن به صورت زیر نیز می توانیم به عضوهای یک آرایه چند بعدی دسترسی پیدا کنیم."
      ]
    },
    {
      "cell_type": "code",
      "metadata": {
        "jupyter": {
          "outputs_hidden": false
        },
        "id": "pexPoIXMElWW"
      },
      "source": [
        "# دستیابی به عضو در دومین ردیف ستون سوم در یک آرایه #\n",
        "\n",
        "A[1][2]"
      ],
      "execution_count": null,
      "outputs": []
    },
    {
      "cell_type": "markdown",
      "metadata": {
        "id": "2BRsOO-fElWW"
      },
      "source": [
        " <div dir = rtl> عضوهای نشان داده شده در شکل زیر را در نظر بگیرید."
      ]
    },
    {
      "cell_type": "markdown",
      "metadata": {
        "id": "JHaJ_UwwElWW"
      },
      "source": [
        "<img src=\"https://s3-api.us-geo.objectstorage.softlayer.net/cf-courses-data/CognitiveClass/PY0101EN/Chapter%205/Images/NumTwoFF.png\" width=\"400\" />"
      ]
    },
    {
      "cell_type": "markdown",
      "metadata": {
        "id": "K5mIwv-zElWW"
      },
      "source": [
        "<div dir = rtl> ما می توانیم به عضو در ردیف اول و ستون اول به روش های زیر دسترسی پیدا کنیم."
      ]
    },
    {
      "cell_type": "code",
      "metadata": {
        "jupyter": {
          "outputs_hidden": false
        },
        "id": "78wkyGqEElWW"
      },
      "source": [
        "# دستیابی به عضو در ردیف اول و ستون اول یک آرایه #\n",
        "\n",
        "A[0][0]\n",
        "A[0,0]"
      ],
      "execution_count": null,
      "outputs": []
    },
    {
      "cell_type": "markdown",
      "metadata": {
        "id": "XBEkjTJQElWX"
      },
      "source": [
        "<div dir = rtl> ما همچنین می توانیم محدوده ای از داده ها را انتخاب کینم. شکل زیر را در نظر بگیرید. ما می خواهیم دو عضو قرار گرفته در ستون های اول و دوم در ردیف اول آرایه را انتخاب کنیم."
      ]
    },
    {
      "cell_type": "markdown",
      "metadata": {
        "id": "ee2iB02GElWX"
      },
      "source": [
        "<img src=\"https://s3-api.us-geo.objectstorage.softlayer.net/cf-courses-data/CognitiveClass/PY0101EN/Chapter%205/Images/NumTwoFSF.png\" width=\"400\" />"
      ]
    },
    {
      "cell_type": "markdown",
      "metadata": {
        "id": "1zHnJee_ElWX"
      },
      "source": [
        "<div dir = rtl> <p> انتخاب آنها با استفاده از دستور زیر انجام می شود. </p>"
      ]
    },
    {
      "cell_type": "code",
      "metadata": {
        "jupyter": {
          "outputs_hidden": false
        },
        "id": "TgpSp0CfElWX"
      },
      "source": [
        "# دستیابی به عضوها در ستون های اول و دوم ردیف اول #\n",
        "\n",
        "A[0][0:2]"
      ],
      "execution_count": null,
      "outputs": []
    },
    {
      "cell_type": "markdown",
      "metadata": {
        "id": "LKNQFaenElWY"
      },
      "source": [
        "<div dir = rtl> <p> بطور مشابه، ما می توانیم عضوهای ستون سوم در دو ردیف اول و دوم را به صورت زیر انتخاب کنیم. <p/>"
      ]
    },
    {
      "cell_type": "code",
      "metadata": {
        "jupyter": {
          "outputs_hidden": false
        },
        "id": "0gpqJNDPElWY"
      },
      "source": [
        "# دسترسی به عضوهای ردیف اول و دوم ستون سوم # \n",
        "\n",
        "A[1:3, 2]"
      ],
      "execution_count": null,
      "outputs": []
    },
    {
      "cell_type": "markdown",
      "metadata": {
        "id": "auR2O-xIElWY"
      },
      "source": [
        "<div dir = rtl> <p> این انتخاب در شکل زیر نمایش داده شده است. <p/>"
      ]
    },
    {
      "cell_type": "markdown",
      "metadata": {
        "id": "KviQs59gElWY"
      },
      "source": [
        "<img src=\"https://s3-api.us-geo.objectstorage.softlayer.net/cf-courses-data/CognitiveClass/PY0101EN/Chapter%205/Images/NumTwoTST.png\" width=\"400\" />"
      ]
    },
    {
      "cell_type": "markdown",
      "metadata": {
        "id": "iMAqZlxQElWY"
      },
      "source": [
        "<hr>"
      ]
    },
    {
      "cell_type": "markdown",
      "metadata": {
        "id": "KQnTo-n7ElWZ"
      },
      "source": [
        "<div dir = rtl><h2 id=\"op\">عملیات پایه</h2>"
      ]
    },
    {
      "cell_type": "markdown",
      "metadata": {
        "id": "rR0yqTUsElWZ"
      },
      "source": [
        "<div dir = rtl> ما می توانیم آرایه های چند بعدی را با هم جمع نماییم. فرآیند مشابه جمع ماتریس ها می باشد. جمع ماتریس های x و y در شکل زیر نشان داده شده است."
      ]
    },
    {
      "cell_type": "markdown",
      "metadata": {
        "id": "PpB4D9ncElWZ"
      },
      "source": [
        "<img src=\"https://s3-api.us-geo.objectstorage.softlayer.net/cf-courses-data/CognitiveClass/PY0101EN/Chapter%205/Images/NumTwoAdd.png\" width=\"500\" />"
      ]
    },
    {
      "cell_type": "markdown",
      "metadata": {
        "id": "lbM64bC9ElWZ"
      },
      "source": [
        "<div dir = rtl> ابتدا آرایه های x و y را ایجاد می نماییم."
      ]
    },
    {
      "cell_type": "code",
      "metadata": {
        "jupyter": {
          "outputs_hidden": false
        },
        "id": "ELbJrYbMElWZ"
      },
      "source": [
        "# ایجاد آرایه ایکس #\n",
        "\n",
        "X = np.array([[1, 0], [0, 1]]) \n",
        "X"
      ],
      "execution_count": null,
      "outputs": []
    },
    {
      "cell_type": "code",
      "metadata": {
        "jupyter": {
          "outputs_hidden": false
        },
        "id": "dZd0Edg4ElWa"
      },
      "source": [
        "# ایجاد آرایه ایگرگ #\n",
        "\n",
        "Y = np.array([[2, 1], [1, 2]]) \n",
        "Y"
      ],
      "execution_count": null,
      "outputs": []
    },
    {
      "cell_type": "markdown",
      "metadata": {
        "id": "GdOrCnpLElWa"
      },
      "source": [
        "<div dir = rtl> سپس ما می توانیم آرایه های مذکور را با هم جمع نماییم."
      ]
    },
    {
      "cell_type": "code",
      "metadata": {
        "jupyter": {
          "outputs_hidden": false
        },
        "id": "DvBBlnMdElWa"
      },
      "source": [
        "# جمع کردن دو آرایه #\n",
        "\n",
        "Z = X + Y\n",
        "Z"
      ],
      "execution_count": null,
      "outputs": []
    },
    {
      "cell_type": "markdown",
      "metadata": {
        "id": "qtpXSkQUElWb"
      },
      "source": [
        "<div dir=rtl>   ضرب کردن یک آرایه چند بعدی در یک عدد ثابت مشابه ضرب یک عدد در ماتریس می باشد. بدین صورت که هر عدد در آرایه در عدد مذکور ضرب و حاصل بجای عدد آن موقعیت نوشته می شود. شکل زیر را ببینید."
      ]
    },
    {
      "cell_type": "markdown",
      "metadata": {
        "id": "SseDX82VElWb"
      },
      "source": [
        "<img src=\"https://s3-api.us-geo.objectstorage.softlayer.net/cf-courses-data/CognitiveClass/PY0101EN/Chapter%205/Images/NumTwoDb.png\" width=\"500\" />"
      ]
    },
    {
      "cell_type": "markdown",
      "metadata": {
        "id": "7mUKBNapElWb"
      },
      "source": [
        "<div dir=rtl> در زیر مثال ضرب یک عدد در یک آرایه دو بعدی آورده شده است."
      ]
    },
    {
      "cell_type": "code",
      "metadata": {
        "jupyter": {
          "outputs_hidden": false
        },
        "id": "18NjkLYcElWb"
      },
      "source": [
        "# ایجاد یک آرایه دو بعدی #\n",
        "\n",
        "Y = np.array([[2, 1], [1, 2]]) \n",
        "Y"
      ],
      "execution_count": null,
      "outputs": []
    },
    {
      "cell_type": "code",
      "metadata": {
        "jupyter": {
          "outputs_hidden": false
        },
        "id": "qivNu8ZUElWb"
      },
      "source": [
        "# ضرب آرایه در عدد دو #\n",
        "\n",
        "Z = 2 * Y\n",
        "Z"
      ],
      "execution_count": null,
      "outputs": []
    },
    {
      "cell_type": "markdown",
      "metadata": {
        "id": "YQYjjYxwElWc"
      },
      "source": [
        "<div dir=rtl> <p> ضرب دو آرایه به صورت ضرب عضوهای مشابه می باشد. برای درک بهتر ماتریس های x و y را در نظر بگیرید. حاصلضرب دو آرایه شامل ضرب هر عضو آرایه اول با عضو مشابه (جایگاه یکسان) در آرایه دوم می باشد. این مورد در شکل زیر با رنگ نمایش داده شده است. حاصلضرب دو آرایه، آرایه ای با اندازه مشابه آرایه های x و y می باشد. </p>"
      ]
    },
    {
      "cell_type": "markdown",
      "metadata": {
        "id": "m4cDgGnzElWc"
      },
      "source": [
        "<img src=\"https://s3-api.us-geo.objectstorage.softlayer.net/cf-courses-data/CognitiveClass/PY0101EN/Chapter%205/Images/NumTwoMul.png\" width=\"500\" />"
      ]
    },
    {
      "cell_type": "markdown",
      "metadata": {
        "id": "INOTxNk1ElWc"
      },
      "source": [
        "<div dir=rtl> حاصلضرب دو آرایه x و y به صورت زیر انجام می شود. ابتدا آرایه های x و y را ایجاد می کنیم."
      ]
    },
    {
      "cell_type": "code",
      "metadata": {
        "jupyter": {
          "outputs_hidden": false
        },
        "id": "uCKvTX-yElWc"
      },
      "source": [
        "Y = np.array([[2, 1], [1, 2]]) \n",
        "Y"
      ],
      "execution_count": null,
      "outputs": []
    },
    {
      "cell_type": "code",
      "metadata": {
        "jupyter": {
          "outputs_hidden": false
        },
        "id": "rtiA9T-DElWc"
      },
      "source": [
        "X = np.array([[1, 0], [0, 1]]) \n",
        "X"
      ],
      "execution_count": null,
      "outputs": []
    },
    {
      "cell_type": "code",
      "metadata": {
        "jupyter": {
          "outputs_hidden": false
        },
        "id": "ahBgQZ6aElWd"
      },
      "source": [
        "Z = X*Y\n",
        "Z"
      ],
      "execution_count": null,
      "outputs": []
    },
    {
      "cell_type": "markdown",
      "metadata": {
        "id": "ZWBxvcczElWd"
      },
      "source": [
        "<div dir=rtl> ضرب ماتریسی دو آرایه A و B بصورت زیر انجام می شود."
      ]
    },
    {
      "cell_type": "markdown",
      "metadata": {
        "id": "6PqrNWmIElWd"
      },
      "source": [
        "<div dir=rtl> ابتدا دو آرایه A و B را ایجاد می کنیم."
      ]
    },
    {
      "cell_type": "code",
      "metadata": {
        "jupyter": {
          "outputs_hidden": false
        },
        "id": "fO-u9oFAElWd"
      },
      "source": [
        "A = np.array([[0, 1, 1], [1, 0, 1]])\n",
        "A"
      ],
      "execution_count": null,
      "outputs": []
    },
    {
      "cell_type": "code",
      "metadata": {
        "jupyter": {
          "outputs_hidden": false
        },
        "id": "nkGWDCZ7ElWe"
      },
      "source": [
        "B = np.array([[1, 1], [1, 1], [-1, 1]])\n",
        "B"
      ],
      "execution_count": null,
      "outputs": []
    },
    {
      "cell_type": "markdown",
      "metadata": {
        "id": "u1ZyjCjvElWe"
      },
      "source": [
        "<div dir=rtl> سپس از تابع <code>dot</code> برای ضرب دو آرایه استفاده می کنیم."
      ]
    },
    {
      "cell_type": "code",
      "metadata": {
        "jupyter": {
          "outputs_hidden": false
        },
        "id": "zOeNkcu0ElWe"
      },
      "source": [
        "Z = np.dot(A,B)\n",
        "Z"
      ],
      "execution_count": null,
      "outputs": []
    },
    {
      "cell_type": "code",
      "metadata": {
        "jupyter": {
          "outputs_hidden": false
        },
        "id": "luOaoGn4ElWe"
      },
      "source": [
        "# سینوس آرایه بالا (زی) را حساب کنید #\n",
        "\n",
        "np.sin(Z)"
      ],
      "execution_count": null,
      "outputs": []
    },
    {
      "cell_type": "markdown",
      "metadata": {
        "id": "VCtEQ4JHElWe"
      },
      "source": [
        "<div dir=rtl>  ما می توانیم از ویژگی <code>T</code> برای محاسبه ماتریس جابجا استفاده کنیم. \n",
        "ماتریس جابجا (Transposed matrix)  ماتریسی است که جای سطرها و ستون های آن نسبت به ماتریس اول عوض شده است."
      ]
    },
    {
      "cell_type": "code",
      "metadata": {
        "jupyter": {
          "outputs_hidden": false
        },
        "id": "0nPlIR3qElWf"
      },
      "source": [
        "# ایجاد ماتریس #\n",
        "\n",
        "C = np.array([[1,1],[2,2],[3,3]])\n",
        "C"
      ],
      "execution_count": null,
      "outputs": []
    },
    {
      "cell_type": "code",
      "metadata": {
        "jupyter": {
          "outputs_hidden": false
        },
        "id": "Zv5bHm9WElWf"
      },
      "source": [
        "# ایجاد ماتریس جابجا #\n",
        "\n",
        "C.T"
      ],
      "execution_count": null,
      "outputs": []
    }
  ]
}