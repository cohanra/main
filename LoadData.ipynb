{
  "nbformat": 4,
  "nbformat_minor": 0,
  "metadata": {
    "anaconda-cloud": {},
    "kernelspec": {
      "display_name": "Python 3",
      "language": "python",
      "name": "python3"
    },
    "language_info": {
      "codemirror_mode": {
        "name": "ipython",
        "version": 3
      },
      "file_extension": ".py",
      "mimetype": "text/x-python",
      "name": "python",
      "nbconvert_exporter": "python",
      "pygments_lexer": "ipython3",
      "version": "3.6.6"
    },
    "colab": {
      "name": "LoadData.ipynb",
      "provenance": [],
      "collapsed_sections": [],
      "include_colab_link": true
    }
  },
  "cells": [
    {
      "cell_type": "markdown",
      "metadata": {
        "id": "view-in-github",
        "colab_type": "text"
      },
      "source": [
        "<a href=\"https://colab.research.google.com/github/cohanra/main/blob/main/LoadData.ipynb\" target=\"_parent\"><img src=\"https://colab.research.google.com/assets/colab-badge.svg\" alt=\"Open In Colab\"/></a>"
      ]
    },
    {
      "cell_type": "markdown",
      "metadata": {
        "id": "jefg4fxaTIyy"
      },
      "source": [
        "<div dir=rtl> <h1>معرفی Pandas در پایتون</h1>"
      ]
    },
    {
      "cell_type": "markdown",
      "metadata": {
        "id": "bBQFhhhvTIyy"
      },
      "source": [
        "<div dir=rtl> در این قسمت با Pandas در زبان برنامه نویسی پایتون آشنا خواهید شد. با استفاده از این بسته شما قادر خواهید بود که به داده ها دسترسی پیدا کنید."
      ]
    },
    {
      "cell_type": "markdown",
      "metadata": {
        "id": "z8NHY84oTIyy"
      },
      "source": [
        "<div dir=rtl> <h2>فهرست مطالب</h2>\n",
        "<div class=\"alert alert-block alert-info\" style=\"margin-top: 20px\">\n",
        "    <ul>\n",
        "        <li><a href=\"dataset\">آشنایی با مجموعه داده</a></li>\n",
        "        <li><a href=\"pandas\">آشنایی با pandas</a></li>\n",
        "        <li><a href=\"data\">دیدن و دسترسی به داده ها</a></li>\n",
        "        <li><a href=\"quiz\">آزمون</a></li>\n",
        "    </ul>\n",
        "</div>\n",
        "\n",
        "<hr>"
      ]
    },
    {
      "cell_type": "markdown",
      "metadata": {
        "id": "Lwo1xyfCTIyz"
      },
      "source": [
        "<div dir=rtl> <h2 id=\"dataset\">مجموعه داده (Dataset)</h2>"
      ]
    },
    {
      "cell_type": "markdown",
      "metadata": {
        "id": "KoM9AD0cTIyz"
      },
      "source": [
        "<div dir=rtl> جدول زیر حاوی یک ردیف برای هر آلبوم با چندین ستون که هر ستون در زیر توضیح داده شده اند می باشد:\n",
        "<ul>\n",
        "    <li><b>artist</b>: نام هنرمند</li>\n",
        "    <li><b>album</b>: نام آلبوم</li>\n",
        "    <li><b>released_year</b>: سال انتشار آلبوم</li>\n",
        "    <li><b>length_min_sec</b>: مدت زمان آلبوم (ساعت,دقیقه,ثانیه)</li>\n",
        "    <li><b>genre</b>: ژانر آلبوم</li>\n",
        "    <li><b>music_recording_sales_millions</b>: میزان فروش ثبت شده به میلیون دلار در سایت <a href=\"http://www.song-database.com/\">[SONG://DATABASE]</a></li>\n",
        "    <li><b>claimed_sales_millions</b>: میزان فروش ادعا شده در سایت  <a href=\"http://www.song-database.com/\">[SONG://DATABASE]</a></li>\n",
        "    <li><b>date_released</b>: تاریخ انتشار آلبوم</li>\n",
        "    <li><b>soundtrack</b>: نشان می دهد که آلبوم موسیقی متن فیلم است (Y) یا خیر (N)</li>\n",
        "    <li><b>rating_of_friends</b>: امتیازدهی توسط افراد از صفر تا ده</li>\n",
        "</ul>\n",
        "\n",
        "شما می توانید در زیر مجموعه داده را مشاهده کنید:\n",
        "<div dir=ltr>\n",
        "<font size=\"1\">\n",
        "<table font-size:xx-small style=\"width:25%\">\n",
        "  <tr>\n",
        "    <th>Artist</th>\n",
        "    <th>Album</th> \n",
        "    <th>Released</th>\n",
        "    <th>Length</th>\n",
        "    <th>Genre</th> \n",
        "    <th>Music recording sales (millions)</th>\n",
        "    <th>Claimed sales (millions)</th>\n",
        "    <th>Released</th>\n",
        "    <th>Soundtrack</th>\n",
        "    <th>Rating (friends)</th>\n",
        "  </tr>\n",
        "  <tr>\n",
        "    <td>Michael Jackson</td>\n",
        "    <td>Thriller</td> \n",
        "    <td>1982</td>\n",
        "    <td>00:42:19</td>\n",
        "    <td>Pop, rock, R&B</td>\n",
        "    <td>46</td>\n",
        "    <td>65</td>\n",
        "    <td>30-Nov-82</td>\n",
        "    <td></td>\n",
        "    <td>10.0</td>\n",
        "  </tr>\n",
        "  <tr>\n",
        "    <td>AC/DC</td>\n",
        "    <td>Back in Black</td> \n",
        "    <td>1980</td>\n",
        "    <td>00:42:11</td>\n",
        "    <td>Hard rock</td>\n",
        "    <td>26.1</td>\n",
        "    <td>50</td>\n",
        "    <td>25-Jul-80</td>\n",
        "    <td></td>\n",
        "    <td>8.5</td>\n",
        "  </tr>\n",
        "    <tr>\n",
        "    <td>Pink Floyd</td>\n",
        "    <td>The Dark Side of the Moon</td> \n",
        "    <td>1973</td>\n",
        "    <td>00:42:49</td>\n",
        "    <td>Progressive rock</td>\n",
        "    <td>24.2</td>\n",
        "    <td>45</td>\n",
        "    <td>01-Mar-73</td>\n",
        "    <td></td>\n",
        "    <td>9.5</td>\n",
        "  </tr>\n",
        "    <tr>\n",
        "    <td>Whitney Houston</td>\n",
        "    <td>The Bodyguard</td> \n",
        "    <td>1992</td>\n",
        "    <td>00:57:44</td>\n",
        "    <td>Soundtrack/R&B, soul, pop</td>\n",
        "    <td>26.1</td>\n",
        "    <td>50</td>\n",
        "    <td>25-Jul-80</td>\n",
        "    <td>Y</td>\n",
        "    <td>7.0</td>\n",
        "  </tr>\n",
        "    <tr>\n",
        "    <td>Meat Loaf</td>\n",
        "    <td>Bat Out of Hell</td> \n",
        "    <td>1977</td>\n",
        "    <td>00:46:33</td>\n",
        "    <td>Hard rock, progressive rock</td>\n",
        "    <td>20.6</td>\n",
        "    <td>43</td>\n",
        "    <td>21-Oct-77</td>\n",
        "    <td></td>\n",
        "    <td>7.0</td>\n",
        "  </tr>\n",
        "    <tr>\n",
        "    <td>Eagles</td>\n",
        "    <td>Their Greatest Hits (1971-1975)</td> \n",
        "    <td>1976</td>\n",
        "    <td>00:43:08</td>\n",
        "    <td>Rock, soft rock, folk rock</td>\n",
        "    <td>32.2</td>\n",
        "    <td>42</td>\n",
        "    <td>17-Feb-76</td>\n",
        "    <td></td>\n",
        "    <td>9.5</td>\n",
        "  </tr>\n",
        "    <tr>\n",
        "    <td>Bee Gees</td>\n",
        "    <td>Saturday Night Fever</td> \n",
        "    <td>1977</td>\n",
        "    <td>1:15:54</td>\n",
        "    <td>Disco</td>\n",
        "    <td>20.6</td>\n",
        "    <td>40</td>\n",
        "    <td>15-Nov-77</td>\n",
        "    <td>Y</td>\n",
        "    <td>9.0</td>\n",
        "  </tr>\n",
        "    <tr>\n",
        "    <td>Fleetwood Mac</td>\n",
        "    <td>Rumours</td> \n",
        "    <td>1977</td>\n",
        "    <td>00:40:01</td>\n",
        "    <td>Soft rock</td>\n",
        "    <td>27.9</td>\n",
        "    <td>40</td>\n",
        "    <td>04-Feb-77</td>\n",
        "    <td></td>\n",
        "    <td>9.5</td>\n",
        "  </tr>\n",
        "</table></font>"
      ]
    },
    {
      "cell_type": "markdown",
      "metadata": {
        "id": "c2YzJ_99TIy0"
      },
      "source": [
        "<hr>"
      ]
    },
    {
      "cell_type": "markdown",
      "metadata": {
        "id": "tVQyWKqoTIy0"
      },
      "source": [
        "<div dir=rtl><h2 id=\"pandas\">معرفی <code>Pandas</code></h2>"
      ]
    },
    {
      "cell_type": "code",
      "metadata": {
        "id": "QTioSLH1TIy0"
      },
      "source": [
        "!pip install xlrd"
      ],
      "execution_count": null,
      "outputs": []
    },
    {
      "cell_type": "code",
      "metadata": {
        "collapsed": true,
        "id": "WBIh1Bw3TIy1"
      },
      "source": [
        "import pandas as pd"
      ],
      "execution_count": null,
      "outputs": []
    },
    {
      "cell_type": "markdown",
      "metadata": {
        "id": "SJYdXSoRTIy1"
      },
      "source": [
        "<div dir=rtl> بعد از اجرای دو کد دستوری بالا، شما می توانید به تعداد زیادی توابع و کلاس های از پیش تریف شده دسترسی پیدا کنید. pandas این اجازه را به شما می دهد که با داده های ذخیره شده به صورت مجموعه داده کار کنید.\n",
        "ابتدا اجازه دهید که بررسی ها را روی یک فایل <b>csv.</b> انجام دهیم. متغیر <code>csv_path</code> مسیر فایل <b>.csv</b> را ذخیره می کند که به عنوان یک پارامتر تابع <code>read_csv</code> مورد استفاده قرار می گیرد. نتیجه در یک شیء (object) بنام <code>df</code> که نام کوتاه شده مجموعه داده در pandas هست ذخیره می گردد."
      ]
    },
    {
      "cell_type": "code",
      "metadata": {
        "scrolled": true,
        "id": "DIydaub6TIy2"
      },
      "source": [
        "csv_path = 'https://s3-api.us-geo.objectstorage.softlayer.net/cf-courses-data/CognitiveClass/PY0101EN/Chapter%204/Datasets/TopSellingAlbums.csv'\n",
        "df = pd.read_csv(csv_path)"
      ],
      "execution_count": null,
      "outputs": []
    },
    {
      "cell_type": "markdown",
      "metadata": {
        "id": "3VRQiGjJTIy2"
      },
      "source": [
        "<div dir=rtl> ما می توانیم از دستور <code>()head</code> برای بررسی 5 ردیف اول مجموعه داده (df) استفاده کنیم."
      ]
    },
    {
      "cell_type": "code",
      "metadata": {
        "id": "T_DTHU5fTIy2"
      },
      "source": [
        "df.head()"
      ],
      "execution_count": null,
      "outputs": []
    },
    {
      "cell_type": "markdown",
      "metadata": {
        "id": "rFLc_1VjTIy2"
      },
      "source": [
        "<div dir=rtl> ما می توانیم مسیر فایل اکسل و تابع <code>read_excel</code> را برای ذخیره کردن اطلاعات از یک فایل اکسل در یک مجموعه داده (df) استفاده کنیم."
      ]
    },
    {
      "cell_type": "code",
      "metadata": {
        "id": "AQFQRlKeTIy3"
      },
      "source": [
        "xlsx_path = 'https://s3-api.us-geo.objectstorage.softlayer.net/cf-courses-data/CognitiveClass/PY0101EN/Chapter%204/Datasets/TopSellingAlbums.xlsx'\n",
        "\n",
        "df = pd.read_excel(xlsx_path)\n",
        "df.head()"
      ],
      "execution_count": null,
      "outputs": []
    },
    {
      "cell_type": "markdown",
      "metadata": {
        "id": "SXYVigcpTIy3"
      },
      "source": [
        "<div dir=rtl> سپس ما می توانیم به ستون <b>Length</b> دسترسی پیدا کرده و آن را در یک مجموعه داده جدید به نام <b>x</b> ذخیره کنیم."
      ]
    },
    {
      "cell_type": "code",
      "metadata": {
        "id": "bMIf55txTIy3"
      },
      "source": [
        "x = df[['Length']]\n",
        "x"
      ],
      "execution_count": null,
      "outputs": []
    },
    {
      "cell_type": "markdown",
      "metadata": {
        "id": "SWNA3GipTIy3"
      },
      "source": [
        "<div dir=rtl> فرآیند انجام شده در شکل زیر نمایش داده شده است."
      ]
    },
    {
      "cell_type": "markdown",
      "metadata": {
        "id": "gBsQ4eCaTIy3"
      },
      "source": [
        "<img src=\"https://s3-api.us-geo.objectstorage.softlayer.net/cf-courses-data/CognitiveClass/PY0101EN/Chapter%204/Images/DataEgOne.png\" width=\"750\" />"
      ]
    },
    {
      "cell_type": "markdown",
      "metadata": {
        "id": "tve2a22UTIy4"
      },
      "source": [
        "<hr>"
      ]
    },
    {
      "cell_type": "markdown",
      "metadata": {
        "id": "xJE9aTQETIy4"
      },
      "source": [
        "<div dir=rtl><h2 id=\"data\">دیدن داده ها و نحوه دسترسی به آنها</h2>"
      ]
    },
    {
      "cell_type": "markdown",
      "metadata": {
        "id": "Q3HjZDcpTIy4"
      },
      "source": [
        "<div dir=rtl> ما می توانیم به یک ستون به صورت سری (series) دسترسی پیدا کنیم. شما می توانید فکر کنید که این سری به صورت یک مجموعه داده یک بعدی می باشد. برای این دسترسی فقط کافی است که از یک براکت استفاده کنید. به مثال زیر توجه نمایید:"
      ]
    },
    {
      "cell_type": "code",
      "metadata": {
        "id": "AJs8kTsmTIy4"
      },
      "source": [
        "x = df['Length']\n",
        "x"
      ],
      "execution_count": null,
      "outputs": []
    },
    {
      "cell_type": "markdown",
      "metadata": {
        "id": "q5oD5BdPTIy4"
      },
      "source": [
        "<div dir=rtl> همچنین شما می توانید به یک ستون به صورت مجموعه داده دست یابید. برای مثال ما ستون <b>Artist</b> را انتخاب می کنیم:"
      ]
    },
    {
      "cell_type": "code",
      "metadata": {
        "id": "453VovM2TIy5"
      },
      "source": [
        "x = type(df[['Artist']])\n",
        "x"
      ],
      "execution_count": null,
      "outputs": []
    },
    {
      "cell_type": "markdown",
      "metadata": {
        "id": "8uitYG57TIy5"
      },
      "source": [
        "<div dir=rtl> همچنین شما می توانید این کار را برای دسترسی به چندین ستون انجام دهید. فقط کافی است که نام مجموعه داده را قرار داده (در این مثال df) و سپس نام ستون های مورد نظر را در براکت ها قرار دهیم. نتیجه حاصل مجموعه داده جدید حاوی ستون های انتخاب شده می باشد:"
      ]
    },
    {
      "cell_type": "code",
      "metadata": {
        "id": "JEIbQQXgTIy5"
      },
      "source": [
        "y = df[['Artist','Length','Genre']]\n",
        "y"
      ],
      "execution_count": null,
      "outputs": []
    },
    {
      "cell_type": "markdown",
      "metadata": {
        "id": "ISyDHHcJTIy5"
      },
      "source": [
        "<div dir=rtl> فرآیند انجام شده در شکل زیر نمایش داده شده است."
      ]
    },
    {
      "cell_type": "markdown",
      "metadata": {
        "id": "WGnSch8sTIy5"
      },
      "source": [
        "<img src = \"https://s3-api.us-geo.objectstorage.softlayer.net/cf-courses-data/CognitiveClass/PY0101EN/Chapter%204/Images/DataEgTwo.png\" width=\"1100\" />"
      ]
    },
    {
      "cell_type": "markdown",
      "metadata": {
        "id": "EhJ5QJ_CTIy6"
      },
      "source": [
        "<div dir=rtl> یک روش دسترسی به یک داده در مجموعه داده استفاده از کد <code>iloc</code> می باشد. به مثال زیر توجه نمایید:"
      ]
    },
    {
      "cell_type": "code",
      "metadata": {
        "id": "Q1AUFQJdTIy6"
      },
      "source": [
        "# دسترسی به مقدار در اولین ردیف و اولین ستون #\n",
        "\n",
        "df.iloc[0, 0]"
      ],
      "execution_count": null,
      "outputs": []
    },
    {
      "cell_type": "markdown",
      "metadata": {
        "id": "Zsx4K1qXTIy6"
      },
      "source": [
        "<div dir=rtl> دسترسی به مقدار ذخیره شده در مجموعه داده قرار گرفته در اولین ردیف و اولین ستون به صورت زیر انجام می گیرد."
      ]
    },
    {
      "cell_type": "code",
      "metadata": {
        "id": "aLBXONL7TIy6"
      },
      "source": [
        "df.iloc[1,0]"
      ],
      "execution_count": null,
      "outputs": []
    },
    {
      "cell_type": "markdown",
      "metadata": {
        "id": "ZMm2gSiSTIy6"
      },
      "source": [
        "<div dir=rtl> دسترسی به مقدار ذخیره شده در مجموعه داده قرار گرفته در اولین ردیف و سومین ستون به صورت زیر انجام می گیرد."
      ]
    },
    {
      "cell_type": "code",
      "metadata": {
        "id": "_emG8gWETIy7"
      },
      "source": [
        "df.iloc[0,2]"
      ],
      "execution_count": null,
      "outputs": []
    },
    {
      "cell_type": "markdown",
      "metadata": {
        "id": "JxhAdvnHTIy7"
      },
      "source": [
        "<div dir=rtl> شما همچنین می توانید به داده های ذخیره شده در ستون ها با استفاده از نام همان ستون دسترسی پیدا کنید. به مثال های زیر توجه فرمایید:"
      ]
    },
    {
      "cell_type": "code",
      "metadata": {
        "id": "VSXwSvYCTIy7"
      },
      "source": [
        "df.loc[0, 'Artist']"
      ],
      "execution_count": null,
      "outputs": []
    },
    {
      "cell_type": "code",
      "metadata": {
        "id": "uRzcBR-VTIy7"
      },
      "source": [
        "df.loc[1, 'Artist']"
      ],
      "execution_count": null,
      "outputs": []
    },
    {
      "cell_type": "code",
      "metadata": {
        "id": "sszhLfqWTIy7"
      },
      "source": [
        "df.loc[0, 'Released']"
      ],
      "execution_count": null,
      "outputs": []
    },
    {
      "cell_type": "code",
      "metadata": {
        "id": "bMK-jb-ZTIy8"
      },
      "source": [
        "df.loc[1, 'Released']"
      ],
      "execution_count": null,
      "outputs": []
    },
    {
      "cell_type": "markdown",
      "metadata": {
        "id": "RvfOMrmZTIy8"
      },
      "source": [
        "<div dir=rtl> شما همچنین می توانید ترکیبی از روش های Slicing و  ایندکس را برای دسترسی به داده های ذخیره شده در مجموعه داده استفاده کنیم :"
      ]
    },
    {
      "cell_type": "code",
      "metadata": {
        "id": "zoutsxcoTIy8"
      },
      "source": [
        "df.iloc[0:2, 0:3]"
      ],
      "execution_count": null,
      "outputs": []
    },
    {
      "cell_type": "code",
      "metadata": {
        "id": "kuRIv6i0TIy8"
      },
      "source": [
        "df.loc[0:2, 'Artist':'Released']"
      ],
      "execution_count": null,
      "outputs": []
    },
    {
      "cell_type": "markdown",
      "metadata": {
        "id": "iSTpUaczTIy8"
      },
      "source": [
        "<hr>"
      ]
    },
    {
      "cell_type": "markdown",
      "metadata": {
        "id": "TabdB7k3TIy8"
      },
      "source": [
        "<div dir=rtl><h2 id=\"quiz\">آزمون</h2>"
      ]
    },
    {
      "cell_type": "markdown",
      "metadata": {
        "id": "UPp3VJnATIy9"
      },
      "source": [
        "<div dir=rtl> با استفاده از یک متغیر به نام <code>q</code>، ستون <b>Rating</b> را به صورت یک مجموعه داده ذخیره کنید."
      ]
    },
    {
      "cell_type": "code",
      "metadata": {
        "id": "RuxV6rQKTIy9"
      },
      "source": [
        "# پاسخ را در اینجا نوشته و برای تایید آن را اجرا کنید #"
      ],
      "execution_count": null,
      "outputs": []
    },
    {
      "cell_type": "markdown",
      "metadata": {
        "id": "3zVWTDHjTIy9"
      },
      "source": [
        "راه حل مساله را با دوبار کلیک کردن در اینجا بیابید\n",
        "\n",
        "<!-- Your answer is below:\n",
        "q = df[['Rating']]\n",
        "q\n",
        "-->"
      ]
    },
    {
      "cell_type": "markdown",
      "metadata": {
        "id": "WawuL5SqTIy9"
      },
      "source": [
        "<div dir=rtl>  ستون های <b>Released</b> و <b>Artist</b> را در <code>q</code> به یک صورت مجموعه داده ذخیره کنید."
      ]
    },
    {
      "cell_type": "code",
      "metadata": {
        "id": "5515NIFBTIy9"
      },
      "source": [
        "# پاسخ را در اینجا نوشته و برای تایید آن را اجرا کنید #"
      ],
      "execution_count": null,
      "outputs": []
    },
    {
      "cell_type": "markdown",
      "metadata": {
        "id": "lwCJpji1TIy9"
      },
      "source": [
        "راه حل مساله را با دوبار کلیک کردن در اینجا بیابید\n",
        "\n",
        "<!-- Your answer is below:\n",
        "q = df[['Released', 'Artist']]\n",
        "q\n",
        "-->"
      ]
    },
    {
      "cell_type": "markdown",
      "metadata": {
        "id": "jIa7e2RpTIy-"
      },
      "source": [
        "<div dir=rtl>در مجموعه داده <code>df</code>، داده ذخیره شده در دومین ردیفِ ستون سوم را نمایش دهید."
      ]
    },
    {
      "cell_type": "code",
      "metadata": {
        "id": "SMqnDBrPTIy-"
      },
      "source": [
        "# پاسخ را در اینجا نوشته و برای تایید آن را اجرا کنید #"
      ],
      "execution_count": null,
      "outputs": []
    },
    {
      "cell_type": "markdown",
      "metadata": {
        "id": "PuWshKXWTIy-"
      },
      "source": [
        "راه حل مساله را با دوبار کلیک کردن در اینجا بیابید\n",
        "\n",
        "<!-- Your answer is below:\n",
        "df.iloc[1, 2]\n",
        "-->"
      ]
    }
  ]
}